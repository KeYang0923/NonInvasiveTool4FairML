{
 "cells": [
  {
   "cell_type": "code",
   "execution_count": 1,
   "id": "538c6408",
   "metadata": {},
   "outputs": [],
   "source": [
    "import warnings\n",
    "warnings.filterwarnings('ignore')"
   ]
  },
  {
   "cell_type": "code",
   "execution_count": 2,
   "id": "6c59485b",
   "metadata": {},
   "outputs": [],
   "source": [
    "import pandas as pd\n",
    "import numpy as np\n",
    "\n",
    "import matplotlib.pyplot as plt\n",
    "import seaborn as sns\n",
    "import os\n",
    "from pipeline.utils import read_json, make_folder\n"
   ]
  },
  {
   "cell_type": "markdown",
   "id": "d8a4bba3",
   "metadata": {},
   "source": [
    "## Read results from disc"
   ]
  },
  {
   "cell_type": "code",
   "execution_count": 3,
   "id": "b23aea09",
   "metadata": {},
   "outputs": [],
   "source": [
    "datasets = ['adult', 'german', 'compas', 'cardio', 'bank', 'meps16', 'lawgpa', 'credit', 'UFRGS']\n",
    "y_cols = ['Income Binary', 'credit', 'two_year_recid'] + ['Y' for i in range(6)]\n",
    "sensi_cols = ['sex', 'age', 'race'] + ['C0' for i in range(6)]\n",
    "\n",
    "seeds = [1, 12345, 6, 2211, 15, 88, 121, 433, 500, 1121] + [50, 583, 5278, 100000, 0xbeef, 0xcafe, 0xdead,\n",
    "                                                                0xdeadcafe, 0xdeadbeef, 0xbeefcafe]"
   ]
  },
  {
   "cell_type": "code",
   "execution_count": 4,
   "id": "4fa6de7b",
   "metadata": {},
   "outputs": [
    {
     "name": "stdout",
     "output_type": "stream",
     "text": [
      "Read evaluation results from intermediate/evals/Multi_eval_data9_n20.csv\n"
     ]
    }
   ],
   "source": [
    "# extracting results from MultiCC and multi-model\n",
    "exp_setting = 'Multi_eval'\n",
    "exp_suffix = 'orig'\n",
    "\n",
    "res_path = 'intermediate/models/'\n",
    "group_eval_metrics = ['AUC', 'ACC', 'SR', 'BalAcc']\n",
    "overall_metrics = ['BalAcc', 'DI', 'EQDiff', 'AvgOddsDiff', 'SPDiff']\n",
    "settings = ['A', 'A0', 'A1', 'E', 'F']\n",
    "\n",
    "eval_path = 'intermediate/evals/'\n",
    "\n",
    "eval_file = exp_setting+'_data'+str(len(datasets))+'_n'+str(len(seeds))+'.csv'\n",
    "\n",
    "\n",
    "all_eval_files = list(filter(lambda x: not os.path.isdir(os.path.join(eval_path, x)), os.listdir(eval_path)))\n",
    "if not eval_file in all_eval_files:\n",
    "    multi_df = pd.DataFrame(columns=['data', 'seed', 'setting', 'group', 'metric', 'value'])\n",
    "\n",
    "    for data_name in datasets:\n",
    "        for seed in seeds:\n",
    "            eval_res = read_json(res_path+data_name+'/'+'-'.join([exp_setting, str(seed), exp_suffix]))\n",
    "            for setting in settings:\n",
    "                for group in ['all', 'G0', 'G1']:\n",
    "                    base = [data_name, seed, setting, group]\n",
    "                    for metric_i in group_eval_metrics:\n",
    "                        multi_df.loc[multi_df.shape[0]] = base + [metric_i, eval_res[setting][group][metric_i]]\n",
    "                for metric_i in overall_metrics:\n",
    "                    multi_df.loc[multi_df.shape[0]] = [data_name, seed, setting, 'all'] + [metric_i, eval_res[setting]['all'][metric_i]]\n",
    "\n",
    "    multi_df.to_csv(eval_path+eval_file, index=False)\n",
    "    print('Save evaluation results at {}'.format(eval_path+eval_file))\n",
    "else:\n",
    "    multi_df = pd.read_csv(eval_path+eval_file)\n",
    "    print('Read evaluation results from {}'.format(eval_path+eval_file))\n",
    "    "
   ]
  },
  {
   "cell_type": "code",
   "execution_count": 5,
   "id": "a91b8e01",
   "metadata": {},
   "outputs": [
    {
     "name": "stdout",
     "output_type": "stream",
     "text": [
      "Read evaluation results from intermediate/evals/Single_eval_data9_n20.csv\n"
     ]
    }
   ],
   "source": [
    "# extracting results from SingleCC and no intervention\n",
    "exp_setting = 'Single_eval'\n",
    "exp_suffix = 'SingleCC'\n",
    "\n",
    "res_path = 'intermediate/models/'\n",
    "group_eval_metrics = ['AUC', 'ACC', 'SR', 'BalAcc']\n",
    "overall_metrics = ['BalAcc', 'DI', 'EQDiff', 'AvgOddsDiff', 'SPDiff']\n",
    "settings = ['A', 'C']\n",
    "\n",
    "eval_path = 'intermediate/evals/'\n",
    "\n",
    "eval_file = exp_setting+'_data'+str(len(datasets))+'_n'+str(len(seeds))+'.csv'\n",
    "\n",
    "\n",
    "all_eval_files = list(filter(lambda x: not os.path.isdir(os.path.join(eval_path, x)), os.listdir(eval_path)))\n",
    "if not eval_file in all_eval_files:\n",
    "    single_df = pd.DataFrame(columns=['data', 'seed', 'setting', 'group', 'metric', 'value'])\n",
    "\n",
    "    for data_name in datasets:\n",
    "        for seed in seeds:\n",
    "            eval_res = read_json(res_path+data_name+'/'+'-'.join([exp_setting, str(seed), exp_suffix]))\n",
    "            for setting in settings:\n",
    "                for group in ['all', 'G0', 'G1']:\n",
    "                    base = [data_name, seed, setting, group]\n",
    "                    for metric_i in group_eval_metrics:\n",
    "                        single_df.loc[single_df.shape[0]] = base + [metric_i, eval_res[setting][group][metric_i]]\n",
    "                for metric_i in overall_metrics:\n",
    "                    single_df.loc[single_df.shape[0]] = [data_name, seed, setting, 'all'] + [metric_i, eval_res[setting]['all'][metric_i]]\n",
    "\n",
    "    single_df.to_csv(eval_path+eval_file, index=False)\n",
    "    print('Save evaluation results at {}'.format(eval_path+eval_file))\n",
    "else:\n",
    "    single_df = pd.read_csv(eval_path+eval_file)\n",
    "    print('Read evaluation results from {}'.format(eval_path+eval_file))\n",
    "    "
   ]
  },
  {
   "cell_type": "code",
   "execution_count": 6,
   "id": "21d5727d",
   "metadata": {},
   "outputs": [
    {
     "data": {
      "text/html": [
       "<div>\n",
       "<style scoped>\n",
       "    .dataframe tbody tr th:only-of-type {\n",
       "        vertical-align: middle;\n",
       "    }\n",
       "\n",
       "    .dataframe tbody tr th {\n",
       "        vertical-align: top;\n",
       "    }\n",
       "\n",
       "    .dataframe thead th {\n",
       "        text-align: right;\n",
       "    }\n",
       "</style>\n",
       "<table border=\"1\" class=\"dataframe\">\n",
       "  <thead>\n",
       "    <tr style=\"text-align: right;\">\n",
       "      <th></th>\n",
       "      <th>data</th>\n",
       "      <th>seed</th>\n",
       "      <th>setting</th>\n",
       "      <th>group</th>\n",
       "      <th>metric</th>\n",
       "      <th>value</th>\n",
       "    </tr>\n",
       "  </thead>\n",
       "  <tbody>\n",
       "    <tr>\n",
       "      <th>0</th>\n",
       "      <td>adult</td>\n",
       "      <td>1</td>\n",
       "      <td>A</td>\n",
       "      <td>all</td>\n",
       "      <td>AUC</td>\n",
       "      <td>0.541000</td>\n",
       "    </tr>\n",
       "    <tr>\n",
       "      <th>1</th>\n",
       "      <td>adult</td>\n",
       "      <td>1</td>\n",
       "      <td>A</td>\n",
       "      <td>all</td>\n",
       "      <td>ACC</td>\n",
       "      <td>0.305000</td>\n",
       "    </tr>\n",
       "    <tr>\n",
       "      <th>2</th>\n",
       "      <td>adult</td>\n",
       "      <td>1</td>\n",
       "      <td>A</td>\n",
       "      <td>all</td>\n",
       "      <td>SR</td>\n",
       "      <td>0.938037</td>\n",
       "    </tr>\n",
       "    <tr>\n",
       "      <th>3</th>\n",
       "      <td>adult</td>\n",
       "      <td>1</td>\n",
       "      <td>A</td>\n",
       "      <td>all</td>\n",
       "      <td>BalAcc</td>\n",
       "      <td>0.540552</td>\n",
       "    </tr>\n",
       "    <tr>\n",
       "      <th>4</th>\n",
       "      <td>adult</td>\n",
       "      <td>1</td>\n",
       "      <td>A</td>\n",
       "      <td>G0</td>\n",
       "      <td>AUC</td>\n",
       "      <td>0.545000</td>\n",
       "    </tr>\n",
       "  </tbody>\n",
       "</table>\n",
       "</div>"
      ],
      "text/plain": [
       "    data  seed setting group  metric     value\n",
       "0  adult     1       A   all     AUC  0.541000\n",
       "1  adult     1       A   all     ACC  0.305000\n",
       "2  adult     1       A   all      SR  0.938037\n",
       "3  adult     1       A   all  BalAcc  0.540552\n",
       "4  adult     1       A    G0     AUC  0.545000"
      ]
     },
     "execution_count": 6,
     "metadata": {},
     "output_type": "execute_result"
    }
   ],
   "source": [
    "eval_df = pd.concat([multi_df, single_df])\n",
    "eval_df.head()"
   ]
  },
  {
   "cell_type": "code",
   "execution_count": 7,
   "id": "020d5bbb",
   "metadata": {},
   "outputs": [],
   "source": [
    "# for visualization change the values to be consistent with the order that higher is better\n",
    "def normalize_fairness_measures(x):\n",
    "    if x.iloc[0] in ['EQDiff', 'AvgOddsDiff', 'SPDiff']: # difference change to 1-abs(x)\n",
    "        if x.iloc[1] < 0:\n",
    "            return 1-abs(x.iloc[1])\n",
    "        else:\n",
    "            return 1-x.iloc[1]\n",
    "    \n",
    "    elif x.iloc[0] == 'DI':\n",
    "        if x.iloc[1] > 1:\n",
    "            return min(x.iloc[1], 1/x.iloc[1])\n",
    "        else:\n",
    "            return x.iloc[1]\n",
    "    else:# other metrics\n",
    "        return x.iloc[1]\n",
    "def add_vis_flag(x):\n",
    "    if x.iloc[0] in ['EQDiff', 'AvgOddsDiff', 'SPDiff']: # difference change to 1-abs(x)\n",
    "        if x.iloc[1] < 0:\n",
    "            return 1\n",
    "        else:\n",
    "            return 0\n",
    "    \n",
    "    elif x.iloc[0] == 'DI':\n",
    "        if x.iloc[1] > 1:\n",
    "            return 1\n",
    "        else:\n",
    "            return 0\n",
    "    else:# other metrics\n",
    "        return 0\n"
   ]
  },
  {
   "cell_type": "code",
   "execution_count": 8,
   "id": "983e03b2",
   "metadata": {},
   "outputs": [],
   "source": [
    "eval_df['norm_value'] = eval_df[['metric', 'value']].apply(lambda x: normalize_fairness_measures(x), axis=1)\n",
    "eval_df['norm_flag'] = eval_df[['metric', 'value']].apply(lambda x: add_vis_flag(x), axis=1)"
   ]
  },
  {
   "cell_type": "code",
   "execution_count": 9,
   "id": "ba25ad7f",
   "metadata": {},
   "outputs": [
    {
     "data": {
      "text/html": [
       "<div>\n",
       "<style scoped>\n",
       "    .dataframe tbody tr th:only-of-type {\n",
       "        vertical-align: middle;\n",
       "    }\n",
       "\n",
       "    .dataframe tbody tr th {\n",
       "        vertical-align: top;\n",
       "    }\n",
       "\n",
       "    .dataframe thead th {\n",
       "        text-align: right;\n",
       "    }\n",
       "</style>\n",
       "<table border=\"1\" class=\"dataframe\">\n",
       "  <thead>\n",
       "    <tr style=\"text-align: right;\">\n",
       "      <th></th>\n",
       "      <th>data</th>\n",
       "      <th>seed</th>\n",
       "      <th>setting</th>\n",
       "      <th>group</th>\n",
       "      <th>metric</th>\n",
       "      <th>value</th>\n",
       "      <th>norm_value</th>\n",
       "      <th>norm_flag</th>\n",
       "    </tr>\n",
       "  </thead>\n",
       "  <tbody>\n",
       "    <tr>\n",
       "      <th>0</th>\n",
       "      <td>adult</td>\n",
       "      <td>1</td>\n",
       "      <td>A</td>\n",
       "      <td>all</td>\n",
       "      <td>AUC</td>\n",
       "      <td>0.541000</td>\n",
       "      <td>0.541000</td>\n",
       "      <td>0</td>\n",
       "    </tr>\n",
       "    <tr>\n",
       "      <th>1</th>\n",
       "      <td>adult</td>\n",
       "      <td>1</td>\n",
       "      <td>A</td>\n",
       "      <td>all</td>\n",
       "      <td>ACC</td>\n",
       "      <td>0.305000</td>\n",
       "      <td>0.305000</td>\n",
       "      <td>0</td>\n",
       "    </tr>\n",
       "    <tr>\n",
       "      <th>2</th>\n",
       "      <td>adult</td>\n",
       "      <td>1</td>\n",
       "      <td>A</td>\n",
       "      <td>all</td>\n",
       "      <td>SR</td>\n",
       "      <td>0.938037</td>\n",
       "      <td>0.938037</td>\n",
       "      <td>0</td>\n",
       "    </tr>\n",
       "    <tr>\n",
       "      <th>3</th>\n",
       "      <td>adult</td>\n",
       "      <td>1</td>\n",
       "      <td>A</td>\n",
       "      <td>all</td>\n",
       "      <td>BalAcc</td>\n",
       "      <td>0.540552</td>\n",
       "      <td>0.540552</td>\n",
       "      <td>0</td>\n",
       "    </tr>\n",
       "    <tr>\n",
       "      <th>4</th>\n",
       "      <td>adult</td>\n",
       "      <td>1</td>\n",
       "      <td>A</td>\n",
       "      <td>G0</td>\n",
       "      <td>AUC</td>\n",
       "      <td>0.545000</td>\n",
       "      <td>0.545000</td>\n",
       "      <td>0</td>\n",
       "    </tr>\n",
       "  </tbody>\n",
       "</table>\n",
       "</div>"
      ],
      "text/plain": [
       "    data  seed setting group  metric     value  norm_value  norm_flag\n",
       "0  adult     1       A   all     AUC  0.541000    0.541000          0\n",
       "1  adult     1       A   all     ACC  0.305000    0.305000          0\n",
       "2  adult     1       A   all      SR  0.938037    0.938037          0\n",
       "3  adult     1       A   all  BalAcc  0.540552    0.540552          0\n",
       "4  adult     1       A    G0     AUC  0.545000    0.545000          0"
      ]
     },
     "execution_count": 9,
     "metadata": {},
     "output_type": "execute_result"
    }
   ],
   "source": [
    "eval_df.head()"
   ]
  },
  {
   "cell_type": "code",
   "execution_count": 10,
   "id": "a3c66c11",
   "metadata": {},
   "outputs": [],
   "source": [
    "eval_df.to_csv('intermediate/evals/Exp1_data'+str(len(datasets))+'_n'+str(len(seeds))+'.csv', index=False)"
   ]
  },
  {
   "cell_type": "code",
   "execution_count": 11,
   "id": "372e4e95",
   "metadata": {},
   "outputs": [
    {
     "data": {
      "text/plain": [
       "(3213, 8)"
      ]
     },
     "execution_count": 11,
     "metadata": {},
     "output_type": "execute_result"
    }
   ],
   "source": [
    "eval_df.shape"
   ]
  },
  {
   "cell_type": "code",
   "execution_count": null,
   "id": "c63cc967",
   "metadata": {},
   "outputs": [],
   "source": []
  }
 ],
 "metadata": {
  "kernelspec": {
   "display_name": "Python 3 (ipykernel)",
   "language": "python",
   "name": "python3"
  },
  "language_info": {
   "codemirror_mode": {
    "name": "ipython",
    "version": 3
   },
   "file_extension": ".py",
   "mimetype": "text/x-python",
   "name": "python",
   "nbconvert_exporter": "python",
   "pygments_lexer": "ipython3",
   "version": "3.7.0"
  }
 },
 "nbformat": 4,
 "nbformat_minor": 5
}
