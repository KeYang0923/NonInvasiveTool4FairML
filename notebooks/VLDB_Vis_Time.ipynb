{
 "cells": [
  {
   "cell_type": "code",
   "execution_count": 1,
   "id": "6ee63c7f",
   "metadata": {},
   "outputs": [],
   "source": [
    "import warnings\n",
    "import sys\n",
    "sys.path.append('../')\n",
    "warnings.filterwarnings('ignore')"
   ]
  },
  {
   "cell_type": "code",
   "execution_count": 2,
   "id": "c033f816",
   "metadata": {},
   "outputs": [],
   "source": [
    "import pandas as pd\n",
    "import numpy as np\n",
    "\n",
    "import matplotlib.pyplot as plt\n",
    "import seaborn as sns\n",
    "import os\n",
    "from PrepareData import read_json, make_folder"
   ]
  },
  {
   "cell_type": "code",
   "execution_count": 3,
   "id": "ac4f3faa",
   "metadata": {},
   "outputs": [],
   "source": [
    "repo_dir = sys.path[0].replace('notebooks', '')\n",
    "eval_path=repo_dir+ 'eval/'"
   ]
  },
  {
   "cell_type": "code",
   "execution_count": 4,
   "id": "2dd1b112",
   "metadata": {},
   "outputs": [],
   "source": [
    "seeds = [1, 12345, 6, 2211, 15, 88, 121, 433, 500, 1121, 50, 583, 5278, 100000, 0xbeef, 0xcafe, 0xdead, 7777, 100, 923]\n",
    "\n",
    "models = ['LR', 'TR']\n",
    "\n",
    "datasets = ['meps16', 'lsac', 'ACSP', 'credit', 'ACSE', 'ACSH', 'ACSI']"
   ]
  },
  {
   "cell_type": "code",
   "execution_count": 5,
   "id": "16bddba8",
   "metadata": {},
   "outputs": [
    {
     "name": "stdout",
     "output_type": "stream",
     "text": [
      "Save evaluation results at /Users/keyang/Projects/PubRepo/NonInvasiveTool4FairML/eval/time_data7_n20.csv\n"
     ]
    }
   ],
   "source": [
    "# for LR model\n",
    "eval_suffix = 'time'\n",
    "\n",
    "eval_file = '{}_data{}_n{}.csv'.format(eval_suffix, len(datasets), len(seeds))\n",
    "if os.path.exists(eval_path+eval_file):\n",
    "    eval_df = pd.read_csv(eval_path+eval_file)\n",
    "    print('Read results at {}'.format(eval_path+eval_file))\n",
    "else:\n",
    "    eval_df = pd.DataFrame()\n",
    "    for data_name in datasets:\n",
    "        cur_eval_df = pd.read_csv(eval_path+'{}-{}.csv'.format(eval_suffix, data_name))\n",
    "\n",
    "        eval_df = pd.concat([eval_df, cur_eval_df])\n",
    "    \n",
    "    eval_df.to_csv(eval_path+eval_file, index=False)\n",
    "    print('Save evaluation results at {}'.format(eval_path+eval_file))"
   ]
  },
  {
   "cell_type": "code",
   "execution_count": 6,
   "id": "928254ed",
   "metadata": {},
   "outputs": [
    {
     "data": {
      "text/html": [
       "<div>\n",
       "<style scoped>\n",
       "    .dataframe tbody tr th:only-of-type {\n",
       "        vertical-align: middle;\n",
       "    }\n",
       "\n",
       "    .dataframe tbody tr th {\n",
       "        vertical-align: top;\n",
       "    }\n",
       "\n",
       "    .dataframe thead th {\n",
       "        text-align: right;\n",
       "    }\n",
       "</style>\n",
       "<table border=\"1\" class=\"dataframe\">\n",
       "  <thead>\n",
       "    <tr style=\"text-align: right;\">\n",
       "      <th></th>\n",
       "      <th>data</th>\n",
       "      <th>model</th>\n",
       "      <th>seed</th>\n",
       "      <th>method</th>\n",
       "      <th>step</th>\n",
       "      <th>time</th>\n",
       "    </tr>\n",
       "  </thead>\n",
       "  <tbody>\n",
       "    <tr>\n",
       "      <th>0</th>\n",
       "      <td>meps16</td>\n",
       "      <td>LR</td>\n",
       "      <td>1</td>\n",
       "      <td>SCC-KAM</td>\n",
       "      <td>prep</td>\n",
       "      <td>8.643763</td>\n",
       "    </tr>\n",
       "    <tr>\n",
       "      <th>1</th>\n",
       "      <td>meps16</td>\n",
       "      <td>LR</td>\n",
       "      <td>1</td>\n",
       "      <td>SCC-KAM</td>\n",
       "      <td>fairmodel</td>\n",
       "      <td>32.005389</td>\n",
       "    </tr>\n",
       "    <tr>\n",
       "      <th>2</th>\n",
       "      <td>meps16</td>\n",
       "      <td>LR</td>\n",
       "      <td>1</td>\n",
       "      <td>OMN-ONE</td>\n",
       "      <td>prep</td>\n",
       "      <td>0.000000</td>\n",
       "    </tr>\n",
       "    <tr>\n",
       "      <th>3</th>\n",
       "      <td>meps16</td>\n",
       "      <td>LR</td>\n",
       "      <td>1</td>\n",
       "      <td>OMN-ONE</td>\n",
       "      <td>fairmodel</td>\n",
       "      <td>20.186338</td>\n",
       "    </tr>\n",
       "    <tr>\n",
       "      <th>4</th>\n",
       "      <td>meps16</td>\n",
       "      <td>LR</td>\n",
       "      <td>1</td>\n",
       "      <td>KAM-ONE</td>\n",
       "      <td>prep</td>\n",
       "      <td>0.000000</td>\n",
       "    </tr>\n",
       "  </tbody>\n",
       "</table>\n",
       "</div>"
      ],
      "text/plain": [
       "     data model  seed   method       step       time\n",
       "0  meps16    LR     1  SCC-KAM       prep   8.643763\n",
       "1  meps16    LR     1  SCC-KAM  fairmodel  32.005389\n",
       "2  meps16    LR     1  OMN-ONE       prep   0.000000\n",
       "3  meps16    LR     1  OMN-ONE  fairmodel  20.186338\n",
       "4  meps16    LR     1  KAM-ONE       prep   0.000000"
      ]
     },
     "execution_count": 6,
     "metadata": {},
     "output_type": "execute_result"
    }
   ],
   "source": [
    "eval_df = eval_df.dropna() # filter out the case that no model is returned\n",
    "eval_df.head()"
   ]
  },
  {
   "cell_type": "code",
   "execution_count": 14,
   "id": "076f50bd",
   "metadata": {},
   "outputs": [
    {
     "data": {
      "text/html": [
       "<div>\n",
       "<style scoped>\n",
       "    .dataframe tbody tr th:only-of-type {\n",
       "        vertical-align: middle;\n",
       "    }\n",
       "\n",
       "    .dataframe tbody tr th {\n",
       "        vertical-align: top;\n",
       "    }\n",
       "\n",
       "    .dataframe thead th {\n",
       "        text-align: right;\n",
       "    }\n",
       "</style>\n",
       "<table border=\"1\" class=\"dataframe\">\n",
       "  <thead>\n",
       "    <tr style=\"text-align: right;\">\n",
       "      <th></th>\n",
       "      <th>data</th>\n",
       "      <th>model</th>\n",
       "      <th>seed</th>\n",
       "      <th>method</th>\n",
       "      <th>step</th>\n",
       "      <th>time</th>\n",
       "    </tr>\n",
       "  </thead>\n",
       "  <tbody>\n",
       "    <tr>\n",
       "      <th>2</th>\n",
       "      <td>meps16</td>\n",
       "      <td>LR</td>\n",
       "      <td>1</td>\n",
       "      <td>OMN-ONE</td>\n",
       "      <td>prep</td>\n",
       "      <td>0.000000</td>\n",
       "    </tr>\n",
       "    <tr>\n",
       "      <th>3</th>\n",
       "      <td>meps16</td>\n",
       "      <td>LR</td>\n",
       "      <td>1</td>\n",
       "      <td>OMN-ONE</td>\n",
       "      <td>fairmodel</td>\n",
       "      <td>20.186338</td>\n",
       "    </tr>\n",
       "  </tbody>\n",
       "</table>\n",
       "</div>"
      ],
      "text/plain": [
       "     data model  seed   method       step       time\n",
       "2  meps16    LR     1  OMN-ONE       prep   0.000000\n",
       "3  meps16    LR     1  OMN-ONE  fairmodel  20.186338"
      ]
     },
     "execution_count": 14,
     "metadata": {},
     "output_type": "execute_result"
    }
   ],
   "source": [
    "eval_df.query('data==\"meps16\" and model==\"LR\" and seed==1 and method==\"OMN-ONE\"')"
   ]
  },
  {
   "cell_type": "code",
   "execution_count": 25,
   "id": "efa31c28",
   "metadata": {},
   "outputs": [],
   "source": []
  },
  {
   "cell_type": "code",
   "execution_count": 30,
   "id": "de001875",
   "metadata": {},
   "outputs": [],
   "source": [
    "def bar_plots_new(df, output_name, vis_datasets, vis_settings, step='total',\n",
    "              legend_names=None, font_label=26, font_legend=18, \n",
    "              colors=['#ffffff', '#fffacd', '#3cb371','#20603d', '#0e6670'], bg_color = '#f3f3f3', x_tick_offset=6.3,\n",
    "              x_ticks=None, y_label=None, x_label=None, legend=True, legend_col=5, save_to_disc=True):\n",
    "    \n",
    "    fig, ax = plt.subplots(1, figsize=(10, 4), dpi=200)\n",
    "    input_df = df.copy()\n",
    "    bar_mean = []\n",
    "    bar_std = []\n",
    "    dash_filling = []\n",
    "    line_styles = []\n",
    "    x_bars = []\n",
    "    ind = 0\n",
    "    bottom_bar_mean = []\n",
    "    bottom_bar_std = []\n",
    "        \n",
    "    for off_i, name in enumerate(vis_datasets):\n",
    "        vis_df = df[df['data']==name]\n",
    "        for setting_i in vis_settings:\n",
    "            \n",
    "            set_df = vis_df[vis_df['method']==setting_i]\n",
    "            \n",
    "            \n",
    "            bottom_df = set_df[set_df['step']=='prep']\n",
    "            up_df = set_df[set_df['step']=='fairmodel']\n",
    "\n",
    "            y_values = np.array(up_df['time'])\n",
    "            \n",
    "            cur_mean = np.mean(y_values)\n",
    "            cur_std = np.std(y_values)\n",
    "\n",
    "            bar_mean.append(cur_mean)\n",
    "            bar_std.append(cur_std)\n",
    "            \n",
    "            bottom_y = np.array(bottom_df['time'])\n",
    "            bottom_bar_mean.append(np.mean(bottom_y))\n",
    "            bottom_bar_std.append(np.std(bottom_y))\n",
    "                \n",
    "            x_bars.append(ind+off_i*2)\n",
    "                \n",
    "            ind += 0.83\n",
    "    \n",
    "    if step == 'total':\n",
    "        total_mean = [x+y for x, y in zip(bottom_bar_mean, bar_mean)]\n",
    "        total_std = [x+y for x, y in zip(bottom_bar_std, bar_std)]\n",
    "        bplot = ax.bar(x_bars, total_mean, yerr=total_std)\n",
    "        \n",
    "        \n",
    "    elif step == 'prep':\n",
    "        bplot = ax.bar(x_bars, bottom_bar_mean, yerr=bottom_bar_std)\n",
    "        \n",
    "    elif step == 'fairmodel':\n",
    "        \n",
    "        bplot = ax.bar(x_bars, bar_mean, yerr=bar_std)\n",
    "    else:\n",
    "        raise ValueError('Not valid step specified!')\n",
    "    \n",
    "#     bottom_bplot = ax.bar(x_bars, bottom_bar_mean, yerr=bottom_bar_std)\n",
    "    \n",
    "#     bplot = ax.bar(x_bars, bar_mean, yerr=bar_std, bottom=bottom_bar_mean)\n",
    "    \n",
    "    \n",
    "    n_bars = len(vis_settings)\n",
    "#     for idx, patch in enumerate(bottom_bplot):\n",
    "#         patch.set_facecolor('grey')\n",
    "# #         patch.set_hatch('\\\\')\n",
    "#         patch.set_edgecolor(\"black\")\n",
    "\n",
    "    for idx, patch in enumerate(bplot):\n",
    "        patch.set_facecolor(colors[idx % n_bars])\n",
    "        patch.set_edgecolor(\"black\")\n",
    "        \n",
    "    if legend_names:\n",
    "        legends = legend_names\n",
    "    else:\n",
    "        legends = vis_settings\n",
    "    # add labels for settings \n",
    "    for idx, setting_i, color_i, legend_i in zip(range(len(vis_settings)), vis_settings, colors, legends):\n",
    "        ax.bar(-2, 1, ec='black', fc=color_i, label=legend_i)\n",
    "\n",
    "    ax.set_facecolor(bg_color)\n",
    "    ax.yaxis.grid(True)\n",
    "    plt.xlim([-1, max(x_bars)+1])\n",
    "    plt.xticks([(x-1)*x_tick_offset+0.8 for x in range(1, len(vis_datasets)+1)])\n",
    "    if x_ticks:\n",
    "        locs, labels=plt.xticks();\n",
    "        plt.xticks(locs, x_ticks, horizontalalignment='center', fontsize=font_label-10, rotation=0);\n",
    "\n",
    "#     plt.ylim([0.0, 1.0])\n",
    "    plt.yticks(fontsize=font_label);\n",
    "\n",
    "    if y_label:\n",
    "        plt.ylabel(y_label, fontsize=font_label)\n",
    "\n",
    "    if x_label:\n",
    "        plt.xlabel(x_label, fontsize=font_label)\n",
    "\n",
    "    if legend:\n",
    "        plt.legend(bbox_to_anchor=(0, 1, 1, 0), loc=\"lower center\", mode=\"expand\", ncol=legend_col, frameon=False, borderaxespad=0, handlelength=0.9, handletextpad=0.3, fontsize=font_label-7)\n",
    "    plt.yscale('log')\n",
    "    \n",
    "    if save_to_disc:\n",
    "        plt.savefig(output_name, bbox_inches=\"tight\")\n",
    "        print('Bar plot is saved at ', output_name)\n",
    "        plt.close()"
   ]
  },
  {
   "cell_type": "code",
   "execution_count": 27,
   "id": "28038d0d",
   "metadata": {},
   "outputs": [],
   "source": [
    "plot_path = repo_dir+ 'intermediate/plots/time/'\n",
    "make_folder(plot_path)"
   ]
  },
  {
   "cell_type": "code",
   "execution_count": 28,
   "id": "8fc93aff",
   "metadata": {},
   "outputs": [
    {
     "data": {
      "text/plain": [
       "'/Users/keyang/Projects/PubRepo/NonInvasiveTool4FairML/intermediate/plots/time/'"
      ]
     },
     "execution_count": 28,
     "metadata": {},
     "output_type": "execute_result"
    }
   ],
   "source": [
    "plot_path"
   ]
  },
  {
   "cell_type": "code",
   "execution_count": 35,
   "id": "6b79d97e",
   "metadata": {},
   "outputs": [
    {
     "name": "stdout",
     "output_type": "stream",
     "text": [
      "Bar plot is saved at  /Users/keyang/Projects/PubRepo/NonInvasiveTool4FairML/intermediate/plots/time/LR-total.png\n",
      "Bar plot is saved at  /Users/keyang/Projects/PubRepo/NonInvasiveTool4FairML/intermediate/plots/time/TR-total.png\n"
     ]
    }
   ],
   "source": [
    "# new order\n",
    "exp_datasets = ['meps16', 'lsac', 'ACSP', 'credit', 'ACSH', 'ACSE', 'ACSI']\n",
    "exp_ticks = ['MEPS', 'LSAC', 'ACSP', 'Credit', 'ACSH', 'ACSE', 'ACSI']\n",
    "\n",
    "\n",
    "scc_settings = ['CAP-ONE', 'KAM-ONE', 'OMN-ONE', 'SCC-KAM']\n",
    "scc_legends = ['CAP', 'KAM', 'OMN', 'ConFair']\n",
    "scc_colors = ['#ffc0cb', '#f4ca16', '#fffacd', '#2e8b57']\n",
    "\n",
    "\n",
    "x_tick_set = 5.4     \n",
    "\n",
    "step = 'total'\n",
    "\n",
    "for idx, model_name in enumerate(['LR', 'TR']):\n",
    "    if idx > 0:\n",
    "        y_label = ''\n",
    "    else:\n",
    "        y_label = 'time(seconds)'\n",
    "    output_name = '{}{}-{}.png'.format(plot_path, model_name, step)\n",
    "    model_df = eval_df[eval_df['model']==model_name]\n",
    "    bar_plots_new(model_df, output_name, exp_datasets, scc_settings, step=step, x_ticks=exp_ticks, colors=scc_colors, \n",
    "              legend_names=scc_legends, x_tick_offset=x_tick_set, y_label=y_label,\n",
    "              legend_col=len(scc_settings),\n",
    "              save_to_disc=True)"
   ]
  },
  {
   "cell_type": "code",
   "execution_count": null,
   "id": "b9268a77",
   "metadata": {},
   "outputs": [],
   "source": []
  }
 ],
 "metadata": {
  "kernelspec": {
   "display_name": "Python 3 (ipykernel)",
   "language": "python",
   "name": "python3"
  },
  "language_info": {
   "codemirror_mode": {
    "name": "ipython",
    "version": 3
   },
   "file_extension": ".py",
   "mimetype": "text/x-python",
   "name": "python",
   "nbconvert_exporter": "python",
   "pygments_lexer": "ipython3",
   "version": "3.7.0"
  }
 },
 "nbformat": 4,
 "nbformat_minor": 5
}
