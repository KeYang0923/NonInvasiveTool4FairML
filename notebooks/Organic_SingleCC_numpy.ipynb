{
 "cells": [
  {
   "cell_type": "code",
   "execution_count": 1,
   "id": "e1b7a720",
   "metadata": {},
   "outputs": [],
   "source": [
    "import pandas as pd\n",
    "import numpy as np\n",
    "\n",
    "import matplotlib.pyplot as plt\n",
    "import seaborn as sns\n",
    "import os\n",
    "from pipeline.utils import read_json, make_folder\n",
    "from itertools import combinations\n",
    "from sklearn.neighbors import KernelDensity\n",
    "import prose.datainsights as di"
   ]
  },
  {
   "cell_type": "code",
   "execution_count": 2,
   "id": "b904deb6",
   "metadata": {},
   "outputs": [],
   "source": [
    "def estimate_density(input_df, y_col, sensi_col, dense_cols, n_groups=2, n_labels=2,\n",
    "                     dense_h=0.1, dense_kernal='gaussian', algorithm='auto'):\n",
    "    res_df = input_df.copy()\n",
    "\n",
    "    for group_i in range(n_groups):\n",
    "        for c_i in range(n_labels):\n",
    "            dense_col_name = '_'.join(['density', 'G' + str(group_i), 'L' + str(c_i)])\n",
    "            dense_train = res_df[(res_df[sensi_col] == group_i) & (res_df[y_col] == c_i)].copy()\n",
    "            dense_X = dense_train[dense_cols].to_numpy()\n",
    "            kde = KernelDensity(bandwidth=dense_h, kernel=dense_kernal, algorithm=algorithm)\n",
    "            kde.fit(dense_X)\n",
    "            res_df[dense_col_name] = kde.score_samples(res_df[dense_cols].to_numpy())\n",
    "    return res_df\n",
    "def combine_dense(x):\n",
    "    idx_map = {'00': 0, '01': 1, '10': 2, '11': 3}   \n",
    "    cur = '{}{}'.format(int(x.iloc[0]), int(x.iloc[1]))\n",
    "    return x.iloc[2+idx_map[cur]]\n",
    "def get_maximum(x):\n",
    "    return max(x)"
   ]
  },
  {
   "cell_type": "code",
   "execution_count": 3,
   "id": "abadddcb",
   "metadata": {},
   "outputs": [
    {
     "data": {
      "text/html": [
       "<div>\n",
       "<style scoped>\n",
       "    .dataframe tbody tr th:only-of-type {\n",
       "        vertical-align: middle;\n",
       "    }\n",
       "\n",
       "    .dataframe tbody tr th {\n",
       "        vertical-align: top;\n",
       "    }\n",
       "\n",
       "    .dataframe thead th {\n",
       "        text-align: right;\n",
       "    }\n",
       "</style>\n",
       "<table border=\"1\" class=\"dataframe\">\n",
       "  <thead>\n",
       "    <tr style=\"text-align: right;\">\n",
       "      <th></th>\n",
       "      <th>X1</th>\n",
       "      <th>X2</th>\n",
       "      <th>X3</th>\n",
       "      <th>X4</th>\n",
       "      <th>X5</th>\n",
       "      <th>X6</th>\n",
       "      <th>X7</th>\n",
       "      <th>X8</th>\n",
       "      <th>X9</th>\n",
       "      <th>X10</th>\n",
       "      <th>Y</th>\n",
       "      <th>A</th>\n",
       "    </tr>\n",
       "  </thead>\n",
       "  <tbody>\n",
       "    <tr>\n",
       "      <th>0</th>\n",
       "      <td>0.00</td>\n",
       "      <td>3.1</td>\n",
       "      <td>68</td>\n",
       "      <td>-1.79</td>\n",
       "      <td>30.0</td>\n",
       "      <td>625.789460</td>\n",
       "      <td>4</td>\n",
       "      <td>0.0</td>\n",
       "      <td>2</td>\n",
       "      <td>0.0</td>\n",
       "      <td>0</td>\n",
       "      <td>1</td>\n",
       "    </tr>\n",
       "    <tr>\n",
       "      <th>1</th>\n",
       "      <td>1.88</td>\n",
       "      <td>3.5</td>\n",
       "      <td>69</td>\n",
       "      <td>1.33</td>\n",
       "      <td>44.0</td>\n",
       "      <td>886.842082</td>\n",
       "      <td>5</td>\n",
       "      <td>0.0</td>\n",
       "      <td>4</td>\n",
       "      <td>0.0</td>\n",
       "      <td>1</td>\n",
       "      <td>1</td>\n",
       "    </tr>\n",
       "    <tr>\n",
       "      <th>2</th>\n",
       "      <td>-0.57</td>\n",
       "      <td>3.5</td>\n",
       "      <td>69</td>\n",
       "      <td>-0.11</td>\n",
       "      <td>29.0</td>\n",
       "      <td>649.999987</td>\n",
       "      <td>4</td>\n",
       "      <td>0.0</td>\n",
       "      <td>2</td>\n",
       "      <td>0.0</td>\n",
       "      <td>1</td>\n",
       "      <td>1</td>\n",
       "    </tr>\n",
       "    <tr>\n",
       "      <th>3</th>\n",
       "      <td>0.95</td>\n",
       "      <td>3.0</td>\n",
       "      <td>58</td>\n",
       "      <td>1.22</td>\n",
       "      <td>35.0</td>\n",
       "      <td>694.736825</td>\n",
       "      <td>5</td>\n",
       "      <td>0.0</td>\n",
       "      <td>3</td>\n",
       "      <td>1.0</td>\n",
       "      <td>0</td>\n",
       "      <td>1</td>\n",
       "    </tr>\n",
       "    <tr>\n",
       "      <th>4</th>\n",
       "      <td>0.00</td>\n",
       "      <td>2.9</td>\n",
       "      <td>51</td>\n",
       "      <td>0.88</td>\n",
       "      <td>39.0</td>\n",
       "      <td>747.894717</td>\n",
       "      <td>4</td>\n",
       "      <td>0.0</td>\n",
       "      <td>2</td>\n",
       "      <td>1.0</td>\n",
       "      <td>0</td>\n",
       "      <td>1</td>\n",
       "    </tr>\n",
       "  </tbody>\n",
       "</table>\n",
       "</div>"
      ],
      "text/plain": [
       "     X1   X2  X3    X4    X5          X6  X7   X8  X9  X10  Y  A\n",
       "0  0.00  3.1  68 -1.79  30.0  625.789460   4  0.0   2  0.0  0  1\n",
       "1  1.88  3.5  69  1.33  44.0  886.842082   5  0.0   4  0.0  1  1\n",
       "2 -0.57  3.5  69 -0.11  29.0  649.999987   4  0.0   2  0.0  1  1\n",
       "3  0.95  3.0  58  1.22  35.0  694.736825   5  0.0   3  1.0  0  1\n",
       "4  0.00  2.9  51  0.88  39.0  747.894717   4  0.0   2  1.0  0  1"
      ]
     },
     "execution_count": 3,
     "metadata": {},
     "output_type": "execute_result"
    }
   ],
   "source": [
    "df = pd.read_csv('data/processed/lsac.csv')\n",
    "df.head()"
   ]
  },
  {
   "cell_type": "code",
   "execution_count": 7,
   "id": "8656e243",
   "metadata": {},
   "outputs": [],
   "source": [
    "df_sample = df.sample(n=20000)"
   ]
  },
  {
   "cell_type": "code",
   "execution_count": 8,
   "id": "57017b0d",
   "metadata": {},
   "outputs": [],
   "source": [
    "# dense_df = estimate_density(df, 'credit', 'age', ['month', 'credit_amount'])\n",
    "# dense_df = estimate_density(df, 'Y', 'C0', ['X{}'.format(i) for i in range(1, 10)])\n",
    "# dense_df.head()"
   ]
  },
  {
   "cell_type": "code",
   "execution_count": 18,
   "id": "f0e090de",
   "metadata": {
    "scrolled": true
   },
   "outputs": [
    {
     "name": "stdout",
     "output_type": "stream",
     "text": [
      "0 0 --> 1 0.2778281109545454\n",
      "0 0 --> 2 0.33635868878323294\n",
      "0 0 --> 3 0.33823380431549815\n",
      "0 0 --> 4 0.2748131844265981\n",
      "0 0 --> 5 0.33707154281205826\n",
      "0 0 --> 6 0.3511597088290497\n",
      "0 0 --> 7 0.41524370247679376\n",
      "0 0 --> 8 0.42801034672018917\n",
      "0 0 --> 9 0.24087110402942985\n",
      "0 0 ['X3', 'X6', 'X7', 'X8'] \n",
      "\n",
      "0 0 ==> ['X3'] 0.33823380431549804 2967\n",
      "0 0 ==> ['X6'] 0.351156824483789 2944\n",
      "0 0 ==> ['X7'] 0.41528909102407807 2486\n",
      "0 0 ==> ['X8'] 0.4280164677840162 2571\n",
      "0 0 ==> ['X3', 'X6'] 0.06269512916770273 4001\n",
      "0 0 ==> ['X3', 'X7'] 0.09499034184208908 3557\n",
      "0 0 ==> ['X3', 'X8'] 0.09437819810825594 3675\n",
      "0 0 ==> ['X6', 'X7'] 0.11798577361006451 3342\n",
      "0 0 ==> ['X6', 'X8'] 0.0707342703546613 3880\n",
      "0 0 ==> ['X7', 'X8'] 0.07427626796736105 3903\n",
      "0 0 ==> ['X3', 'X6', 'X7'] 0.004307610073469592 5532\n",
      "0 0 ==> ['X3', 'X6', 'X8'] 0.00801532029576207 5314\n",
      "0 0 ==> ['X3', 'X7', 'X8'] 0.00490434493643738 5504\n",
      "0 0 ==> ['X6', 'X7', 'X8'] 0.0052860883181175935 5475\n",
      "0 0 ==> ['X3', 'X6', 'X7', 'X8'] 0.00028342853766773717 5804\n",
      "--------------------------------------------- \n",
      "\n",
      "0 1 --> 1 0.19325008287771442\n",
      "0 1 --> 2 0.21391439652672742\n",
      "0 1 --> 3 0.20199724788865392\n",
      "0 1 --> 4 0.20365973632679024\n",
      "0 1 --> 5 0.15856378688857217\n",
      "0 1 --> 6 0.18281732959421748\n",
      "0 1 --> 7 0.2895757350165726\n",
      "0 1 --> 8 0.17367378140377504\n",
      "0 1 --> 9 0.24206564647926115\n",
      "0 1 ['X2', 'X4', 'X7', 'X9'] \n",
      "\n",
      "0 1 ==> ['X2'] 0.21391439652672695 2418\n",
      "0 1 ==> ['X4'] 0.2036568473420965 2486\n",
      "0 1 ==> ['X7'] 0.2898853029593397 2095\n",
      "0 1 ==> ['X9'] 0.2420656464792612 2257\n",
      "0 1 ==> ['X2', 'X4'] 0.0311174533989797 3130\n",
      "0 1 ==> ['X2', 'X7'] 0.02944055840663104 3158\n",
      "0 1 ==> ['X2', 'X9'] 0.02957371585466788 3129\n",
      "0 1 ==> ['X4', 'X7'] 0.048039985569852325 2926\n",
      "0 1 ==> ['X4', 'X9'] 0.027959810970812234 3089\n",
      "0 1 ==> ['X7', 'X9'] 0.02861450533431013 3141\n",
      "0 1 ==> ['X2', 'X4', 'X7'] 0.001524648625878917 3736\n",
      "0 1 ==> ['X2', 'X4', 'X9'] 0.0021579332078783047 3701\n",
      "0 1 ==> ['X2', 'X7', 'X9'] 0.0015401906356559167 3744\n",
      "0 1 ==> ['X4', 'X7', 'X9'] 0.00131213975944746 3745\n",
      "0 1 ==> ['X2', 'X4', 'X7', 'X9'] 0.00018741878565483352 3810\n",
      "--------------------------------------------- \n",
      "\n",
      "1 0 --> 1 0.2536232925541847\n",
      "1 0 --> 2 0.4874075802262949\n",
      "1 0 --> 3 0.4303927032002642\n",
      "1 0 --> 4 0.3975497640151354\n",
      "1 0 --> 5 0.33848986671633596\n",
      "1 0 --> 6 0.5030875881810944\n",
      "1 0 --> 7 0.5063184855747669\n",
      "1 0 --> 8 0.2651991313116694\n",
      "1 0 --> 9 0.36634375873508307\n",
      "1 0 ['X2', 'X3', 'X6', 'X7'] \n",
      "\n",
      "1 0 ==> ['X2'] 0.48740611022127955 2844\n",
      "1 0 ==> ['X3'] 0.43039209985942795 3294\n",
      "1 0 ==> ['X6'] 0.5030875881810946 2800\n",
      "1 0 ==> ['X7'] 0.5063793075532496 2781\n",
      "1 0 ==> ['X2', 'X3'] 0.14859623214995327 4051\n",
      "1 0 ==> ['X2', 'X6'] 0.14017537079482537 4254\n",
      "1 0 ==> ['X2', 'X7'] 0.1564399442455537 3855\n",
      "1 0 ==> ['X3', 'X6'] 0.11765797229204317 4349\n",
      "1 0 ==> ['X3', 'X7'] 0.15141991748207562 3861\n",
      "1 0 ==> ['X6', 'X7'] 0.14530395746013006 4130\n",
      "1 0 ==> ['X2', 'X3', 'X6'] 0.018662946528472685 6480\n",
      "1 0 ==> ['X2', 'X3', 'X7'] 0.017812680816527166 6626\n",
      "1 0 ==> ['X2', 'X6', 'X7'] 0.012918985231990922 6906\n",
      "1 0 ==> ['X3', 'X6', 'X7'] 0.01380460097259742 6774\n",
      "1 0 ==> ['X2', 'X3', 'X6', 'X7'] 0.0007860983325366203 7626\n",
      "--------------------------------------------- \n",
      "\n",
      "1 1 --> 1 0.04453347418647224\n",
      "1 1 --> 2 0.08573808501634675\n",
      "1 1 --> 3 0.07262809298253829\n",
      "1 1 --> 4 0.09557864540232894\n",
      "1 1 --> 5 0.08902822482039485\n",
      "1 1 --> 6 0.06229866583051034\n",
      "1 1 --> 7 0.090967021595053\n",
      "1 1 --> 8 0.05807960535513279\n",
      "1 1 --> 9 0.045824767916050925\n",
      "1 1 ['X2', 'X4', 'X5', 'X7'] \n",
      "\n",
      "1 1 ==> ['X2'] 0.08573808501634675 2051\n",
      "1 1 ==> ['X4'] 0.09557665710115008 2071\n",
      "1 1 ==> ['X5'] 0.08902822482039485 2107\n",
      "1 1 ==> ['X7'] 0.0902735640521847 2047\n",
      "1 1 ==> ['X2', 'X4'] 0.008352245111697045 2388\n",
      "1 1 ==> ['X2', 'X5'] 0.003758418073187238 2488\n",
      "1 1 ==> ['X2', 'X7'] 0.009553736080243925 2375\n",
      "1 1 ==> ['X4', 'X5'] 0.01374189187784119 2397\n",
      "1 1 ==> ['X4', 'X7'] 0.014631776202467535 2367\n",
      "1 1 ==> ['X5', 'X7'] 0.007896266756233774 2417\n",
      "1 1 ==> ['X2', 'X4', 'X5'] 4.48434989398951e-05 2584\n",
      "1 1 ==> ['X2', 'X4', 'X7'] 0.00024988185542679383 2573\n",
      "1 1 ==> ['X2', 'X5', 'X7'] 3.931208629752042e-05 2584\n",
      "1 1 ==> ['X4', 'X5', 'X7'] 0.000659098856008351 2559\n",
      "1 1 ==> ['X2', 'X4', 'X5', 'X7'] 2.1193095844592695e-05 2586\n",
      "--------------------------------------------- \n",
      "\n"
     ]
    }
   ],
   "source": [
    "dense_n = 2000\n",
    "n_max_att = 9\n",
    "for group_i in range(2):\n",
    "        for label_i in range(2):\n",
    "            di_train = df_sample[(df_sample['C0'] == group_i) & (df_sample['Y'] == label_i)].copy()\n",
    "            \n",
    "            max_atts = []\n",
    "            for n_num_atts in range(1, n_max_att+1):\n",
    "                cur_cols = ['X{}'.format(n_num_atts)]\n",
    "                \n",
    "                \n",
    "                dense_X = di_train[cur_cols].to_numpy()\n",
    "                kde = KernelDensity(bandwidth=0.1, kernel='tophat', algorithm='auto')\n",
    "                kde.fit(dense_X)\n",
    "                di_train['density'] = kde.score_samples(di_train[cur_cols].to_numpy())\n",
    "                di_train.sort_values(by=['density'], ascending=False, inplace=True)\n",
    "\n",
    "                \n",
    "                cc_input = di_train.iloc[:dense_n, :].copy() # dense_n points with highest density score\n",
    "                assertions_i = di.learn_assertions(cc_input[cur_cols], max_self_violation=1.0)\n",
    "\n",
    "                result_i = assertions_i.evaluate(di_train[cur_cols], explanation=True, normalizeViolation=True)\n",
    "                di_train['vio_{}'.format(n_num_atts)] = result_i.row_wise_violation_summary['violation']\n",
    "                cc_vio = di_train['vio_{}'.format(n_num_atts)].mean()\n",
    "                print(group_i, label_i, '-->',n_num_atts, cc_vio)\n",
    "                max_atts.append(cc_vio)\n",
    "            \n",
    "            att_used = []\n",
    "            for i, cc_vio in enumerate(max_atts):\n",
    "                count_order = sum([int(cc_vio > x) for x in max_atts])\n",
    "                if count_order > int(len(max_atts)//2):\n",
    "                    att_used.append('X{}'.format(i+1))\n",
    "            \n",
    "            print(group_i, label_i, att_used, '\\n')\n",
    "            output = sum([list(map(list, combinations(att_used, i))) for i in range(len(att_used) + 1)], [])\n",
    "            \n",
    "            for cur_cols in output:\n",
    "                if len(cur_cols) > 0:\n",
    "                    \n",
    "                    dense_X = di_train[cur_cols].to_numpy()\n",
    "                    kde = KernelDensity(bandwidth=0.1, kernel='tophat', algorithm='auto')\n",
    "                    kde.fit(dense_X)\n",
    "                    di_train['density'] = kde.score_samples(di_train[cur_cols].to_numpy())\n",
    "                    di_train.sort_values(by=['density'], ascending=False, inplace=True)\n",
    "\n",
    "\n",
    "                    cc_input = di_train.iloc[:dense_n, :].copy() # dense_n points with highest density score\n",
    "                    assertions_i = di.learn_assertions(cc_input[cur_cols], max_self_violation=1.0)\n",
    "\n",
    "                    result_i = assertions_i.evaluate(di_train[cur_cols], explanation=True, normalizeViolation=True)\n",
    "                    di_train['vio_c{}'.format(len(cur_cols))] = result_i.row_wise_violation_summary['violation']\n",
    "                    cc_vio = di_train['vio_c{}'.format(len(cur_cols))].mean()\n",
    "                    print(group_i, label_i, '==>', cur_cols, cc_vio, sum(di_train['vio_c{}'.format(len(cur_cols))]==0))\n",
    "            print('---'*15,'\\n')"
   ]
  },
  {
   "cell_type": "code",
   "execution_count": null,
   "id": "2906bd6e",
   "metadata": {},
   "outputs": [],
   "source": []
  },
  {
   "cell_type": "code",
   "execution_count": 10,
   "id": "bf32bb65",
   "metadata": {},
   "outputs": [
    {
     "data": {
      "text/plain": [
       "['X1', 'X6', 'X8', 'X9']"
      ]
     },
     "execution_count": 10,
     "metadata": {},
     "output_type": "execute_result"
    }
   ],
   "source": [
    "att_used = []\n",
    "for i, cc_vio in enumerate(max_atts):\n",
    "    count_order = sum([int(cc_vio > x) for x in max_atts])\n",
    "    if count_order > int(len(max_atts)//2):\n",
    "        att_used.append('X{}'.format(i+1))\n",
    "att_used"
   ]
  },
  {
   "cell_type": "code",
   "execution_count": 12,
   "id": "511a8a12",
   "metadata": {},
   "outputs": [],
   "source": [
    "output = sum([list(map(list, combinations(att_used, i))) for i in range(len(att_used) + 1)], [])"
   ]
  },
  {
   "cell_type": "code",
   "execution_count": 23,
   "id": "b061c069",
   "metadata": {},
   "outputs": [
    {
     "name": "stdout",
     "output_type": "stream",
     "text": [
      "['X9']\n",
      "4 0.7100594905928783 2023\n",
      "['X8']\n",
      "4 0.7106851847590415 2057\n",
      "['X1']\n",
      "4 0.6884116501360545 2210\n",
      "['X2']\n",
      "4 0.6497304772034158 2500\n",
      "['X9', 'X8']\n",
      "4 0.12084304494790067 5329\n",
      "['X9', 'X1']\n",
      "4 0.2158252174944203 3909\n",
      "['X9', 'X2']\n",
      "4 0.18681263253582972 4461\n",
      "['X8', 'X1']\n",
      "4 0.19914922712628566 4323\n",
      "['X8', 'X2']\n",
      "4 0.17581364996180465 4470\n",
      "['X1', 'X2']\n",
      "4 0.25321764167407557 3342\n",
      "['X9', 'X8', 'X1']\n",
      "4 0.06005149470914684 6497\n",
      "['X9', 'X8', 'X2']\n",
      "4 0.039899311115373405 7316\n",
      "['X9', 'X1', 'X2']\n",
      "4 0.04651569501058507 6977\n",
      "['X8', 'X1', 'X2']\n",
      "4 0.040103156552639095 7316\n",
      "['X9', 'X8', 'X1', 'X2']\n",
      "4 0.0002660345528992771 9936\n"
     ]
    }
   ],
   "source": [
    "for cur_cols in output:\n",
    "    if len(cur_cols) > 0:\n",
    "        dense_df = estimate_density(df_sample, 'Y', 'C0', cur_cols)\n",
    "        dense_df['density'] = dense_df[['density_G0_L0', 'density_G0_L1', 'density_G1_L0', 'density_G1_L1']].apply(lambda x: get_maximum(x), axis=1)\n",
    "    #     print(n_num_atts, len(dense_df['density'].unique()), dense_df['density'].mean(), dense_df['density'].std())\n",
    "\n",
    "        dense_df.sort_values(by=['density'], ascending=False, inplace=True)\n",
    "\n",
    "        cc_input = dense_df.iloc[:2000, :].copy() # dense_n points with highest density score\n",
    "\n",
    "        assertions_i = di.learn_assertions(cc_input[cur_cols], max_self_violation=1.0)\n",
    "\n",
    "        result_i = assertions_i.evaluate(dense_df[cur_cols], explanation=True, normalizeViolation=True)\n",
    "        dense_df['vio_{}'.format(n_num_atts)] = result_i.row_wise_violation_summary['violation']\n",
    "        cc_vio = dense_df['vio_{}'.format(n_num_atts)].mean()\n",
    "        print(cur_cols, cc_vio, sum(dense_df['vio_{}'.format(n_num_atts)]==0))\n",
    "        "
   ]
  },
  {
   "cell_type": "code",
   "execution_count": 14,
   "id": "daf5b1e7",
   "metadata": {},
   "outputs": [],
   "source": []
  },
  {
   "cell_type": "code",
   "execution_count": 16,
   "id": "643afcc0",
   "metadata": {},
   "outputs": [],
   "source": []
  },
  {
   "cell_type": "code",
   "execution_count": 9,
   "id": "90747d93",
   "metadata": {},
   "outputs": [
    {
     "name": "stdout",
     "output_type": "stream",
     "text": [
      "1 272 -1.0754373332353548 0.3672159486357523\n",
      "2 242 -1.1552215748032477 0.4760007634055771\n",
      "3 222 -1.086681571371981 0.4267557317130548\n",
      "4 248 -1.1433776346180025 0.5389282990170616\n",
      "5 215 -1.0862648331239446 0.5191917224719484\n",
      "6 230 -1.1286711479574796 0.49125876468820234\n",
      "7 2245 -1.1601220269630768 0.5164089472096848\n",
      "8 279 -1.0716265681991757 0.390939995268604\n",
      "9 270 -1.0941737075388698 0.35627043238264827\n"
     ]
    }
   ],
   "source": [
    "for n_num_atts in range(1, 10):\n",
    "    dense_df = estimate_density(df_sample, 'Y', 'C0', ['X{}'.format(n_num_atts)])\n",
    "    dense_df['density'] = dense_df[['density_G0_L0', 'density_G0_L1', 'density_G1_L0', 'density_G1_L1']].apply(lambda x: get_maximum(x), axis=1)\n",
    "    print(n_num_atts, len(dense_df['density'].unique()), dense_df['density'].mean(), dense_df['density'].std())"
   ]
  },
  {
   "cell_type": "code",
   "execution_count": 15,
   "id": "fc34efc7",
   "metadata": {
    "scrolled": true
   },
   "outputs": [
    {
     "data": {
      "image/png": "[encoded data removed]",
      "text/plain": [
       "<Figure size 720x576 with 1 Axes>"
      ]
     },
     "metadata": {
      "needs_background": "light"
     },
     "output_type": "display_data"
    },
    {
     "data": {
      "image/png": "[encoded data removed]",
      "text/plain": [
       "<Figure size 720x576 with 1 Axes>"
      ]
     },
     "metadata": {
      "needs_background": "light"
     },
     "output_type": "display_data"
    },
    {
     "data": {
      "image/png": "[encoded data removed]",
      "text/plain": [
       "<Figure size 720x576 with 1 Axes>"
      ]
     },
     "metadata": {
      "needs_background": "light"
     },
     "output_type": "display_data"
    },
    {
     "data": {
      "image/png": "[encoded data removed]",
      "text/plain": [
       "<Figure size 720x576 with 1 Axes>"
      ]
     },
     "metadata": {
      "needs_background": "light"
     },
     "output_type": "display_data"
    },
    {
     "data": {
      "image/png": "[encoded data removed]",
      "text/plain": [
       "<Figure size 720x576 with 1 Axes>"
      ]
     },
     "metadata": {
      "needs_background": "light"
     },
     "output_type": "display_data"
    },
    {
     "data": {
      "image/png": "[encoded data removed]",
      "text/plain": [
       "<Figure size 720x576 with 1 Axes>"
      ]
     },
     "metadata": {
      "needs_background": "light"
     },
     "output_type": "display_data"
    },
    {
     "data": {
      "image/png": "[encoded data removed]",
      "text/plain": [
       "<Figure size 720x576 with 1 Axes>"
      ]
     },
     "metadata": {
      "needs_background": "light"
     },
     "output_type": "display_data"
    },
    {
     "data": {
      "image/png": "[encoded data removed]",
      "text/plain": [
       "<Figure size 720x576 with 1 Axes>"
      ]
     },
     "metadata": {
      "needs_background": "light"
     },
     "output_type": "display_data"
    },
    {
     "data": {
      "image/png": "[encoded data removed]",
      "text/plain": [
       "<Figure size 720x576 with 1 Axes>"
      ]
     },
     "metadata": {
      "needs_background": "light"
     },
     "output_type": "display_data"
    }
   ],
   "source": [
    "for n_num_atts in range(1, 10):\n",
    "    ax = plt.figure(figsize=(10, 8))\n",
    "    sns.histplot(x='X{}'.format(n_num_atts), data=dense_df, hue='C0')"
   ]
  },
  {
   "cell_type": "code",
   "execution_count": null,
   "id": "22e69eb3",
   "metadata": {},
   "outputs": [],
   "source": []
  },
  {
   "cell_type": "code",
   "execution_count": null,
   "id": "c573714d",
   "metadata": {},
   "outputs": [],
   "source": []
  },
  {
   "cell_type": "code",
   "execution_count": null,
   "id": "2c54d8b4",
   "metadata": {},
   "outputs": [],
   "source": []
  },
  {
   "cell_type": "code",
   "execution_count": null,
   "id": "622fcaf0",
   "metadata": {},
   "outputs": [],
   "source": []
  },
  {
   "cell_type": "code",
   "execution_count": 8,
   "id": "f3cac95c",
   "metadata": {},
   "outputs": [],
   "source": []
  },
  {
   "cell_type": "code",
   "execution_count": 24,
   "id": "3b658c84",
   "metadata": {},
   "outputs": [],
   "source": [
    "dense_df['density'] = dense_df[['C0', 'Y', 'density_G0_L0', 'density_G0_L1', 'density_G1_L0', 'density_G1_L1']].apply(lambda x: combine_dense(x), axis=1)\n",
    "dense_df['density_max'] = dense_df[['density_G0_L0', 'density_G0_L1', 'density_G1_L0', 'density_G1_L1']].apply(lambda x: get_maximum(x), axis=1)"
   ]
  },
  {
   "cell_type": "code",
   "execution_count": 25,
   "id": "9b2d4a3c",
   "metadata": {},
   "outputs": [
    {
     "data": {
      "text/html": [
       "<div>\n",
       "<style scoped>\n",
       "    .dataframe tbody tr th:only-of-type {\n",
       "        vertical-align: middle;\n",
       "    }\n",
       "\n",
       "    .dataframe tbody tr th {\n",
       "        vertical-align: top;\n",
       "    }\n",
       "\n",
       "    .dataframe thead th {\n",
       "        text-align: right;\n",
       "    }\n",
       "</style>\n",
       "<table border=\"1\" class=\"dataframe\">\n",
       "  <thead>\n",
       "    <tr style=\"text-align: right;\">\n",
       "      <th></th>\n",
       "      <th>X1</th>\n",
       "      <th>X2</th>\n",
       "      <th>X3</th>\n",
       "      <th>X4</th>\n",
       "      <th>X5</th>\n",
       "      <th>X6</th>\n",
       "      <th>X7</th>\n",
       "      <th>X8</th>\n",
       "      <th>X9</th>\n",
       "      <th>Y</th>\n",
       "      <th>C0</th>\n",
       "      <th>density_G0_L0</th>\n",
       "      <th>density_G0_L1</th>\n",
       "      <th>density_G1_L0</th>\n",
       "      <th>density_G1_L1</th>\n",
       "      <th>density</th>\n",
       "      <th>density_max</th>\n",
       "    </tr>\n",
       "  </thead>\n",
       "  <tbody>\n",
       "    <tr>\n",
       "      <th>0</th>\n",
       "      <td>0.403613</td>\n",
       "      <td>-0.760029</td>\n",
       "      <td>-1.495491</td>\n",
       "      <td>1.538432</td>\n",
       "      <td>0.982352</td>\n",
       "      <td>-0.282166</td>\n",
       "      <td>1.839695</td>\n",
       "      <td>1.326399</td>\n",
       "      <td>-0.551941</td>\n",
       "      <td>0</td>\n",
       "      <td>0</td>\n",
       "      <td>10.087788</td>\n",
       "      <td>-inf</td>\n",
       "      <td>-inf</td>\n",
       "      <td>-21.374224</td>\n",
       "      <td>10.087788</td>\n",
       "      <td>10.087788</td>\n",
       "    </tr>\n",
       "    <tr>\n",
       "      <th>1</th>\n",
       "      <td>-0.331060</td>\n",
       "      <td>-0.769690</td>\n",
       "      <td>-1.849364</td>\n",
       "      <td>-0.517347</td>\n",
       "      <td>-0.465138</td>\n",
       "      <td>-1.464779</td>\n",
       "      <td>-0.269203</td>\n",
       "      <td>-1.744422</td>\n",
       "      <td>-0.740582</td>\n",
       "      <td>0</td>\n",
       "      <td>1</td>\n",
       "      <td>-14.904341</td>\n",
       "      <td>-inf</td>\n",
       "      <td>9.793898</td>\n",
       "      <td>-18.735167</td>\n",
       "      <td>9.793898</td>\n",
       "      <td>9.793898</td>\n",
       "    </tr>\n",
       "    <tr>\n",
       "      <th>2</th>\n",
       "      <td>-1.050275</td>\n",
       "      <td>-1.268292</td>\n",
       "      <td>-0.105789</td>\n",
       "      <td>-1.800956</td>\n",
       "      <td>-1.332838</td>\n",
       "      <td>-1.694714</td>\n",
       "      <td>-0.865304</td>\n",
       "      <td>-0.898872</td>\n",
       "      <td>-1.467067</td>\n",
       "      <td>0</td>\n",
       "      <td>1</td>\n",
       "      <td>-inf</td>\n",
       "      <td>-inf</td>\n",
       "      <td>9.793898</td>\n",
       "      <td>-inf</td>\n",
       "      <td>9.793898</td>\n",
       "      <td>9.793898</td>\n",
       "    </tr>\n",
       "    <tr>\n",
       "      <th>3</th>\n",
       "      <td>1.569971</td>\n",
       "      <td>1.093808</td>\n",
       "      <td>-0.525895</td>\n",
       "      <td>0.110933</td>\n",
       "      <td>-0.441558</td>\n",
       "      <td>-0.666359</td>\n",
       "      <td>0.474688</td>\n",
       "      <td>1.783748</td>\n",
       "      <td>0.147531</td>\n",
       "      <td>0</td>\n",
       "      <td>0</td>\n",
       "      <td>10.087788</td>\n",
       "      <td>-inf</td>\n",
       "      <td>-inf</td>\n",
       "      <td>-inf</td>\n",
       "      <td>10.087788</td>\n",
       "      <td>10.087788</td>\n",
       "    </tr>\n",
       "    <tr>\n",
       "      <th>4</th>\n",
       "      <td>0.073097</td>\n",
       "      <td>0.800246</td>\n",
       "      <td>0.600790</td>\n",
       "      <td>0.403661</td>\n",
       "      <td>1.057387</td>\n",
       "      <td>-0.731163</td>\n",
       "      <td>0.246461</td>\n",
       "      <td>0.017919</td>\n",
       "      <td>-0.380416</td>\n",
       "      <td>0</td>\n",
       "      <td>1</td>\n",
       "      <td>-inf</td>\n",
       "      <td>-inf</td>\n",
       "      <td>9.793898</td>\n",
       "      <td>-inf</td>\n",
       "      <td>9.793898</td>\n",
       "      <td>9.793898</td>\n",
       "    </tr>\n",
       "  </tbody>\n",
       "</table>\n",
       "</div>"
      ],
      "text/plain": [
       "         X1        X2        X3        X4        X5        X6        X7  \\\n",
       "0  0.403613 -0.760029 -1.495491  1.538432  0.982352 -0.282166  1.839695   \n",
       "1 -0.331060 -0.769690 -1.849364 -0.517347 -0.465138 -1.464779 -0.269203   \n",
       "2 -1.050275 -1.268292 -0.105789 -1.800956 -1.332838 -1.694714 -0.865304   \n",
       "3  1.569971  1.093808 -0.525895  0.110933 -0.441558 -0.666359  0.474688   \n",
       "4  0.073097  0.800246  0.600790  0.403661  1.057387 -0.731163  0.246461   \n",
       "\n",
       "         X8        X9  Y  C0  density_G0_L0  density_G0_L1  density_G1_L0  \\\n",
       "0  1.326399 -0.551941  0   0      10.087788           -inf           -inf   \n",
       "1 -1.744422 -0.740582  0   1     -14.904341           -inf       9.793898   \n",
       "2 -0.898872 -1.467067  0   1           -inf           -inf       9.793898   \n",
       "3  1.783748  0.147531  0   0      10.087788           -inf           -inf   \n",
       "4  0.017919 -0.380416  0   1           -inf           -inf       9.793898   \n",
       "\n",
       "   density_G1_L1    density  density_max  \n",
       "0     -21.374224  10.087788    10.087788  \n",
       "1     -18.735167   9.793898     9.793898  \n",
       "2           -inf   9.793898     9.793898  \n",
       "3           -inf  10.087788    10.087788  \n",
       "4           -inf   9.793898     9.793898  "
      ]
     },
     "execution_count": 25,
     "metadata": {},
     "output_type": "execute_result"
    }
   ],
   "source": [
    "dense_df.head()"
   ]
  },
  {
   "cell_type": "code",
   "execution_count": 27,
   "id": "c35ce1e1",
   "metadata": {},
   "outputs": [
    {
     "data": {
      "text/plain": [
       "<matplotlib.axes._subplots.AxesSubplot at 0x7fbfe3122a20>"
      ]
     },
     "execution_count": 27,
     "metadata": {},
     "output_type": "execute_result"
    },
    {
     "data": {
      "image/png": "[encoded data removed]",
      "text/plain": [
       "<Figure size 432x288 with 1 Axes>"
      ]
     },
     "metadata": {
      "needs_background": "light"
     },
     "output_type": "display_data"
    }
   ],
   "source": [
    "sns.histplot(x='density', data=dense_df, hue='C0')"
   ]
  },
  {
   "cell_type": "code",
   "execution_count": 28,
   "id": "4f49d141",
   "metadata": {},
   "outputs": [
    {
     "data": {
      "text/plain": [
       "<matplotlib.axes._subplots.AxesSubplot at 0x7fc011579828>"
      ]
     },
     "execution_count": 28,
     "metadata": {},
     "output_type": "execute_result"
    },
    {
     "data": {
      "image/png": "[encoded data removed]",
      "text/plain": [
       "<Figure size 432x288 with 1 Axes>"
      ]
     },
     "metadata": {
      "needs_background": "light"
     },
     "output_type": "display_data"
    }
   ],
   "source": [
    "sns.histplot(x='density_max', data=dense_df, hue='C0')"
   ]
  },
  {
   "cell_type": "code",
   "execution_count": null,
   "id": "1035bd88",
   "metadata": {},
   "outputs": [],
   "source": []
  },
  {
   "cell_type": "code",
   "execution_count": null,
   "id": "70bd7e3f",
   "metadata": {},
   "outputs": [],
   "source": []
  },
  {
   "cell_type": "code",
   "execution_count": null,
   "id": "9f78db7c",
   "metadata": {},
   "outputs": [],
   "source": []
  }
 ],
 "metadata": {
  "kernelspec": {
   "display_name": "Python 3 (ipykernel)",
   "language": "python",
   "name": "python3"
  },
  "language_info": {
   "codemirror_mode": {
    "name": "ipython",
    "version": 3
   },
   "file_extension": ".py",
   "mimetype": "text/x-python",
   "name": "python",
   "nbconvert_exporter": "python",
   "pygments_lexer": "ipython3",
   "version": "3.7.0"
  }
 },
 "nbformat": 4,
 "nbformat_minor": 5
}
