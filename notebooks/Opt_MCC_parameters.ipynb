{
 "cells": [
  {
   "cell_type": "code",
   "execution_count": 21,
   "id": "c0844bd6",
   "metadata": {},
   "outputs": [],
   "source": [
    "import warnings\n",
    "import numpy as np\n",
    "import pandas as pd\n",
    "import os, json\n",
    "import matplotlib.pyplot as plt\n",
    "import seaborn as sns\n",
    "\n",
    "from joblib import load\n",
    "from sklearn.metrics import confusion_matrix, accuracy_score, roc_auc_score\n",
    "from TrainMLModels import read_json, generate_model_predictions, save_json\n",
    "\n",
    "from tabulate import tabulate\n",
    "from texttable import Texttable\n",
    "\n",
    "import latextable\n",
    "\n",
    "warnings.filterwarnings('ignore')"
   ]
  },
  {
   "cell_type": "code",
   "execution_count": 22,
   "id": "fe319037",
   "metadata": {},
   "outputs": [
    {
     "data": {
      "text/html": [
       "<div>\n",
       "<style scoped>\n",
       "    .dataframe tbody tr th:only-of-type {\n",
       "        vertical-align: middle;\n",
       "    }\n",
       "\n",
       "    .dataframe tbody tr th {\n",
       "        vertical-align: top;\n",
       "    }\n",
       "\n",
       "    .dataframe thead th {\n",
       "        text-align: right;\n",
       "    }\n",
       "</style>\n",
       "<table border=\"1\" class=\"dataframe\">\n",
       "  <thead>\n",
       "    <tr style=\"text-align: right;\">\n",
       "      <th></th>\n",
       "      <th>data</th>\n",
       "      <th>seed</th>\n",
       "      <th>test_n</th>\n",
       "      <th>group_n</th>\n",
       "      <th>sim</th>\n",
       "      <th>sim_n</th>\n",
       "      <th>model</th>\n",
       "      <th>method</th>\n",
       "      <th>correct_n</th>\n",
       "    </tr>\n",
       "  </thead>\n",
       "  <tbody>\n",
       "    <tr>\n",
       "      <th>0</th>\n",
       "      <td>meps16</td>\n",
       "      <td>1</td>\n",
       "      <td>2352</td>\n",
       "      <td>1486</td>\n",
       "      <td>0 to 1</td>\n",
       "      <td>129</td>\n",
       "      <td>lr</td>\n",
       "      <td>MCC-MIN</td>\n",
       "      <td>102</td>\n",
       "    </tr>\n",
       "    <tr>\n",
       "      <th>1</th>\n",
       "      <td>meps16</td>\n",
       "      <td>1</td>\n",
       "      <td>2352</td>\n",
       "      <td>1486</td>\n",
       "      <td>0 to 1</td>\n",
       "      <td>129</td>\n",
       "      <td>lr</td>\n",
       "      <td>MCC-W1</td>\n",
       "      <td>106</td>\n",
       "    </tr>\n",
       "    <tr>\n",
       "      <th>2</th>\n",
       "      <td>meps16</td>\n",
       "      <td>1</td>\n",
       "      <td>2352</td>\n",
       "      <td>1486</td>\n",
       "      <td>0 to 1</td>\n",
       "      <td>129</td>\n",
       "      <td>lr</td>\n",
       "      <td>MCC-W2</td>\n",
       "      <td>106</td>\n",
       "    </tr>\n",
       "    <tr>\n",
       "      <th>3</th>\n",
       "      <td>meps16</td>\n",
       "      <td>1</td>\n",
       "      <td>2352</td>\n",
       "      <td>1486</td>\n",
       "      <td>0 to 1</td>\n",
       "      <td>129</td>\n",
       "      <td>lr</td>\n",
       "      <td>ORIG</td>\n",
       "      <td>99</td>\n",
       "    </tr>\n",
       "    <tr>\n",
       "      <th>4</th>\n",
       "      <td>meps16</td>\n",
       "      <td>1</td>\n",
       "      <td>2352</td>\n",
       "      <td>1486</td>\n",
       "      <td>0 to 1</td>\n",
       "      <td>129</td>\n",
       "      <td>lr</td>\n",
       "      <td>SEP</td>\n",
       "      <td>102</td>\n",
       "    </tr>\n",
       "    <tr>\n",
       "      <th>5</th>\n",
       "      <td>meps16</td>\n",
       "      <td>1</td>\n",
       "      <td>2352</td>\n",
       "      <td>866</td>\n",
       "      <td>1 to 0</td>\n",
       "      <td>264</td>\n",
       "      <td>lr</td>\n",
       "      <td>MCC-MIN</td>\n",
       "      <td>203</td>\n",
       "    </tr>\n",
       "    <tr>\n",
       "      <th>6</th>\n",
       "      <td>meps16</td>\n",
       "      <td>1</td>\n",
       "      <td>2352</td>\n",
       "      <td>866</td>\n",
       "      <td>1 to 0</td>\n",
       "      <td>264</td>\n",
       "      <td>lr</td>\n",
       "      <td>MCC-W1</td>\n",
       "      <td>240</td>\n",
       "    </tr>\n",
       "    <tr>\n",
       "      <th>7</th>\n",
       "      <td>meps16</td>\n",
       "      <td>1</td>\n",
       "      <td>2352</td>\n",
       "      <td>866</td>\n",
       "      <td>1 to 0</td>\n",
       "      <td>264</td>\n",
       "      <td>lr</td>\n",
       "      <td>MCC-W2</td>\n",
       "      <td>225</td>\n",
       "    </tr>\n",
       "    <tr>\n",
       "      <th>8</th>\n",
       "      <td>meps16</td>\n",
       "      <td>1</td>\n",
       "      <td>2352</td>\n",
       "      <td>866</td>\n",
       "      <td>1 to 0</td>\n",
       "      <td>264</td>\n",
       "      <td>lr</td>\n",
       "      <td>ORIG</td>\n",
       "      <td>240</td>\n",
       "    </tr>\n",
       "    <tr>\n",
       "      <th>9</th>\n",
       "      <td>meps16</td>\n",
       "      <td>1</td>\n",
       "      <td>2352</td>\n",
       "      <td>866</td>\n",
       "      <td>1 to 0</td>\n",
       "      <td>264</td>\n",
       "      <td>lr</td>\n",
       "      <td>SEP</td>\n",
       "      <td>218</td>\n",
       "    </tr>\n",
       "  </tbody>\n",
       "</table>\n",
       "</div>"
      ],
      "text/plain": [
       "     data  seed  test_n  group_n     sim  sim_n model   method  correct_n\n",
       "0  meps16     1    2352     1486  0 to 1    129    lr  MCC-MIN        102\n",
       "1  meps16     1    2352     1486  0 to 1    129    lr   MCC-W1        106\n",
       "2  meps16     1    2352     1486  0 to 1    129    lr   MCC-W2        106\n",
       "3  meps16     1    2352     1486  0 to 1    129    lr     ORIG         99\n",
       "4  meps16     1    2352     1486  0 to 1    129    lr      SEP        102\n",
       "5  meps16     1    2352      866  1 to 0    264    lr  MCC-MIN        203\n",
       "6  meps16     1    2352      866  1 to 0    264    lr   MCC-W1        240\n",
       "7  meps16     1    2352      866  1 to 0    264    lr   MCC-W2        225\n",
       "8  meps16     1    2352      866  1 to 0    264    lr     ORIG        240\n",
       "9  meps16     1    2352      866  1 to 0    264    lr      SEP        218"
      ]
     },
     "execution_count": 22,
     "metadata": {},
     "output_type": "execute_result"
    }
   ],
   "source": [
    "data_name = 'meps16'\n",
    "\n",
    "cur_dir = 'eval/'\n",
    "\n",
    "mcc_df = pd.read_csv('{}min-{}.csv'.format(cur_dir, data_name))\n",
    "mcc_df.head(10)"
   ]
  },
  {
   "cell_type": "code",
   "execution_count": 23,
   "id": "3d512640",
   "metadata": {},
   "outputs": [
    {
     "data": {
      "text/html": [
       "<div>\n",
       "<style scoped>\n",
       "    .dataframe tbody tr th:only-of-type {\n",
       "        vertical-align: middle;\n",
       "    }\n",
       "\n",
       "    .dataframe tbody tr th {\n",
       "        vertical-align: top;\n",
       "    }\n",
       "\n",
       "    .dataframe thead th {\n",
       "        text-align: right;\n",
       "    }\n",
       "</style>\n",
       "<table border=\"1\" class=\"dataframe\">\n",
       "  <thead>\n",
       "    <tr style=\"text-align: right;\">\n",
       "      <th></th>\n",
       "      <th>data</th>\n",
       "      <th>seed</th>\n",
       "      <th>test_n</th>\n",
       "      <th>group_n</th>\n",
       "      <th>sim</th>\n",
       "      <th>sim_n</th>\n",
       "      <th>model</th>\n",
       "      <th>method</th>\n",
       "      <th>correct_n</th>\n",
       "    </tr>\n",
       "  </thead>\n",
       "  <tbody>\n",
       "    <tr>\n",
       "      <th>0</th>\n",
       "      <td>meps16</td>\n",
       "      <td>1</td>\n",
       "      <td>2352</td>\n",
       "      <td>1486</td>\n",
       "      <td>0 to 1</td>\n",
       "      <td>129</td>\n",
       "      <td>lr</td>\n",
       "      <td>MCC-MIN</td>\n",
       "      <td>102</td>\n",
       "    </tr>\n",
       "    <tr>\n",
       "      <th>1</th>\n",
       "      <td>meps16</td>\n",
       "      <td>1</td>\n",
       "      <td>2352</td>\n",
       "      <td>1486</td>\n",
       "      <td>0 to 1</td>\n",
       "      <td>129</td>\n",
       "      <td>lr</td>\n",
       "      <td>MCC-W1</td>\n",
       "      <td>106</td>\n",
       "    </tr>\n",
       "    <tr>\n",
       "      <th>2</th>\n",
       "      <td>meps16</td>\n",
       "      <td>1</td>\n",
       "      <td>2352</td>\n",
       "      <td>1486</td>\n",
       "      <td>0 to 1</td>\n",
       "      <td>129</td>\n",
       "      <td>lr</td>\n",
       "      <td>MCC-W2</td>\n",
       "      <td>106</td>\n",
       "    </tr>\n",
       "    <tr>\n",
       "      <th>3</th>\n",
       "      <td>meps16</td>\n",
       "      <td>1</td>\n",
       "      <td>2352</td>\n",
       "      <td>1486</td>\n",
       "      <td>0 to 1</td>\n",
       "      <td>129</td>\n",
       "      <td>lr</td>\n",
       "      <td>ORIG</td>\n",
       "      <td>99</td>\n",
       "    </tr>\n",
       "    <tr>\n",
       "      <th>4</th>\n",
       "      <td>meps16</td>\n",
       "      <td>1</td>\n",
       "      <td>2352</td>\n",
       "      <td>1486</td>\n",
       "      <td>0 to 1</td>\n",
       "      <td>129</td>\n",
       "      <td>lr</td>\n",
       "      <td>SEP</td>\n",
       "      <td>102</td>\n",
       "    </tr>\n",
       "    <tr>\n",
       "      <th>5</th>\n",
       "      <td>meps16</td>\n",
       "      <td>1</td>\n",
       "      <td>2352</td>\n",
       "      <td>866</td>\n",
       "      <td>1 to 0</td>\n",
       "      <td>264</td>\n",
       "      <td>lr</td>\n",
       "      <td>MCC-MIN</td>\n",
       "      <td>203</td>\n",
       "    </tr>\n",
       "    <tr>\n",
       "      <th>6</th>\n",
       "      <td>meps16</td>\n",
       "      <td>1</td>\n",
       "      <td>2352</td>\n",
       "      <td>866</td>\n",
       "      <td>1 to 0</td>\n",
       "      <td>264</td>\n",
       "      <td>lr</td>\n",
       "      <td>MCC-W1</td>\n",
       "      <td>240</td>\n",
       "    </tr>\n",
       "    <tr>\n",
       "      <th>7</th>\n",
       "      <td>meps16</td>\n",
       "      <td>1</td>\n",
       "      <td>2352</td>\n",
       "      <td>866</td>\n",
       "      <td>1 to 0</td>\n",
       "      <td>264</td>\n",
       "      <td>lr</td>\n",
       "      <td>MCC-W2</td>\n",
       "      <td>225</td>\n",
       "    </tr>\n",
       "    <tr>\n",
       "      <th>8</th>\n",
       "      <td>meps16</td>\n",
       "      <td>1</td>\n",
       "      <td>2352</td>\n",
       "      <td>866</td>\n",
       "      <td>1 to 0</td>\n",
       "      <td>264</td>\n",
       "      <td>lr</td>\n",
       "      <td>ORIG</td>\n",
       "      <td>240</td>\n",
       "    </tr>\n",
       "    <tr>\n",
       "      <th>9</th>\n",
       "      <td>meps16</td>\n",
       "      <td>1</td>\n",
       "      <td>2352</td>\n",
       "      <td>866</td>\n",
       "      <td>1 to 0</td>\n",
       "      <td>264</td>\n",
       "      <td>lr</td>\n",
       "      <td>SEP</td>\n",
       "      <td>218</td>\n",
       "    </tr>\n",
       "    <tr>\n",
       "      <th>10</th>\n",
       "      <td>meps16</td>\n",
       "      <td>1</td>\n",
       "      <td>2352</td>\n",
       "      <td>1486</td>\n",
       "      <td>0 to 1</td>\n",
       "      <td>129</td>\n",
       "      <td>lr</td>\n",
       "      <td>SCC-ONE</td>\n",
       "      <td>98</td>\n",
       "    </tr>\n",
       "    <tr>\n",
       "      <th>11</th>\n",
       "      <td>meps16</td>\n",
       "      <td>1</td>\n",
       "      <td>2352</td>\n",
       "      <td>866</td>\n",
       "      <td>1 to 0</td>\n",
       "      <td>264</td>\n",
       "      <td>lr</td>\n",
       "      <td>SCC-ONE</td>\n",
       "      <td>240</td>\n",
       "    </tr>\n",
       "    <tr>\n",
       "      <th>12</th>\n",
       "      <td>meps16</td>\n",
       "      <td>1</td>\n",
       "      <td>2352</td>\n",
       "      <td>1486</td>\n",
       "      <td>0 to 1</td>\n",
       "      <td>129</td>\n",
       "      <td>lr</td>\n",
       "      <td>SCC-KAM</td>\n",
       "      <td>104</td>\n",
       "    </tr>\n",
       "    <tr>\n",
       "      <th>13</th>\n",
       "      <td>meps16</td>\n",
       "      <td>1</td>\n",
       "      <td>2352</td>\n",
       "      <td>866</td>\n",
       "      <td>1 to 0</td>\n",
       "      <td>264</td>\n",
       "      <td>lr</td>\n",
       "      <td>SCC-KAM</td>\n",
       "      <td>207</td>\n",
       "    </tr>\n",
       "    <tr>\n",
       "      <th>14</th>\n",
       "      <td>meps16</td>\n",
       "      <td>1</td>\n",
       "      <td>2352</td>\n",
       "      <td>1486</td>\n",
       "      <td>0 to 1</td>\n",
       "      <td>129</td>\n",
       "      <td>lr</td>\n",
       "      <td>OMN-ONE</td>\n",
       "      <td>18</td>\n",
       "    </tr>\n",
       "    <tr>\n",
       "      <th>15</th>\n",
       "      <td>meps16</td>\n",
       "      <td>1</td>\n",
       "      <td>2352</td>\n",
       "      <td>866</td>\n",
       "      <td>1 to 0</td>\n",
       "      <td>264</td>\n",
       "      <td>lr</td>\n",
       "      <td>OMN-ONE</td>\n",
       "      <td>25</td>\n",
       "    </tr>\n",
       "    <tr>\n",
       "      <th>16</th>\n",
       "      <td>meps16</td>\n",
       "      <td>1</td>\n",
       "      <td>2352</td>\n",
       "      <td>1486</td>\n",
       "      <td>0 to 1</td>\n",
       "      <td>129</td>\n",
       "      <td>lr</td>\n",
       "      <td>KAM-ONE</td>\n",
       "      <td>104</td>\n",
       "    </tr>\n",
       "    <tr>\n",
       "      <th>17</th>\n",
       "      <td>meps16</td>\n",
       "      <td>1</td>\n",
       "      <td>2352</td>\n",
       "      <td>866</td>\n",
       "      <td>1 to 0</td>\n",
       "      <td>264</td>\n",
       "      <td>lr</td>\n",
       "      <td>KAM-ONE</td>\n",
       "      <td>210</td>\n",
       "    </tr>\n",
       "    <tr>\n",
       "      <th>18</th>\n",
       "      <td>meps16</td>\n",
       "      <td>1</td>\n",
       "      <td>2352</td>\n",
       "      <td>1486</td>\n",
       "      <td>0 to 1</td>\n",
       "      <td>129</td>\n",
       "      <td>tr</td>\n",
       "      <td>MCC-MIN</td>\n",
       "      <td>107</td>\n",
       "    </tr>\n",
       "    <tr>\n",
       "      <th>19</th>\n",
       "      <td>meps16</td>\n",
       "      <td>1</td>\n",
       "      <td>2352</td>\n",
       "      <td>1486</td>\n",
       "      <td>0 to 1</td>\n",
       "      <td>129</td>\n",
       "      <td>tr</td>\n",
       "      <td>MCC-W1</td>\n",
       "      <td>105</td>\n",
       "    </tr>\n",
       "    <tr>\n",
       "      <th>20</th>\n",
       "      <td>meps16</td>\n",
       "      <td>1</td>\n",
       "      <td>2352</td>\n",
       "      <td>1486</td>\n",
       "      <td>0 to 1</td>\n",
       "      <td>129</td>\n",
       "      <td>tr</td>\n",
       "      <td>MCC-W2</td>\n",
       "      <td>103</td>\n",
       "    </tr>\n",
       "    <tr>\n",
       "      <th>21</th>\n",
       "      <td>meps16</td>\n",
       "      <td>1</td>\n",
       "      <td>2352</td>\n",
       "      <td>1486</td>\n",
       "      <td>0 to 1</td>\n",
       "      <td>129</td>\n",
       "      <td>tr</td>\n",
       "      <td>ORIG</td>\n",
       "      <td>101</td>\n",
       "    </tr>\n",
       "    <tr>\n",
       "      <th>22</th>\n",
       "      <td>meps16</td>\n",
       "      <td>1</td>\n",
       "      <td>2352</td>\n",
       "      <td>1486</td>\n",
       "      <td>0 to 1</td>\n",
       "      <td>129</td>\n",
       "      <td>tr</td>\n",
       "      <td>SEP</td>\n",
       "      <td>109</td>\n",
       "    </tr>\n",
       "    <tr>\n",
       "      <th>23</th>\n",
       "      <td>meps16</td>\n",
       "      <td>1</td>\n",
       "      <td>2352</td>\n",
       "      <td>866</td>\n",
       "      <td>1 to 0</td>\n",
       "      <td>264</td>\n",
       "      <td>tr</td>\n",
       "      <td>MCC-MIN</td>\n",
       "      <td>225</td>\n",
       "    </tr>\n",
       "    <tr>\n",
       "      <th>24</th>\n",
       "      <td>meps16</td>\n",
       "      <td>1</td>\n",
       "      <td>2352</td>\n",
       "      <td>866</td>\n",
       "      <td>1 to 0</td>\n",
       "      <td>264</td>\n",
       "      <td>tr</td>\n",
       "      <td>MCC-W1</td>\n",
       "      <td>242</td>\n",
       "    </tr>\n",
       "    <tr>\n",
       "      <th>25</th>\n",
       "      <td>meps16</td>\n",
       "      <td>1</td>\n",
       "      <td>2352</td>\n",
       "      <td>866</td>\n",
       "      <td>1 to 0</td>\n",
       "      <td>264</td>\n",
       "      <td>tr</td>\n",
       "      <td>MCC-W2</td>\n",
       "      <td>229</td>\n",
       "    </tr>\n",
       "    <tr>\n",
       "      <th>26</th>\n",
       "      <td>meps16</td>\n",
       "      <td>1</td>\n",
       "      <td>2352</td>\n",
       "      <td>866</td>\n",
       "      <td>1 to 0</td>\n",
       "      <td>264</td>\n",
       "      <td>tr</td>\n",
       "      <td>ORIG</td>\n",
       "      <td>235</td>\n",
       "    </tr>\n",
       "    <tr>\n",
       "      <th>27</th>\n",
       "      <td>meps16</td>\n",
       "      <td>1</td>\n",
       "      <td>2352</td>\n",
       "      <td>866</td>\n",
       "      <td>1 to 0</td>\n",
       "      <td>264</td>\n",
       "      <td>tr</td>\n",
       "      <td>SEP</td>\n",
       "      <td>239</td>\n",
       "    </tr>\n",
       "    <tr>\n",
       "      <th>28</th>\n",
       "      <td>meps16</td>\n",
       "      <td>1</td>\n",
       "      <td>2352</td>\n",
       "      <td>1486</td>\n",
       "      <td>0 to 1</td>\n",
       "      <td>129</td>\n",
       "      <td>tr</td>\n",
       "      <td>SCC-ONE</td>\n",
       "      <td>103</td>\n",
       "    </tr>\n",
       "    <tr>\n",
       "      <th>29</th>\n",
       "      <td>meps16</td>\n",
       "      <td>1</td>\n",
       "      <td>2352</td>\n",
       "      <td>866</td>\n",
       "      <td>1 to 0</td>\n",
       "      <td>264</td>\n",
       "      <td>tr</td>\n",
       "      <td>SCC-ONE</td>\n",
       "      <td>236</td>\n",
       "    </tr>\n",
       "    <tr>\n",
       "      <th>30</th>\n",
       "      <td>meps16</td>\n",
       "      <td>1</td>\n",
       "      <td>2352</td>\n",
       "      <td>1486</td>\n",
       "      <td>0 to 1</td>\n",
       "      <td>129</td>\n",
       "      <td>tr</td>\n",
       "      <td>SCC-KAM</td>\n",
       "      <td>101</td>\n",
       "    </tr>\n",
       "    <tr>\n",
       "      <th>31</th>\n",
       "      <td>meps16</td>\n",
       "      <td>1</td>\n",
       "      <td>2352</td>\n",
       "      <td>866</td>\n",
       "      <td>1 to 0</td>\n",
       "      <td>264</td>\n",
       "      <td>tr</td>\n",
       "      <td>SCC-KAM</td>\n",
       "      <td>224</td>\n",
       "    </tr>\n",
       "    <tr>\n",
       "      <th>32</th>\n",
       "      <td>meps16</td>\n",
       "      <td>1</td>\n",
       "      <td>2352</td>\n",
       "      <td>1486</td>\n",
       "      <td>0 to 1</td>\n",
       "      <td>129</td>\n",
       "      <td>tr</td>\n",
       "      <td>OMN-ONE</td>\n",
       "      <td>111</td>\n",
       "    </tr>\n",
       "    <tr>\n",
       "      <th>33</th>\n",
       "      <td>meps16</td>\n",
       "      <td>1</td>\n",
       "      <td>2352</td>\n",
       "      <td>866</td>\n",
       "      <td>1 to 0</td>\n",
       "      <td>264</td>\n",
       "      <td>tr</td>\n",
       "      <td>OMN-ONE</td>\n",
       "      <td>236</td>\n",
       "    </tr>\n",
       "    <tr>\n",
       "      <th>34</th>\n",
       "      <td>meps16</td>\n",
       "      <td>1</td>\n",
       "      <td>2352</td>\n",
       "      <td>1486</td>\n",
       "      <td>0 to 1</td>\n",
       "      <td>129</td>\n",
       "      <td>tr</td>\n",
       "      <td>KAM-ONE</td>\n",
       "      <td>102</td>\n",
       "    </tr>\n",
       "    <tr>\n",
       "      <th>35</th>\n",
       "      <td>meps16</td>\n",
       "      <td>1</td>\n",
       "      <td>2352</td>\n",
       "      <td>866</td>\n",
       "      <td>1 to 0</td>\n",
       "      <td>264</td>\n",
       "      <td>tr</td>\n",
       "      <td>KAM-ONE</td>\n",
       "      <td>236</td>\n",
       "    </tr>\n",
       "    <tr>\n",
       "      <th>36</th>\n",
       "      <td>meps16</td>\n",
       "      <td>1</td>\n",
       "      <td>2352</td>\n",
       "      <td>1486</td>\n",
       "      <td>0 to 1</td>\n",
       "      <td>129</td>\n",
       "      <td>tr</td>\n",
       "      <td>CAP-ONE</td>\n",
       "      <td>102</td>\n",
       "    </tr>\n",
       "    <tr>\n",
       "      <th>37</th>\n",
       "      <td>meps16</td>\n",
       "      <td>1</td>\n",
       "      <td>2352</td>\n",
       "      <td>866</td>\n",
       "      <td>1 to 0</td>\n",
       "      <td>264</td>\n",
       "      <td>tr</td>\n",
       "      <td>CAP-ONE</td>\n",
       "      <td>233</td>\n",
       "    </tr>\n",
       "  </tbody>\n",
       "</table>\n",
       "</div>"
      ],
      "text/plain": [
       "      data  seed  test_n  group_n     sim  sim_n model   method  correct_n\n",
       "0   meps16     1    2352     1486  0 to 1    129    lr  MCC-MIN        102\n",
       "1   meps16     1    2352     1486  0 to 1    129    lr   MCC-W1        106\n",
       "2   meps16     1    2352     1486  0 to 1    129    lr   MCC-W2        106\n",
       "3   meps16     1    2352     1486  0 to 1    129    lr     ORIG         99\n",
       "4   meps16     1    2352     1486  0 to 1    129    lr      SEP        102\n",
       "5   meps16     1    2352      866  1 to 0    264    lr  MCC-MIN        203\n",
       "6   meps16     1    2352      866  1 to 0    264    lr   MCC-W1        240\n",
       "7   meps16     1    2352      866  1 to 0    264    lr   MCC-W2        225\n",
       "8   meps16     1    2352      866  1 to 0    264    lr     ORIG        240\n",
       "9   meps16     1    2352      866  1 to 0    264    lr      SEP        218\n",
       "10  meps16     1    2352     1486  0 to 1    129    lr  SCC-ONE         98\n",
       "11  meps16     1    2352      866  1 to 0    264    lr  SCC-ONE        240\n",
       "12  meps16     1    2352     1486  0 to 1    129    lr  SCC-KAM        104\n",
       "13  meps16     1    2352      866  1 to 0    264    lr  SCC-KAM        207\n",
       "14  meps16     1    2352     1486  0 to 1    129    lr  OMN-ONE         18\n",
       "15  meps16     1    2352      866  1 to 0    264    lr  OMN-ONE         25\n",
       "16  meps16     1    2352     1486  0 to 1    129    lr  KAM-ONE        104\n",
       "17  meps16     1    2352      866  1 to 0    264    lr  KAM-ONE        210\n",
       "18  meps16     1    2352     1486  0 to 1    129    tr  MCC-MIN        107\n",
       "19  meps16     1    2352     1486  0 to 1    129    tr   MCC-W1        105\n",
       "20  meps16     1    2352     1486  0 to 1    129    tr   MCC-W2        103\n",
       "21  meps16     1    2352     1486  0 to 1    129    tr     ORIG        101\n",
       "22  meps16     1    2352     1486  0 to 1    129    tr      SEP        109\n",
       "23  meps16     1    2352      866  1 to 0    264    tr  MCC-MIN        225\n",
       "24  meps16     1    2352      866  1 to 0    264    tr   MCC-W1        242\n",
       "25  meps16     1    2352      866  1 to 0    264    tr   MCC-W2        229\n",
       "26  meps16     1    2352      866  1 to 0    264    tr     ORIG        235\n",
       "27  meps16     1    2352      866  1 to 0    264    tr      SEP        239\n",
       "28  meps16     1    2352     1486  0 to 1    129    tr  SCC-ONE        103\n",
       "29  meps16     1    2352      866  1 to 0    264    tr  SCC-ONE        236\n",
       "30  meps16     1    2352     1486  0 to 1    129    tr  SCC-KAM        101\n",
       "31  meps16     1    2352      866  1 to 0    264    tr  SCC-KAM        224\n",
       "32  meps16     1    2352     1486  0 to 1    129    tr  OMN-ONE        111\n",
       "33  meps16     1    2352      866  1 to 0    264    tr  OMN-ONE        236\n",
       "34  meps16     1    2352     1486  0 to 1    129    tr  KAM-ONE        102\n",
       "35  meps16     1    2352      866  1 to 0    264    tr  KAM-ONE        236\n",
       "36  meps16     1    2352     1486  0 to 1    129    tr  CAP-ONE        102\n",
       "37  meps16     1    2352      866  1 to 0    264    tr  CAP-ONE        233"
      ]
     },
     "execution_count": 23,
     "metadata": {},
     "output_type": "execute_result"
    }
   ],
   "source": [
    "mcc_df.query('seed==1')"
   ]
  },
  {
   "cell_type": "code",
   "execution_count": null,
   "id": "a0e02cc4",
   "metadata": {},
   "outputs": [],
   "source": []
  },
  {
   "cell_type": "code",
   "execution_count": 24,
   "id": "2cb7eba4",
   "metadata": {},
   "outputs": [],
   "source": [
    "seeds = [1, 12345, 6, 2211, 15, 88, 121, 433, 500, 1121, 50, 583, 5278, 100000, 0xbeef, 0xcafe, 0xdead, 7777, 100, 923]\n",
    "# seeds = [88, 121, 433, 500, 1121, 50, 583, 5278, 100000, 0xbeef, 0xcafe, 0xdead, 7777, 100, 923]\n",
    "\n",
    "models = ['LR', 'TR']\n",
    "\n",
    "datasets = ['lsac', 'cardio', 'bank', 'meps16', 'credit', 'ACSE', 'ACSP', 'ACSH', 'ACSM', 'ACSI']\n",
    "\n",
    "all_mcc = pd.DataFrame()\n",
    "for data_name in datasets:\n",
    "    mcc_df = pd.read_csv('{}min-{}.csv'.format(cur_dir, data_name))\n",
    "    all_mcc = pd.concat([all_mcc, mcc_df])\n",
    "all_mcc['model'] = all_mcc['model'].apply(lambda x: x.upper())"
   ]
  },
  {
   "cell_type": "code",
   "execution_count": 25,
   "id": "28c51505",
   "metadata": {},
   "outputs": [],
   "source": [
    "# data_path = 'data/processed/'\n",
    "# test_sizes = []\n",
    "# for data_name in datasets:\n",
    "#     cur_meta = read_json('{}{}.json'.format(data_path, data_name))\n",
    "#     n_data = cur_meta['size']\n",
    "#     test_sizes.append(int(n_data*0.15))\n",
    "# test_sizes"
   ]
  },
  {
   "cell_type": "code",
   "execution_count": 26,
   "id": "19bd598f",
   "metadata": {},
   "outputs": [
    {
     "data": {
      "text/html": [
       "<div>\n",
       "<style scoped>\n",
       "    .dataframe tbody tr th:only-of-type {\n",
       "        vertical-align: middle;\n",
       "    }\n",
       "\n",
       "    .dataframe tbody tr th {\n",
       "        vertical-align: top;\n",
       "    }\n",
       "\n",
       "    .dataframe thead th {\n",
       "        text-align: right;\n",
       "    }\n",
       "</style>\n",
       "<table border=\"1\" class=\"dataframe\">\n",
       "  <thead>\n",
       "    <tr style=\"text-align: right;\">\n",
       "      <th></th>\n",
       "      <th>data</th>\n",
       "      <th>seed</th>\n",
       "      <th>test_n</th>\n",
       "      <th>group_n</th>\n",
       "      <th>sim</th>\n",
       "      <th>sim_n</th>\n",
       "      <th>model</th>\n",
       "      <th>method</th>\n",
       "      <th>correct_n</th>\n",
       "    </tr>\n",
       "  </thead>\n",
       "  <tbody>\n",
       "    <tr>\n",
       "      <th>0</th>\n",
       "      <td>lsac</td>\n",
       "      <td>1</td>\n",
       "      <td>3672</td>\n",
       "      <td>275</td>\n",
       "      <td>0 to 1</td>\n",
       "      <td>2</td>\n",
       "      <td>LR</td>\n",
       "      <td>MCC-MIN</td>\n",
       "      <td>2</td>\n",
       "    </tr>\n",
       "    <tr>\n",
       "      <th>1</th>\n",
       "      <td>lsac</td>\n",
       "      <td>1</td>\n",
       "      <td>3672</td>\n",
       "      <td>275</td>\n",
       "      <td>0 to 1</td>\n",
       "      <td>2</td>\n",
       "      <td>LR</td>\n",
       "      <td>MCC-W1</td>\n",
       "      <td>0</td>\n",
       "    </tr>\n",
       "    <tr>\n",
       "      <th>2</th>\n",
       "      <td>lsac</td>\n",
       "      <td>1</td>\n",
       "      <td>3672</td>\n",
       "      <td>275</td>\n",
       "      <td>0 to 1</td>\n",
       "      <td>2</td>\n",
       "      <td>LR</td>\n",
       "      <td>MCC-W2</td>\n",
       "      <td>1</td>\n",
       "    </tr>\n",
       "    <tr>\n",
       "      <th>3</th>\n",
       "      <td>lsac</td>\n",
       "      <td>1</td>\n",
       "      <td>3672</td>\n",
       "      <td>275</td>\n",
       "      <td>0 to 1</td>\n",
       "      <td>2</td>\n",
       "      <td>LR</td>\n",
       "      <td>ORIG</td>\n",
       "      <td>2</td>\n",
       "    </tr>\n",
       "    <tr>\n",
       "      <th>4</th>\n",
       "      <td>lsac</td>\n",
       "      <td>1</td>\n",
       "      <td>3672</td>\n",
       "      <td>275</td>\n",
       "      <td>0 to 1</td>\n",
       "      <td>2</td>\n",
       "      <td>LR</td>\n",
       "      <td>SEP</td>\n",
       "      <td>1</td>\n",
       "    </tr>\n",
       "  </tbody>\n",
       "</table>\n",
       "</div>"
      ],
      "text/plain": [
       "   data  seed  test_n  group_n     sim  sim_n model   method  correct_n\n",
       "0  lsac     1    3672      275  0 to 1      2    LR  MCC-MIN          2\n",
       "1  lsac     1    3672      275  0 to 1      2    LR   MCC-W1          0\n",
       "2  lsac     1    3672      275  0 to 1      2    LR   MCC-W2          1\n",
       "3  lsac     1    3672      275  0 to 1      2    LR     ORIG          2\n",
       "4  lsac     1    3672      275  0 to 1      2    LR      SEP          1"
      ]
     },
     "execution_count": 26,
     "metadata": {},
     "output_type": "execute_result"
    }
   ],
   "source": [
    "all_mcc.head()"
   ]
  },
  {
   "cell_type": "code",
   "execution_count": 27,
   "id": "da345e90",
   "metadata": {},
   "outputs": [],
   "source": [
    "datasets = ['ACSP', 'ACSM']"
   ]
  },
  {
   "cell_type": "code",
   "execution_count": 32,
   "id": "6adf026b",
   "metadata": {},
   "outputs": [],
   "source": [
    "# first_cols = ['size', '# of attributes (numer./ categ.)', 'minority group U', 'population of U', '% of positive labels in U', 'predictive task']\n",
    "rows = [['sim', 'method'] + datasets]\n",
    "# setting = 'err'\n",
    "model_i = 'LR'\n",
    "sim_df = pd.DataFrame(columns=['sim', 'method'] + datasets)\n",
    "# res_path = 'intermediate/models/'\n",
    "for case_i, case_name in zip(['0 to 1', '1 to 0'], ['unpriv -> priv', 'priv -> unpriv']):\n",
    "# for case_i, case_name in zip(['0 to 1'], ['unpriv -> priv']):\n",
    "    \n",
    "    if model_i == 'LR':\n",
    "        methods = ['MCC-MIN', 'MCC-W1', 'MCC-W2', 'SEP', 'ORIG', 'OMN-ONE', 'KAM-ONE', 'SCC-KAM']\n",
    "    else:\n",
    "        methods = ['MCC-MIN', 'MCC-W1', 'MCC-W2', 'SEP', 'ORIG', 'OMN-ONE', 'KAM-ONE', 'SCC-KAM', 'CAP-ONE']\n",
    "    for method_i in methods:\n",
    "        cur_row = [case_name, method_i]\n",
    "        for data_name in datasets:\n",
    "            \n",
    "            cur_df = all_mcc.query('data==\"{}\" and sim==\"{}\" and model==\"{}\" and method==\"{}\"'.format(data_name, case_i, model_i, method_i))\n",
    "            if cur_df.shape[0] > 0:\n",
    "                case_perc = cur_df['sim_n'].values[0]/cur_df['test_n'].values[0]\n",
    "            else:\n",
    "                case_perc = 0\n",
    "                print('no', data_name, model_i, method_i, case_i)\n",
    "            correct_all = []\n",
    "            \n",
    "            for seed_i in seeds:\n",
    "                seed_df = cur_df.query('seed=={}'.format(seed_i))\n",
    "                \n",
    "                if seed_df.shape[0] > 0:\n",
    "                    case_impr =  seed_df['correct_n'].values[0]/seed_df['sim_n'].values[0]\n",
    "                    correct_all.append(case_impr)\n",
    "                else:\n",
    "                    correct_all.append(0)\n",
    "                    print('skip', data_name, model_i, seed_i, method_i, case_i)\n",
    "            if sum(correct_all) > 0:\n",
    "                correct_mean = round(np.mean(correct_all)*100, 1)\n",
    "            else:\n",
    "                correct_mean = 0\n",
    "            cur_row.append('{}% / {}%'.format(correct_mean, round(case_perc*100, 1)))\n",
    "            \n",
    "        sim_df.loc[sim_df.shape[0]] = cur_row\n",
    "        rows.append(cur_row)\n",
    "# sim_df.to_csv('eval/sim_{}_{}.csv'.format(setting, model_i), index=False)\n",
    "#             print(cur_row)\n",
    "#             break"
   ]
  },
  {
   "cell_type": "code",
   "execution_count": 33,
   "id": "25328e24",
   "metadata": {},
   "outputs": [
    {
     "data": {
      "text/html": [
       "<div>\n",
       "<style scoped>\n",
       "    .dataframe tbody tr th:only-of-type {\n",
       "        vertical-align: middle;\n",
       "    }\n",
       "\n",
       "    .dataframe tbody tr th {\n",
       "        vertical-align: top;\n",
       "    }\n",
       "\n",
       "    .dataframe thead th {\n",
       "        text-align: right;\n",
       "    }\n",
       "</style>\n",
       "<table border=\"1\" class=\"dataframe\">\n",
       "  <thead>\n",
       "    <tr style=\"text-align: right;\">\n",
       "      <th></th>\n",
       "      <th>sim</th>\n",
       "      <th>method</th>\n",
       "      <th>ACSP</th>\n",
       "      <th>ACSM</th>\n",
       "    </tr>\n",
       "  </thead>\n",
       "  <tbody>\n",
       "    <tr>\n",
       "      <th>0</th>\n",
       "      <td>unpriv -&gt; priv</td>\n",
       "      <td>MCC-MIN</td>\n",
       "      <td>58.7% / 32.0%</td>\n",
       "      <td>45.8% / 3.3%</td>\n",
       "    </tr>\n",
       "    <tr>\n",
       "      <th>1</th>\n",
       "      <td>unpriv -&gt; priv</td>\n",
       "      <td>MCC-W1</td>\n",
       "      <td>61.5% / 32.0%</td>\n",
       "      <td>45.5% / 3.3%</td>\n",
       "    </tr>\n",
       "    <tr>\n",
       "      <th>2</th>\n",
       "      <td>unpriv -&gt; priv</td>\n",
       "      <td>MCC-W2</td>\n",
       "      <td>61.8% / 32.0%</td>\n",
       "      <td>45.5% / 3.3%</td>\n",
       "    </tr>\n",
       "    <tr>\n",
       "      <th>3</th>\n",
       "      <td>unpriv -&gt; priv</td>\n",
       "      <td>SEP</td>\n",
       "      <td>59.5% / 32.0%</td>\n",
       "      <td>48.9% / 3.3%</td>\n",
       "    </tr>\n",
       "    <tr>\n",
       "      <th>4</th>\n",
       "      <td>unpriv -&gt; priv</td>\n",
       "      <td>ORIG</td>\n",
       "      <td>61.6% / 32.0%</td>\n",
       "      <td>46.2% / 3.3%</td>\n",
       "    </tr>\n",
       "    <tr>\n",
       "      <th>5</th>\n",
       "      <td>unpriv -&gt; priv</td>\n",
       "      <td>OMN-ONE</td>\n",
       "      <td>63.7% / 32.0%</td>\n",
       "      <td>49.2% / 3.3%</td>\n",
       "    </tr>\n",
       "    <tr>\n",
       "      <th>6</th>\n",
       "      <td>unpriv -&gt; priv</td>\n",
       "      <td>KAM-ONE</td>\n",
       "      <td>59.2% / 32.0%</td>\n",
       "      <td>46.6% / 3.3%</td>\n",
       "    </tr>\n",
       "    <tr>\n",
       "      <th>7</th>\n",
       "      <td>unpriv -&gt; priv</td>\n",
       "      <td>SCC-KAM</td>\n",
       "      <td>58.1% / 32.0%</td>\n",
       "      <td>46.6% / 3.3%</td>\n",
       "    </tr>\n",
       "    <tr>\n",
       "      <th>8</th>\n",
       "      <td>priv -&gt; unpriv</td>\n",
       "      <td>MCC-MIN</td>\n",
       "      <td>61.8% / 3.8%</td>\n",
       "      <td>0% / 0.0%</td>\n",
       "    </tr>\n",
       "    <tr>\n",
       "      <th>9</th>\n",
       "      <td>priv -&gt; unpriv</td>\n",
       "      <td>MCC-W1</td>\n",
       "      <td>50.6% / 3.8%</td>\n",
       "      <td>0% / 0.0%</td>\n",
       "    </tr>\n",
       "    <tr>\n",
       "      <th>10</th>\n",
       "      <td>priv -&gt; unpriv</td>\n",
       "      <td>MCC-W2</td>\n",
       "      <td>58.1% / 3.8%</td>\n",
       "      <td>0% / 0.0%</td>\n",
       "    </tr>\n",
       "    <tr>\n",
       "      <th>11</th>\n",
       "      <td>priv -&gt; unpriv</td>\n",
       "      <td>SEP</td>\n",
       "      <td>62.0% / 3.8%</td>\n",
       "      <td>0% / 0.0%</td>\n",
       "    </tr>\n",
       "    <tr>\n",
       "      <th>12</th>\n",
       "      <td>priv -&gt; unpriv</td>\n",
       "      <td>ORIG</td>\n",
       "      <td>57.1% / 3.8%</td>\n",
       "      <td>0% / 0.0%</td>\n",
       "    </tr>\n",
       "    <tr>\n",
       "      <th>13</th>\n",
       "      <td>priv -&gt; unpriv</td>\n",
       "      <td>OMN-ONE</td>\n",
       "      <td>51.0% / 3.8%</td>\n",
       "      <td>0% / 0.0%</td>\n",
       "    </tr>\n",
       "    <tr>\n",
       "      <th>14</th>\n",
       "      <td>priv -&gt; unpriv</td>\n",
       "      <td>KAM-ONE</td>\n",
       "      <td>63.0% / 3.8%</td>\n",
       "      <td>0% / 0.0%</td>\n",
       "    </tr>\n",
       "    <tr>\n",
       "      <th>15</th>\n",
       "      <td>priv -&gt; unpriv</td>\n",
       "      <td>SCC-KAM</td>\n",
       "      <td>62.2% / 3.8%</td>\n",
       "      <td>0% / 0.0%</td>\n",
       "    </tr>\n",
       "  </tbody>\n",
       "</table>\n",
       "</div>"
      ],
      "text/plain": [
       "               sim   method           ACSP          ACSM\n",
       "0   unpriv -> priv  MCC-MIN  58.7% / 32.0%  45.8% / 3.3%\n",
       "1   unpriv -> priv   MCC-W1  61.5% / 32.0%  45.5% / 3.3%\n",
       "2   unpriv -> priv   MCC-W2  61.8% / 32.0%  45.5% / 3.3%\n",
       "3   unpriv -> priv      SEP  59.5% / 32.0%  48.9% / 3.3%\n",
       "4   unpriv -> priv     ORIG  61.6% / 32.0%  46.2% / 3.3%\n",
       "5   unpriv -> priv  OMN-ONE  63.7% / 32.0%  49.2% / 3.3%\n",
       "6   unpriv -> priv  KAM-ONE  59.2% / 32.0%  46.6% / 3.3%\n",
       "7   unpriv -> priv  SCC-KAM  58.1% / 32.0%  46.6% / 3.3%\n",
       "8   priv -> unpriv  MCC-MIN   61.8% / 3.8%     0% / 0.0%\n",
       "9   priv -> unpriv   MCC-W1   50.6% / 3.8%     0% / 0.0%\n",
       "10  priv -> unpriv   MCC-W2   58.1% / 3.8%     0% / 0.0%\n",
       "11  priv -> unpriv      SEP   62.0% / 3.8%     0% / 0.0%\n",
       "12  priv -> unpriv     ORIG   57.1% / 3.8%     0% / 0.0%\n",
       "13  priv -> unpriv  OMN-ONE   51.0% / 3.8%     0% / 0.0%\n",
       "14  priv -> unpriv  KAM-ONE   63.0% / 3.8%     0% / 0.0%\n",
       "15  priv -> unpriv  SCC-KAM   62.2% / 3.8%     0% / 0.0%"
      ]
     },
     "execution_count": 33,
     "metadata": {},
     "output_type": "execute_result"
    }
   ],
   "source": [
    "sim_df"
   ]
  },
  {
   "cell_type": "code",
   "execution_count": null,
   "id": "f245cba2",
   "metadata": {},
   "outputs": [],
   "source": []
  },
  {
   "cell_type": "code",
   "execution_count": null,
   "id": "3b50bdc9",
   "metadata": {},
   "outputs": [],
   "source": []
  },
  {
   "cell_type": "code",
   "execution_count": 35,
   "id": "d15617fd",
   "metadata": {},
   "outputs": [
    {
     "name": "stdout",
     "output_type": "stream",
     "text": [
      "\n",
      "Tabulate Latex:\n",
      "\\begin{tabular}{llllllllllll}\n",
      "\\hline\n",
      " case           & method   & credit        & cardio       & meps16        & lsac          & bank         & ACSH          & ACSP          & ACSI          & ACSE          & ACSM         \\\\\n",
      "\\hline\n",
      " unpriv -\\ensuremath{>} priv & MCC-MIN  & 5.0\\% / 2.6\\%   & 56.3\\% / 0.4\\% & 66.2\\% / 55.0\\% & 37.1\\% / 2.3\\%  & 75.5\\% / 1.4\\% & nan\\% / 0.0\\%   & 67.0\\% / 0.7\\%  & 43.2\\% / 0.0\\%  & 71.6\\% / 0.1\\%  & 71.1\\% / 0.4\\% \\\\\n",
      " unpriv -\\ensuremath{>} priv & MCC-W1   & 85.5\\% / 2.6\\%  & 48.2\\% / 0.4\\% & 78.0\\% / 55.0\\% & 36.3\\% / 2.3\\%  & 75.2\\% / 1.4\\% & nan\\% / 0.0\\%   & 59.3\\% / 0.7\\%  & 38.3\\% / 0.0\\%  & 5.7\\% / 0.1\\%   & 70.0\\% / 0.4\\% \\\\\n",
      " unpriv -\\ensuremath{>} priv & MCC-W2   & 43.7\\% / 2.6\\%  & 50.3\\% / 0.4\\% & 68.7\\% / 55.0\\% & 34.6\\% / 2.3\\%  & 75.5\\% / 1.4\\% & nan\\% / 0.0\\%   & 69.0\\% / 0.7\\%  & 38.8\\% / 0.0\\%  & 85.2\\% / 0.1\\%  & 73.0\\% / 0.4\\% \\\\\n",
      " unpriv -\\ensuremath{>} priv & SEP      & 95.4\\% / 2.6\\%  & 49.7\\% / 0.4\\% & 80.6\\% / 55.0\\% & 34.9\\% / 2.3\\%  & 67.2\\% / 1.4\\% & nan\\% / 0.0\\%   & 61.4\\% / 0.7\\%  & 38.3\\% / 0.0\\%  & 94.7\\% / 0.1\\%  & 72.7\\% / 0.4\\% \\\\\n",
      " unpriv -\\ensuremath{>} priv & ORIG     & 95.4\\% / 2.6\\%  & 49.7\\% / 0.4\\% & 76.8\\% / 55.0\\% & 31.1\\% / 2.3\\%  & 70.9\\% / 1.4\\% & nan\\% / 0.0\\%   & 61.1\\% / 0.7\\%  & 38.5\\% / 0.0\\%  & 81.9\\% / 0.1\\%  & 73.0\\% / 0.4\\% \\\\\n",
      " unpriv -\\ensuremath{>} priv & SCC-ONE  & 56.9\\% / 2.6\\%  & 65.3\\% / 0.4\\% & 76.6\\% / 55.0\\% & 77.7\\% / 2.3\\%  & 24.5\\% / 1.4\\% & nan\\% / 0.0\\%   & 45.9\\% / 0.7\\%  & 38.3\\% / 0.0\\%  & 86.4\\% / 0.1\\%  & 70.7\\% / 0.4\\% \\\\\n",
      " unpriv -\\ensuremath{>} priv & KAM-ONE  & 67.4\\% / 2.6\\%  & 65.9\\% / 0.4\\% & 79.7\\% / 55.0\\% & 77.9\\% / 2.3\\%  & 65.4\\% / 1.4\\% & nan\\% / 0.0\\%   & 70.1\\% / 0.7\\%  & 65.8\\% / 0.0\\%  & 91.1\\% / 0.1\\%  & 67.6\\% / 0.4\\% \\\\\n",
      " unpriv -\\ensuremath{>} priv & SCC-KAM  & 57.6\\% / 2.6\\%  & 63.6\\% / 0.4\\% & 76.1\\% / 55.0\\% & 78.1\\% / 2.3\\%  & 25.0\\% / 1.4\\% & nan\\% / 0.0\\%   & 47.6\\% / 0.7\\%  & 40.2\\% / 0.0\\%  & 86.7\\% / 0.1\\%  & 71.6\\% / 0.4\\% \\\\\n",
      " unpriv -\\ensuremath{>} priv & SCC-OMN  & 18.8\\% / 2.6\\%  & 50.2\\% / 0.4\\% & 42.0\\% / 55.0\\% & 67.6\\% / 2.3\\%  & 24.5\\% / 1.4\\% & nan\\% / 0.0\\%   & 47.0\\% / 0.7\\%  & 38.3\\% / 0.0\\%  & 5.7\\% / 0.1\\%   & 32.5\\% / 0.4\\% \\\\\n",
      " priv -\\ensuremath{>} unpriv & MCC-MIN  & 88.6\\% / 17.1\\% & 40.3\\% / 4.3\\% & nan\\% / 0.0\\%   & 30.5\\% / 23.4\\% & nan\\% / 0.2\\%  & 83.2\\% / 24.6\\% & 64.4\\% / 19.3\\% & 33.7\\% / 57.9\\% & 52.5\\% / 45.2\\% & nan\\% / 0.0\\%  \\\\\n",
      " priv -\\ensuremath{>} unpriv & MCC-W1   & 83.1\\% / 17.1\\% & 40.6\\% / 4.3\\% & nan\\% / 0.0\\%   & 43.7\\% / 23.4\\% & nan\\% / 0.2\\%  & 21.4\\% / 24.6\\% & 55.3\\% / 19.3\\% & 29.7\\% / 57.9\\% & 52.4\\% / 45.2\\% & nan\\% / 0.0\\%  \\\\\n",
      " priv -\\ensuremath{>} unpriv & MCC-W2   & 74.5\\% / 17.1\\% & 40.8\\% / 4.3\\% & nan\\% / 0.0\\%   & 32.4\\% / 23.4\\% & nan\\% / 0.2\\%  & 83.3\\% / 24.6\\% & 67.9\\% / 19.3\\% & 31.0\\% / 57.9\\% & 74.0\\% / 45.2\\% & nan\\% / 0.0\\%  \\\\\n",
      " priv -\\ensuremath{>} unpriv & SEP      & 12.1\\% / 17.1\\% & 48.5\\% / 4.3\\% & nan\\% / 0.0\\%   & 38.3\\% / 23.4\\% & nan\\% / 0.2\\%  & 83.3\\% / 24.6\\% & 66.6\\% / 19.3\\% & 30.3\\% / 57.9\\% & 75.8\\% / 45.2\\% & nan\\% / 0.0\\%  \\\\\n",
      " priv -\\ensuremath{>} unpriv & ORIG     & 14.4\\% / 17.1\\% & 42.3\\% / 4.3\\% & nan\\% / 0.0\\%   & 31.9\\% / 23.4\\% & nan\\% / 0.2\\%  & 83.3\\% / 24.6\\% & 67.5\\% / 19.3\\% & 30.7\\% / 57.9\\% & 76.1\\% / 45.2\\% & nan\\% / 0.0\\%  \\\\\n",
      " priv -\\ensuremath{>} unpriv & SCC-ONE  & 52.5\\% / 17.1\\% & 56.7\\% / 4.3\\% & nan\\% / 0.0\\%   & 50.8\\% / 23.4\\% & nan\\% / 0.2\\%  & 56.5\\% / 24.6\\% & 63.9\\% / 19.3\\% & 65.4\\% / 57.9\\% & 78.7\\% / 45.2\\% & nan\\% / 0.0\\%  \\\\\n",
      " priv -\\ensuremath{>} unpriv & KAM-ONE  & 78.1\\% / 17.1\\% & 59.5\\% / 4.3\\% & nan\\% / 0.0\\%   & 54.8\\% / 23.4\\% & nan\\% / 0.2\\%  & 58.6\\% / 24.6\\% & 67.1\\% / 19.3\\% & 70.2\\% / 57.9\\% & 78.9\\% / 45.2\\% & nan\\% / 0.0\\%  \\\\\n",
      " priv -\\ensuremath{>} unpriv & SCC-KAM  & 81.3\\% / 17.1\\% & 57.0\\% / 4.3\\% & nan\\% / 0.0\\%   & 51.4\\% / 23.4\\% & nan\\% / 0.2\\%  & 54.9\\% / 24.6\\% & 63.7\\% / 19.3\\% & 65.4\\% / 57.9\\% & 78.8\\% / 45.2\\% & nan\\% / 0.0\\%  \\\\\n",
      " priv -\\ensuremath{>} unpriv & SCC-OMN  & 24.2\\% / 17.1\\% & 42.8\\% / 4.3\\% & nan\\% / 0.0\\%   & 71.3\\% / 23.4\\% & nan\\% / 0.2\\%  & 53.1\\% / 24.6\\% & 59.7\\% / 19.3\\% & 60.2\\% / 57.9\\% & 50.7\\% / 45.2\\% & nan\\% / 0.0\\%  \\\\\n",
      "\\hline\n",
      "\\end{tabular}\n"
     ]
    }
   ],
   "source": [
    "\n",
    "# rows = [['Rocket', 'Organisation', 'LEO Payload (Tonnes)', 'Maiden Flight'],\n",
    "#         ['Saturn V', 'NASA', '140', '1967'],\n",
    "#         ['Space Shuttle', 'NASA', '24.4', '1981'],\n",
    "#         ['Falcon 9 FT-Expended', 'SpaceX', '22.8', '2017'],\n",
    "#         ['Ariane 5 ECA', 'ESA', '21', '2002']]\n",
    "\n",
    "\n",
    "table = Texttable()\n",
    "table.set_cols_align([\"c\"] * len(rows[0]))\n",
    "table.set_deco(Texttable.HEADER | Texttable.VLINES)\n",
    "table.add_rows(rows)\n",
    "\n",
    "# print('Tabulate Table:')\n",
    "# print(tabulate(rows, headers='firstrow'))\n",
    "\n",
    "# print('\\nTexttable Table:')\n",
    "# print(table.draw())\n",
    "\n",
    "print('\\nTabulate Latex:')\n",
    "print(tabulate(rows, headers='firstrow', tablefmt='latex'))"
   ]
  },
  {
   "cell_type": "code",
   "execution_count": null,
   "id": "82635bf8",
   "metadata": {},
   "outputs": [],
   "source": []
  },
  {
   "cell_type": "code",
   "execution_count": null,
   "id": "d674b5de",
   "metadata": {},
   "outputs": [],
   "source": []
  },
  {
   "cell_type": "code",
   "execution_count": 13,
   "id": "eb37484a",
   "metadata": {},
   "outputs": [
    {
     "data": {
      "text/html": [
       "<div>\n",
       "<style scoped>\n",
       "    .dataframe tbody tr th:only-of-type {\n",
       "        vertical-align: middle;\n",
       "    }\n",
       "\n",
       "    .dataframe tbody tr th {\n",
       "        vertical-align: top;\n",
       "    }\n",
       "\n",
       "    .dataframe thead th {\n",
       "        text-align: right;\n",
       "    }\n",
       "</style>\n",
       "<table border=\"1\" class=\"dataframe\">\n",
       "  <thead>\n",
       "    <tr style=\"text-align: right;\">\n",
       "      <th></th>\n",
       "      <th>X1</th>\n",
       "      <th>X2</th>\n",
       "      <th>X3</th>\n",
       "      <th>X4</th>\n",
       "      <th>X5</th>\n",
       "      <th>X6</th>\n",
       "      <th>X7</th>\n",
       "      <th>X8</th>\n",
       "      <th>X9</th>\n",
       "      <th>Y</th>\n",
       "      <th>...</th>\n",
       "      <th>vio_G0_L1</th>\n",
       "      <th>vio_G1_L0</th>\n",
       "      <th>vio_G1_L1</th>\n",
       "      <th>Y_pred</th>\n",
       "      <th>Y_pred_G0</th>\n",
       "      <th>Y_pred_G1</th>\n",
       "      <th>Y_pred_A</th>\n",
       "      <th>Y_pred_min</th>\n",
       "      <th>Y_pred_w1</th>\n",
       "      <th>Y_pred_w2</th>\n",
       "    </tr>\n",
       "  </thead>\n",
       "  <tbody>\n",
       "    <tr>\n",
       "      <th>0</th>\n",
       "      <td>26.912726</td>\n",
       "      <td>110</td>\n",
       "      <td>80</td>\n",
       "      <td>1</td>\n",
       "      <td>1</td>\n",
       "      <td>3</td>\n",
       "      <td>0</td>\n",
       "      <td>0</td>\n",
       "      <td>1</td>\n",
       "      <td>0</td>\n",
       "      <td>...</td>\n",
       "      <td>0.311963</td>\n",
       "      <td>0.511428</td>\n",
       "      <td>0.148063</td>\n",
       "      <td>0</td>\n",
       "      <td>0.169180</td>\n",
       "      <td>0.439278</td>\n",
       "      <td>0</td>\n",
       "      <td>0</td>\n",
       "      <td>0</td>\n",
       "      <td>0</td>\n",
       "    </tr>\n",
       "    <tr>\n",
       "      <th>1</th>\n",
       "      <td>26.573129</td>\n",
       "      <td>120</td>\n",
       "      <td>80</td>\n",
       "      <td>1</td>\n",
       "      <td>1</td>\n",
       "      <td>1</td>\n",
       "      <td>0</td>\n",
       "      <td>0</td>\n",
       "      <td>1</td>\n",
       "      <td>0</td>\n",
       "      <td>...</td>\n",
       "      <td>0.141647</td>\n",
       "      <td>0.390809</td>\n",
       "      <td>0.000000</td>\n",
       "      <td>0</td>\n",
       "      <td>0.198492</td>\n",
       "      <td>0.451272</td>\n",
       "      <td>0</td>\n",
       "      <td>0</td>\n",
       "      <td>0</td>\n",
       "      <td>0</td>\n",
       "    </tr>\n",
       "    <tr>\n",
       "      <th>2</th>\n",
       "      <td>27.993022</td>\n",
       "      <td>140</td>\n",
       "      <td>90</td>\n",
       "      <td>1</td>\n",
       "      <td>1</td>\n",
       "      <td>1</td>\n",
       "      <td>0</td>\n",
       "      <td>0</td>\n",
       "      <td>1</td>\n",
       "      <td>1</td>\n",
       "      <td>...</td>\n",
       "      <td>0.416437</td>\n",
       "      <td>0.724730</td>\n",
       "      <td>0.066609</td>\n",
       "      <td>0</td>\n",
       "      <td>0.218710</td>\n",
       "      <td>0.473600</td>\n",
       "      <td>0</td>\n",
       "      <td>1</td>\n",
       "      <td>0</td>\n",
       "      <td>0</td>\n",
       "    </tr>\n",
       "    <tr>\n",
       "      <th>3</th>\n",
       "      <td>20.202020</td>\n",
       "      <td>120</td>\n",
       "      <td>80</td>\n",
       "      <td>1</td>\n",
       "      <td>2</td>\n",
       "      <td>1</td>\n",
       "      <td>0</td>\n",
       "      <td>0</td>\n",
       "      <td>1</td>\n",
       "      <td>1</td>\n",
       "      <td>...</td>\n",
       "      <td>0.450242</td>\n",
       "      <td>0.479946</td>\n",
       "      <td>0.443531</td>\n",
       "      <td>1</td>\n",
       "      <td>0.267900</td>\n",
       "      <td>0.521049</td>\n",
       "      <td>0</td>\n",
       "      <td>0</td>\n",
       "      <td>0</td>\n",
       "      <td>0</td>\n",
       "    </tr>\n",
       "    <tr>\n",
       "      <th>4</th>\n",
       "      <td>23.875115</td>\n",
       "      <td>120</td>\n",
       "      <td>80</td>\n",
       "      <td>1</td>\n",
       "      <td>1</td>\n",
       "      <td>1</td>\n",
       "      <td>0</td>\n",
       "      <td>0</td>\n",
       "      <td>1</td>\n",
       "      <td>0</td>\n",
       "      <td>...</td>\n",
       "      <td>0.000000</td>\n",
       "      <td>0.000000</td>\n",
       "      <td>0.000000</td>\n",
       "      <td>0</td>\n",
       "      <td>0.168860</td>\n",
       "      <td>0.416438</td>\n",
       "      <td>0</td>\n",
       "      <td>0</td>\n",
       "      <td>0</td>\n",
       "      <td>0</td>\n",
       "    </tr>\n",
       "  </tbody>\n",
       "</table>\n",
       "<p>5 rows × 22 columns</p>\n",
       "</div>"
      ],
      "text/plain": [
       "          X1   X2  X3  X4  X5  X6  X7  X8  X9  Y  ...  vio_G0_L1  vio_G1_L0  \\\n",
       "0  26.912726  110  80   1   1   3   0   0   1  0  ...   0.311963   0.511428   \n",
       "1  26.573129  120  80   1   1   1   0   0   1  0  ...   0.141647   0.390809   \n",
       "2  27.993022  140  90   1   1   1   0   0   1  1  ...   0.416437   0.724730   \n",
       "3  20.202020  120  80   1   2   1   0   0   1  1  ...   0.450242   0.479946   \n",
       "4  23.875115  120  80   1   1   1   0   0   1  0  ...   0.000000   0.000000   \n",
       "\n",
       "   vio_G1_L1  Y_pred  Y_pred_G0  Y_pred_G1  Y_pred_A  Y_pred_min  Y_pred_w1  \\\n",
       "0   0.148063       0   0.169180   0.439278         0           0          0   \n",
       "1   0.000000       0   0.198492   0.451272         0           0          0   \n",
       "2   0.066609       0   0.218710   0.473600         0           1          0   \n",
       "3   0.443531       1   0.267900   0.521049         0           0          0   \n",
       "4   0.000000       0   0.168860   0.416438         0           0          0   \n",
       "\n",
       "   Y_pred_w2  \n",
       "0          0  \n",
       "1          0  \n",
       "2          0  \n",
       "3          0  \n",
       "4          0  \n",
       "\n",
       "[5 rows x 22 columns]"
      ]
     },
     "execution_count": 13,
     "metadata": {},
     "output_type": "execute_result"
    }
   ],
   "source": [
    "data_name = 'cardio'\n",
    "seed = 1\n",
    "model_name = 'lr'\n",
    "res_path = 'intermediate/models/'\n",
    "test_file = '{}/test-{}-{}-multi.csv'.format(res_path+data_name, model_name, seed)\n",
    "test_df = pd.read_csv(test_file)\n",
    "test_df.head()"
   ]
  },
  {
   "cell_type": "markdown",
   "id": "38e867a5",
   "metadata": {},
   "source": [
    "## Notes for separability between groups\n",
    "- No separable case: ACSM and ACSE\n",
    "- Separable case: ACSP, lsac, \n"
   ]
  },
  {
   "cell_type": "code",
   "execution_count": 34,
   "id": "5f37e809",
   "metadata": {},
   "outputs": [
    {
     "data": {
      "text/html": [
       "<div>\n",
       "<style scoped>\n",
       "    .dataframe tbody tr th:only-of-type {\n",
       "        vertical-align: middle;\n",
       "    }\n",
       "\n",
       "    .dataframe tbody tr th {\n",
       "        vertical-align: top;\n",
       "    }\n",
       "\n",
       "    .dataframe thead th {\n",
       "        text-align: right;\n",
       "    }\n",
       "</style>\n",
       "<table border=\"1\" class=\"dataframe\">\n",
       "  <thead>\n",
       "    <tr style=\"text-align: right;\">\n",
       "      <th></th>\n",
       "      <th>X1</th>\n",
       "      <th>X2</th>\n",
       "      <th>X3</th>\n",
       "      <th>X4</th>\n",
       "      <th>X5</th>\n",
       "      <th>X6</th>\n",
       "      <th>X7</th>\n",
       "      <th>X8</th>\n",
       "      <th>X9</th>\n",
       "      <th>Y</th>\n",
       "      <th>...</th>\n",
       "      <th>vio_G0_L1</th>\n",
       "      <th>vio_G1_L0</th>\n",
       "      <th>vio_G1_L1</th>\n",
       "      <th>Y_pred</th>\n",
       "      <th>Y_pred_G0</th>\n",
       "      <th>Y_pred_G1</th>\n",
       "      <th>Y_pred_A</th>\n",
       "      <th>Y_pred_min</th>\n",
       "      <th>Y_pred_w1</th>\n",
       "      <th>Y_pred_w2</th>\n",
       "    </tr>\n",
       "  </thead>\n",
       "  <tbody>\n",
       "    <tr>\n",
       "      <th>0</th>\n",
       "      <td>1.0</td>\n",
       "      <td>3.0</td>\n",
       "      <td>1.0</td>\n",
       "      <td>1</td>\n",
       "      <td>1</td>\n",
       "      <td>3</td>\n",
       "      <td>0</td>\n",
       "      <td>0</td>\n",
       "      <td>1</td>\n",
       "      <td>0</td>\n",
       "      <td>...</td>\n",
       "      <td>0.311963</td>\n",
       "      <td>0.511428</td>\n",
       "      <td>0.148063</td>\n",
       "      <td>0</td>\n",
       "      <td>0.197174</td>\n",
       "      <td>0.499140</td>\n",
       "      <td>0</td>\n",
       "      <td>1</td>\n",
       "      <td>0</td>\n",
       "      <td>0</td>\n",
       "    </tr>\n",
       "    <tr>\n",
       "      <th>1</th>\n",
       "      <td>1.0</td>\n",
       "      <td>3.0</td>\n",
       "      <td>1.0</td>\n",
       "      <td>1</td>\n",
       "      <td>1</td>\n",
       "      <td>1</td>\n",
       "      <td>0</td>\n",
       "      <td>0</td>\n",
       "      <td>1</td>\n",
       "      <td>0</td>\n",
       "      <td>...</td>\n",
       "      <td>0.141647</td>\n",
       "      <td>0.390809</td>\n",
       "      <td>0.000000</td>\n",
       "      <td>0</td>\n",
       "      <td>0.180490</td>\n",
       "      <td>0.499140</td>\n",
       "      <td>0</td>\n",
       "      <td>1</td>\n",
       "      <td>0</td>\n",
       "      <td>0</td>\n",
       "    </tr>\n",
       "    <tr>\n",
       "      <th>2</th>\n",
       "      <td>1.0</td>\n",
       "      <td>4.0</td>\n",
       "      <td>1.0</td>\n",
       "      <td>1</td>\n",
       "      <td>1</td>\n",
       "      <td>1</td>\n",
       "      <td>0</td>\n",
       "      <td>0</td>\n",
       "      <td>1</td>\n",
       "      <td>1</td>\n",
       "      <td>...</td>\n",
       "      <td>0.416437</td>\n",
       "      <td>0.724730</td>\n",
       "      <td>0.066609</td>\n",
       "      <td>1</td>\n",
       "      <td>0.755833</td>\n",
       "      <td>0.501175</td>\n",
       "      <td>1</td>\n",
       "      <td>1</td>\n",
       "      <td>1</td>\n",
       "      <td>1</td>\n",
       "    </tr>\n",
       "    <tr>\n",
       "      <th>3</th>\n",
       "      <td>0.0</td>\n",
       "      <td>3.0</td>\n",
       "      <td>1.0</td>\n",
       "      <td>1</td>\n",
       "      <td>2</td>\n",
       "      <td>1</td>\n",
       "      <td>0</td>\n",
       "      <td>0</td>\n",
       "      <td>1</td>\n",
       "      <td>1</td>\n",
       "      <td>...</td>\n",
       "      <td>0.450242</td>\n",
       "      <td>0.479946</td>\n",
       "      <td>0.443531</td>\n",
       "      <td>0</td>\n",
       "      <td>0.133737</td>\n",
       "      <td>0.499140</td>\n",
       "      <td>0</td>\n",
       "      <td>0</td>\n",
       "      <td>0</td>\n",
       "      <td>0</td>\n",
       "    </tr>\n",
       "    <tr>\n",
       "      <th>4</th>\n",
       "      <td>0.0</td>\n",
       "      <td>3.0</td>\n",
       "      <td>1.0</td>\n",
       "      <td>1</td>\n",
       "      <td>1</td>\n",
       "      <td>1</td>\n",
       "      <td>0</td>\n",
       "      <td>0</td>\n",
       "      <td>1</td>\n",
       "      <td>0</td>\n",
       "      <td>...</td>\n",
       "      <td>0.000000</td>\n",
       "      <td>0.000000</td>\n",
       "      <td>0.000000</td>\n",
       "      <td>0</td>\n",
       "      <td>0.106830</td>\n",
       "      <td>0.499140</td>\n",
       "      <td>0</td>\n",
       "      <td>0</td>\n",
       "      <td>0</td>\n",
       "      <td>0</td>\n",
       "    </tr>\n",
       "  </tbody>\n",
       "</table>\n",
       "<p>5 rows × 22 columns</p>\n",
       "</div>"
      ],
      "text/plain": [
       "    X1   X2   X3  X4  X5  X6  X7  X8  X9  Y  ...  vio_G0_L1  vio_G1_L0  \\\n",
       "0  1.0  3.0  1.0   1   1   3   0   0   1  0  ...   0.311963   0.511428   \n",
       "1  1.0  3.0  1.0   1   1   1   0   0   1  0  ...   0.141647   0.390809   \n",
       "2  1.0  4.0  1.0   1   1   1   0   0   1  1  ...   0.416437   0.724730   \n",
       "3  0.0  3.0  1.0   1   2   1   0   0   1  1  ...   0.450242   0.479946   \n",
       "4  0.0  3.0  1.0   1   1   1   0   0   1  0  ...   0.000000   0.000000   \n",
       "\n",
       "   vio_G1_L1  Y_pred  Y_pred_G0  Y_pred_G1  Y_pred_A  Y_pred_min  Y_pred_w1  \\\n",
       "0   0.148063       0   0.197174   0.499140         0           1          0   \n",
       "1   0.000000       0   0.180490   0.499140         0           1          0   \n",
       "2   0.066609       1   0.755833   0.501175         1           1          1   \n",
       "3   0.443531       0   0.133737   0.499140         0           0          0   \n",
       "4   0.000000       0   0.106830   0.499140         0           0          0   \n",
       "\n",
       "   Y_pred_w2  \n",
       "0          0  \n",
       "1          0  \n",
       "2          1  \n",
       "3          0  \n",
       "4          0  \n",
       "\n",
       "[5 rows x 22 columns]"
      ]
     },
     "execution_count": 34,
     "metadata": {},
     "output_type": "execute_result"
    }
   ],
   "source": [
    "data_name = 'cardio'\n",
    "seed = 1\n",
    "model_name = 'tr'\n",
    "res_path = 'intermediate/models/'\n",
    "test_file = '{}/test-{}-{}-multi.csv'.format(res_path+data_name, model_name, seed)\n",
    "test_df = pd.read_csv(test_file)\n",
    "test_df.head()"
   ]
  },
  {
   "cell_type": "code",
   "execution_count": 35,
   "id": "613834f9",
   "metadata": {},
   "outputs": [
    {
     "data": {
      "text/plain": [
       "<matplotlib.axes._subplots.AxesSubplot at 0x7f99f4b7a7f0>"
      ]
     },
     "execution_count": 35,
     "metadata": {},
     "output_type": "execute_result"
    },
    {
     "data": {
      "image/png": "[encoded data removed]",
      "text/plain": [
       "<Figure size 1200x800 with 1 Axes>"
      ]
     },
     "metadata": {
      "needs_background": "light"
     },
     "output_type": "display_data"
    }
   ],
   "source": [
    "plt.figure(dpi=200)\n",
    "sns.histplot(x='vio_G0_L1', data=test_df, hue='A')"
   ]
  },
  {
   "cell_type": "code",
   "execution_count": 36,
   "id": "099e6744",
   "metadata": {},
   "outputs": [
    {
     "data": {
      "text/plain": [
       "<matplotlib.axes._subplots.AxesSubplot at 0x7f99f45c3cf8>"
      ]
     },
     "execution_count": 36,
     "metadata": {},
     "output_type": "execute_result"
    },
    {
     "data": {
      "image/png": "[encoded data removed]",
      "text/plain": [
       "<Figure size 1200x800 with 1 Axes>"
      ]
     },
     "metadata": {
      "needs_background": "light"
     },
     "output_type": "display_data"
    }
   ],
   "source": [
    "plt.figure(dpi=200)\n",
    "sns.histplot(x='vio_G0_L0', data=test_df, hue='A')"
   ]
  },
  {
   "cell_type": "code",
   "execution_count": null,
   "id": "a3af1bbd",
   "metadata": {},
   "outputs": [],
   "source": []
  },
  {
   "cell_type": "code",
   "execution_count": 37,
   "id": "857f9842",
   "metadata": {},
   "outputs": [
    {
     "name": "stdout",
     "output_type": "stream",
     "text": [
      "0 0 own group same label 0.38348896356091816\n",
      "0 0 own group opp label 0.2829223555564949\n",
      "0 0 other group same label 0.3567299781827469\n",
      "0 0 other group opp label 0.25699332952399834\n",
      "------------------------------\n",
      "0 1 own group same label 0.3403100539114014\n",
      "0 1 own group opp label 0.5746330049002898\n",
      "0 1 other group same label 0.2887004897415086\n",
      "0 1 other group opp label 0.5210462857818204\n",
      "------------------------------\n",
      "1 0 own group same label 0.37489410609397217\n",
      "1 0 own group opp label 0.24787142818523714\n",
      "1 0 other group same label 0.41157627502085525\n",
      "1 0 other group opp label 0.28231875511378846\n",
      "------------------------------\n",
      "1 1 own group same label 0.3103299458787157\n",
      "1 1 own group opp label 0.5276789054138181\n",
      "1 1 other group same label 0.35842578767345457\n",
      "1 1 other group opp label 0.5785378488411023\n",
      "------------------------------\n"
     ]
    }
   ],
   "source": [
    "# get the mean violations of group using other group's CC models to show the separation of groups\n",
    "# cc_par = read_json('{}par-cc-{}.json'.format(cur_dir, seed))\n",
    "vio_cols = ['vio_G{}_L{}'.format(group_i, label_i) for group_i in range(2) for label_i in range(2)]\n",
    "\n",
    "for group_i in range(2):\n",
    "    for label_i in range(2):\n",
    "        \n",
    "        group_df = test_df.query('A=={} and Y=={}'.format(group_i, label_i))\n",
    "        same_label_vio_col = 'vio_G{}_L{}'.format(abs(1-group_i), label_i)\n",
    "        opp_label_vio_col = 'vio_G{}_L{}'.format(abs(1-group_i), abs(1-label_i))\n",
    "        own_same_label = 'vio_G{}_L{}'.format(group_i, label_i)\n",
    "        own_opp_label = 'vio_G{}_L{}'.format(group_i, abs(1-label_i))\n",
    "        print(group_i, label_i, 'own group same label', group_df[own_same_label].mean())\n",
    "        print(group_i, label_i, 'own group opp label', group_df[own_opp_label].mean())\n",
    "        \n",
    "        print(group_i, label_i, 'other group same label', group_df[same_label_vio_col].mean())\n",
    "        print(group_i, label_i, 'other group opp label', group_df[opp_label_vio_col].mean())\n",
    "        print('---'*10)"
   ]
  },
  {
   "cell_type": "code",
   "execution_count": null,
   "id": "f5b30e3a",
   "metadata": {},
   "outputs": [],
   "source": []
  },
  {
   "cell_type": "code",
   "execution_count": 4,
   "id": "bd433dd6",
   "metadata": {},
   "outputs": [],
   "source": [
    "\n",
    "err_df_m = test_df.query('Y != Y_pred_A and A==1')"
   ]
  },
  {
   "cell_type": "code",
   "execution_count": 5,
   "id": "ef664708",
   "metadata": {},
   "outputs": [
    {
     "name": "stdout",
     "output_type": "stream",
     "text": [
      "387 36\n"
     ]
    }
   ],
   "source": [
    "m_sim_f = err_df_m.query('vio_G1_L0 > vio_G0_L0 and vio_G1_L1 > vio_G0_L1')\n",
    "\n",
    "f_plus = m_sim_f.query('Y_pred_min == Y')\n",
    "print(m_sim_f.shape[0], f_plus.shape[0])"
   ]
  },
  {
   "cell_type": "code",
   "execution_count": 6,
   "id": "f027b6cf",
   "metadata": {},
   "outputs": [],
   "source": [
    "err_df_f = test_df.query('Y != Y_pred_A and A==0')"
   ]
  },
  {
   "cell_type": "code",
   "execution_count": 7,
   "id": "fae6d2f1",
   "metadata": {},
   "outputs": [
    {
     "name": "stdout",
     "output_type": "stream",
     "text": [
      "23 15\n"
     ]
    }
   ],
   "source": [
    "f_sim_m = err_df_f.query('vio_G1_L0 < vio_G0_L0 and vio_G1_L1 < vio_G0_L1')\n",
    "\n",
    "m_plus = f_sim_m.query('Y_pred_min == Y')\n",
    "print(f_sim_m.shape[0], m_plus.shape[0])"
   ]
  },
  {
   "cell_type": "code",
   "execution_count": 9,
   "id": "744cfd01",
   "metadata": {},
   "outputs": [
    {
     "data": {
      "text/plain": [
       "15"
      ]
     },
     "execution_count": 9,
     "metadata": {},
     "output_type": "execute_result"
    }
   ],
   "source": [
    "m_plus.query('Y_pred == Y').shape[0]"
   ]
  },
  {
   "cell_type": "code",
   "execution_count": 10,
   "id": "258330d4",
   "metadata": {},
   "outputs": [
    {
     "data": {
      "text/plain": [
       "11"
      ]
     },
     "execution_count": 10,
     "metadata": {},
     "output_type": "execute_result"
    }
   ],
   "source": [
    "f_plus.query('Y_pred == Y').shape[0]"
   ]
  },
  {
   "cell_type": "code",
   "execution_count": 9,
   "id": "84dbd31b",
   "metadata": {},
   "outputs": [
    {
     "data": {
      "text/html": [
       "<div>\n",
       "<style scoped>\n",
       "    .dataframe tbody tr th:only-of-type {\n",
       "        vertical-align: middle;\n",
       "    }\n",
       "\n",
       "    .dataframe tbody tr th {\n",
       "        vertical-align: top;\n",
       "    }\n",
       "\n",
       "    .dataframe thead th {\n",
       "        text-align: right;\n",
       "    }\n",
       "</style>\n",
       "<table border=\"1\" class=\"dataframe\">\n",
       "  <thead>\n",
       "    <tr style=\"text-align: right;\">\n",
       "      <th></th>\n",
       "      <th>X1</th>\n",
       "      <th>X2</th>\n",
       "      <th>X3</th>\n",
       "      <th>X4</th>\n",
       "      <th>X5</th>\n",
       "      <th>X6</th>\n",
       "      <th>X7</th>\n",
       "      <th>X8</th>\n",
       "      <th>X9</th>\n",
       "      <th>X10</th>\n",
       "      <th>...</th>\n",
       "      <th>vio_G0_L1</th>\n",
       "      <th>vio_G1_L0</th>\n",
       "      <th>vio_G1_L1</th>\n",
       "      <th>Y_pred</th>\n",
       "      <th>Y_pred_G0</th>\n",
       "      <th>Y_pred_G1</th>\n",
       "      <th>Y_pred_min</th>\n",
       "      <th>Y_pred_w1</th>\n",
       "      <th>Y_pred_w2</th>\n",
       "      <th>Y_pred_A</th>\n",
       "    </tr>\n",
       "  </thead>\n",
       "  <tbody>\n",
       "    <tr>\n",
       "      <th>310</th>\n",
       "      <td>0.26</td>\n",
       "      <td>3.5</td>\n",
       "      <td>69</td>\n",
       "      <td>0.12</td>\n",
       "      <td>32.0</td>\n",
       "      <td>697.368406</td>\n",
       "      <td>4</td>\n",
       "      <td>1.0</td>\n",
       "      <td>4</td>\n",
       "      <td>0.0</td>\n",
       "      <td>...</td>\n",
       "      <td>0.178084</td>\n",
       "      <td>0.181890</td>\n",
       "      <td>0.172010</td>\n",
       "      <td>1</td>\n",
       "      <td>0.806777</td>\n",
       "      <td>0.894236</td>\n",
       "      <td>1</td>\n",
       "      <td>0</td>\n",
       "      <td>1</td>\n",
       "      <td>0</td>\n",
       "    </tr>\n",
       "    <tr>\n",
       "      <th>456</th>\n",
       "      <td>0.19</td>\n",
       "      <td>3.6</td>\n",
       "      <td>69</td>\n",
       "      <td>0.37</td>\n",
       "      <td>32.0</td>\n",
       "      <td>707.368406</td>\n",
       "      <td>2</td>\n",
       "      <td>1.0</td>\n",
       "      <td>4</td>\n",
       "      <td>0.0</td>\n",
       "      <td>...</td>\n",
       "      <td>0.178084</td>\n",
       "      <td>0.174437</td>\n",
       "      <td>0.172010</td>\n",
       "      <td>1</td>\n",
       "      <td>0.805943</td>\n",
       "      <td>0.893005</td>\n",
       "      <td>1</td>\n",
       "      <td>0</td>\n",
       "      <td>1</td>\n",
       "      <td>0</td>\n",
       "    </tr>\n",
       "    <tr>\n",
       "      <th>700</th>\n",
       "      <td>-0.27</td>\n",
       "      <td>3.0</td>\n",
       "      <td>69</td>\n",
       "      <td>-0.60</td>\n",
       "      <td>38.0</td>\n",
       "      <td>742.105244</td>\n",
       "      <td>4</td>\n",
       "      <td>1.0</td>\n",
       "      <td>3</td>\n",
       "      <td>0.0</td>\n",
       "      <td>...</td>\n",
       "      <td>0.178084</td>\n",
       "      <td>0.174437</td>\n",
       "      <td>0.172010</td>\n",
       "      <td>1</td>\n",
       "      <td>0.749993</td>\n",
       "      <td>0.831951</td>\n",
       "      <td>1</td>\n",
       "      <td>0</td>\n",
       "      <td>1</td>\n",
       "      <td>0</td>\n",
       "    </tr>\n",
       "    <tr>\n",
       "      <th>1016</th>\n",
       "      <td>0.17</td>\n",
       "      <td>3.3</td>\n",
       "      <td>70</td>\n",
       "      <td>0.02</td>\n",
       "      <td>41.0</td>\n",
       "      <td>819.473663</td>\n",
       "      <td>3</td>\n",
       "      <td>1.0</td>\n",
       "      <td>3</td>\n",
       "      <td>0.0</td>\n",
       "      <td>...</td>\n",
       "      <td>0.178084</td>\n",
       "      <td>0.174437</td>\n",
       "      <td>0.172010</td>\n",
       "      <td>1</td>\n",
       "      <td>0.821267</td>\n",
       "      <td>0.881196</td>\n",
       "      <td>1</td>\n",
       "      <td>1</td>\n",
       "      <td>1</td>\n",
       "      <td>0</td>\n",
       "    </tr>\n",
       "    <tr>\n",
       "      <th>1750</th>\n",
       "      <td>-0.27</td>\n",
       "      <td>2.8</td>\n",
       "      <td>67</td>\n",
       "      <td>-0.12</td>\n",
       "      <td>35.0</td>\n",
       "      <td>674.736825</td>\n",
       "      <td>2</td>\n",
       "      <td>0.0</td>\n",
       "      <td>4</td>\n",
       "      <td>0.0</td>\n",
       "      <td>...</td>\n",
       "      <td>0.178084</td>\n",
       "      <td>0.174437</td>\n",
       "      <td>0.172010</td>\n",
       "      <td>1</td>\n",
       "      <td>0.821545</td>\n",
       "      <td>0.859683</td>\n",
       "      <td>1</td>\n",
       "      <td>0</td>\n",
       "      <td>1</td>\n",
       "      <td>0</td>\n",
       "    </tr>\n",
       "    <tr>\n",
       "      <th>2228</th>\n",
       "      <td>0.15</td>\n",
       "      <td>3.1</td>\n",
       "      <td>68</td>\n",
       "      <td>-0.10</td>\n",
       "      <td>34.0</td>\n",
       "      <td>688.947352</td>\n",
       "      <td>4</td>\n",
       "      <td>0.0</td>\n",
       "      <td>3</td>\n",
       "      <td>0.0</td>\n",
       "      <td>...</td>\n",
       "      <td>0.178084</td>\n",
       "      <td>0.174437</td>\n",
       "      <td>0.172010</td>\n",
       "      <td>1</td>\n",
       "      <td>0.809932</td>\n",
       "      <td>0.866930</td>\n",
       "      <td>1</td>\n",
       "      <td>0</td>\n",
       "      <td>1</td>\n",
       "      <td>0</td>\n",
       "    </tr>\n",
       "    <tr>\n",
       "      <th>2240</th>\n",
       "      <td>0.04</td>\n",
       "      <td>3.4</td>\n",
       "      <td>67</td>\n",
       "      <td>-0.32</td>\n",
       "      <td>30.5</td>\n",
       "      <td>663.684196</td>\n",
       "      <td>4</td>\n",
       "      <td>0.0</td>\n",
       "      <td>5</td>\n",
       "      <td>0.0</td>\n",
       "      <td>...</td>\n",
       "      <td>0.178084</td>\n",
       "      <td>0.174437</td>\n",
       "      <td>0.172010</td>\n",
       "      <td>1</td>\n",
       "      <td>0.819262</td>\n",
       "      <td>0.860304</td>\n",
       "      <td>1</td>\n",
       "      <td>0</td>\n",
       "      <td>1</td>\n",
       "      <td>0</td>\n",
       "    </tr>\n",
       "    <tr>\n",
       "      <th>2299</th>\n",
       "      <td>-0.28</td>\n",
       "      <td>3.1</td>\n",
       "      <td>68</td>\n",
       "      <td>-0.67</td>\n",
       "      <td>35.0</td>\n",
       "      <td>704.736825</td>\n",
       "      <td>3</td>\n",
       "      <td>1.0</td>\n",
       "      <td>5</td>\n",
       "      <td>0.0</td>\n",
       "      <td>...</td>\n",
       "      <td>0.178084</td>\n",
       "      <td>0.174437</td>\n",
       "      <td>0.172010</td>\n",
       "      <td>1</td>\n",
       "      <td>0.760641</td>\n",
       "      <td>0.826079</td>\n",
       "      <td>1</td>\n",
       "      <td>0</td>\n",
       "      <td>1</td>\n",
       "      <td>0</td>\n",
       "    </tr>\n",
       "    <tr>\n",
       "      <th>2667</th>\n",
       "      <td>0.19</td>\n",
       "      <td>3.3</td>\n",
       "      <td>68</td>\n",
       "      <td>0.47</td>\n",
       "      <td>38.0</td>\n",
       "      <td>772.105244</td>\n",
       "      <td>2</td>\n",
       "      <td>1.0</td>\n",
       "      <td>3</td>\n",
       "      <td>0.0</td>\n",
       "      <td>...</td>\n",
       "      <td>0.178084</td>\n",
       "      <td>0.174437</td>\n",
       "      <td>0.172010</td>\n",
       "      <td>1</td>\n",
       "      <td>0.829379</td>\n",
       "      <td>0.898651</td>\n",
       "      <td>1</td>\n",
       "      <td>0</td>\n",
       "      <td>1</td>\n",
       "      <td>0</td>\n",
       "    </tr>\n",
       "    <tr>\n",
       "      <th>2878</th>\n",
       "      <td>0.00</td>\n",
       "      <td>2.9</td>\n",
       "      <td>66</td>\n",
       "      <td>0.00</td>\n",
       "      <td>31.0</td>\n",
       "      <td>621.578933</td>\n",
       "      <td>2</td>\n",
       "      <td>0.0</td>\n",
       "      <td>5</td>\n",
       "      <td>0.0</td>\n",
       "      <td>...</td>\n",
       "      <td>0.178084</td>\n",
       "      <td>0.174437</td>\n",
       "      <td>0.177227</td>\n",
       "      <td>1</td>\n",
       "      <td>0.822680</td>\n",
       "      <td>0.868092</td>\n",
       "      <td>1</td>\n",
       "      <td>0</td>\n",
       "      <td>1</td>\n",
       "      <td>0</td>\n",
       "    </tr>\n",
       "    <tr>\n",
       "      <th>3806</th>\n",
       "      <td>0.00</td>\n",
       "      <td>2.9</td>\n",
       "      <td>67</td>\n",
       "      <td>-0.46</td>\n",
       "      <td>43.0</td>\n",
       "      <td>811.052609</td>\n",
       "      <td>3</td>\n",
       "      <td>1.0</td>\n",
       "      <td>3</td>\n",
       "      <td>0.0</td>\n",
       "      <td>...</td>\n",
       "      <td>0.178084</td>\n",
       "      <td>0.189215</td>\n",
       "      <td>0.177270</td>\n",
       "      <td>1</td>\n",
       "      <td>0.776840</td>\n",
       "      <td>0.828203</td>\n",
       "      <td>1</td>\n",
       "      <td>1</td>\n",
       "      <td>1</td>\n",
       "      <td>0</td>\n",
       "    </tr>\n",
       "    <tr>\n",
       "      <th>3981</th>\n",
       "      <td>0.25</td>\n",
       "      <td>3.3</td>\n",
       "      <td>66</td>\n",
       "      <td>-0.03</td>\n",
       "      <td>28.5</td>\n",
       "      <td>622.105251</td>\n",
       "      <td>3</td>\n",
       "      <td>1.0</td>\n",
       "      <td>5</td>\n",
       "      <td>0.0</td>\n",
       "      <td>...</td>\n",
       "      <td>0.178084</td>\n",
       "      <td>0.174437</td>\n",
       "      <td>0.172010</td>\n",
       "      <td>1</td>\n",
       "      <td>0.764871</td>\n",
       "      <td>0.865798</td>\n",
       "      <td>1</td>\n",
       "      <td>0</td>\n",
       "      <td>1</td>\n",
       "      <td>0</td>\n",
       "    </tr>\n",
       "    <tr>\n",
       "      <th>3988</th>\n",
       "      <td>-0.08</td>\n",
       "      <td>3.1</td>\n",
       "      <td>65</td>\n",
       "      <td>-0.24</td>\n",
       "      <td>33.0</td>\n",
       "      <td>673.157879</td>\n",
       "      <td>2</td>\n",
       "      <td>1.0</td>\n",
       "      <td>5</td>\n",
       "      <td>0.0</td>\n",
       "      <td>...</td>\n",
       "      <td>0.178084</td>\n",
       "      <td>0.174437</td>\n",
       "      <td>0.172010</td>\n",
       "      <td>1</td>\n",
       "      <td>0.766981</td>\n",
       "      <td>0.841350</td>\n",
       "      <td>1</td>\n",
       "      <td>0</td>\n",
       "      <td>1</td>\n",
       "      <td>0</td>\n",
       "    </tr>\n",
       "    <tr>\n",
       "      <th>3997</th>\n",
       "      <td>-0.15</td>\n",
       "      <td>3.0</td>\n",
       "      <td>67</td>\n",
       "      <td>-0.03</td>\n",
       "      <td>31.0</td>\n",
       "      <td>631.578933</td>\n",
       "      <td>3</td>\n",
       "      <td>1.0</td>\n",
       "      <td>5</td>\n",
       "      <td>0.0</td>\n",
       "      <td>...</td>\n",
       "      <td>0.178084</td>\n",
       "      <td>0.174437</td>\n",
       "      <td>0.172010</td>\n",
       "      <td>1</td>\n",
       "      <td>0.801326</td>\n",
       "      <td>0.884134</td>\n",
       "      <td>1</td>\n",
       "      <td>0</td>\n",
       "      <td>1</td>\n",
       "      <td>0</td>\n",
       "    </tr>\n",
       "    <tr>\n",
       "      <th>4088</th>\n",
       "      <td>-0.20</td>\n",
       "      <td>3.1</td>\n",
       "      <td>66</td>\n",
       "      <td>-0.07</td>\n",
       "      <td>32.0</td>\n",
       "      <td>657.368406</td>\n",
       "      <td>4</td>\n",
       "      <td>1.0</td>\n",
       "      <td>4</td>\n",
       "      <td>0.0</td>\n",
       "      <td>...</td>\n",
       "      <td>0.178084</td>\n",
       "      <td>0.174437</td>\n",
       "      <td>0.172010</td>\n",
       "      <td>1</td>\n",
       "      <td>0.792776</td>\n",
       "      <td>0.880318</td>\n",
       "      <td>1</td>\n",
       "      <td>0</td>\n",
       "      <td>1</td>\n",
       "      <td>0</td>\n",
       "    </tr>\n",
       "  </tbody>\n",
       "</table>\n",
       "<p>15 rows × 23 columns</p>\n",
       "</div>"
      ],
      "text/plain": [
       "        X1   X2  X3    X4    X5          X6  X7   X8  X9  X10  ...  vio_G0_L1  \\\n",
       "310   0.26  3.5  69  0.12  32.0  697.368406   4  1.0   4  0.0  ...   0.178084   \n",
       "456   0.19  3.6  69  0.37  32.0  707.368406   2  1.0   4  0.0  ...   0.178084   \n",
       "700  -0.27  3.0  69 -0.60  38.0  742.105244   4  1.0   3  0.0  ...   0.178084   \n",
       "1016  0.17  3.3  70  0.02  41.0  819.473663   3  1.0   3  0.0  ...   0.178084   \n",
       "1750 -0.27  2.8  67 -0.12  35.0  674.736825   2  0.0   4  0.0  ...   0.178084   \n",
       "2228  0.15  3.1  68 -0.10  34.0  688.947352   4  0.0   3  0.0  ...   0.178084   \n",
       "2240  0.04  3.4  67 -0.32  30.5  663.684196   4  0.0   5  0.0  ...   0.178084   \n",
       "2299 -0.28  3.1  68 -0.67  35.0  704.736825   3  1.0   5  0.0  ...   0.178084   \n",
       "2667  0.19  3.3  68  0.47  38.0  772.105244   2  1.0   3  0.0  ...   0.178084   \n",
       "2878  0.00  2.9  66  0.00  31.0  621.578933   2  0.0   5  0.0  ...   0.178084   \n",
       "3806  0.00  2.9  67 -0.46  43.0  811.052609   3  1.0   3  0.0  ...   0.178084   \n",
       "3981  0.25  3.3  66 -0.03  28.5  622.105251   3  1.0   5  0.0  ...   0.178084   \n",
       "3988 -0.08  3.1  65 -0.24  33.0  673.157879   2  1.0   5  0.0  ...   0.178084   \n",
       "3997 -0.15  3.0  67 -0.03  31.0  631.578933   3  1.0   5  0.0  ...   0.178084   \n",
       "4088 -0.20  3.1  66 -0.07  32.0  657.368406   4  1.0   4  0.0  ...   0.178084   \n",
       "\n",
       "      vio_G1_L0  vio_G1_L1  Y_pred  Y_pred_G0  Y_pred_G1  Y_pred_min  \\\n",
       "310    0.181890   0.172010       1   0.806777   0.894236           1   \n",
       "456    0.174437   0.172010       1   0.805943   0.893005           1   \n",
       "700    0.174437   0.172010       1   0.749993   0.831951           1   \n",
       "1016   0.174437   0.172010       1   0.821267   0.881196           1   \n",
       "1750   0.174437   0.172010       1   0.821545   0.859683           1   \n",
       "2228   0.174437   0.172010       1   0.809932   0.866930           1   \n",
       "2240   0.174437   0.172010       1   0.819262   0.860304           1   \n",
       "2299   0.174437   0.172010       1   0.760641   0.826079           1   \n",
       "2667   0.174437   0.172010       1   0.829379   0.898651           1   \n",
       "2878   0.174437   0.177227       1   0.822680   0.868092           1   \n",
       "3806   0.189215   0.177270       1   0.776840   0.828203           1   \n",
       "3981   0.174437   0.172010       1   0.764871   0.865798           1   \n",
       "3988   0.174437   0.172010       1   0.766981   0.841350           1   \n",
       "3997   0.174437   0.172010       1   0.801326   0.884134           1   \n",
       "4088   0.174437   0.172010       1   0.792776   0.880318           1   \n",
       "\n",
       "      Y_pred_w1  Y_pred_w2  Y_pred_A  \n",
       "310           0          1         0  \n",
       "456           0          1         0  \n",
       "700           0          1         0  \n",
       "1016          1          1         0  \n",
       "1750          0          1         0  \n",
       "2228          0          1         0  \n",
       "2240          0          1         0  \n",
       "2299          0          1         0  \n",
       "2667          0          1         0  \n",
       "2878          0          1         0  \n",
       "3806          1          1         0  \n",
       "3981          0          1         0  \n",
       "3988          0          1         0  \n",
       "3997          0          1         0  \n",
       "4088          0          1         0  \n",
       "\n",
       "[15 rows x 23 columns]"
      ]
     },
     "execution_count": 9,
     "metadata": {},
     "output_type": "execute_result"
    }
   ],
   "source": [
    "# TODO: get the above ratio for every datasets"
   ]
  },
  {
   "cell_type": "code",
   "execution_count": 12,
   "id": "d61ae0e6",
   "metadata": {},
   "outputs": [
    {
     "data": {
      "text/plain": [
       "<matplotlib.axes._subplots.AxesSubplot at 0x7ff463933ba8>"
      ]
     },
     "execution_count": 12,
     "metadata": {},
     "output_type": "execute_result"
    },
    {
     "data": {
      "image/png": "[encoded data removed]",
      "text/plain": [
       "<Figure size 432x288 with 1 Axes>"
      ]
     },
     "metadata": {
      "needs_background": "light"
     },
     "output_type": "display_data"
    }
   ],
   "source": [
    "# vis_df = err_df_m.query('Y==0')\n",
    "sns.histplot(x='vio_G1_L0', data=err_df_m, hue='Y')"
   ]
  },
  {
   "cell_type": "code",
   "execution_count": 15,
   "id": "88f0bb91",
   "metadata": {},
   "outputs": [
    {
     "data": {
      "text/plain": [
       "<matplotlib.axes._subplots.AxesSubplot at 0x7ff480f3ce48>"
      ]
     },
     "execution_count": 15,
     "metadata": {},
     "output_type": "execute_result"
    },
    {
     "data": {
      "image/png": "[encoded data removed]",
      "text/plain": [
       "<Figure size 432x288 with 1 Axes>"
      ]
     },
     "metadata": {
      "needs_background": "light"
     },
     "output_type": "display_data"
    }
   ],
   "source": [
    "# vis_df = err_df_m.query('Y==0')\n",
    "sns.histplot(x='vio_G0_L0', data=err_df_f, hue='Y')"
   ]
  },
  {
   "cell_type": "code",
   "execution_count": 16,
   "id": "6b5256b2",
   "metadata": {},
   "outputs": [
    {
     "data": {
      "text/plain": [
       "<matplotlib.axes._subplots.AxesSubplot at 0x7ff470172dd8>"
      ]
     },
     "execution_count": 16,
     "metadata": {},
     "output_type": "execute_result"
    },
    {
     "data": {
      "image/png": "[encoded data removed]",
      "text/plain": [
       "<Figure size 432x288 with 1 Axes>"
      ]
     },
     "metadata": {
      "needs_background": "light"
     },
     "output_type": "display_data"
    }
   ],
   "source": [
    "# vis_df = err_df_m.query('Y==0')\n",
    "sns.histplot(x='vio_G1_L1', data=err_df_m, hue='Y')"
   ]
  },
  {
   "cell_type": "code",
   "execution_count": 17,
   "id": "94a41ddb",
   "metadata": {},
   "outputs": [
    {
     "data": {
      "text/plain": [
       "<matplotlib.axes._subplots.AxesSubplot at 0x7ff463d37128>"
      ]
     },
     "execution_count": 17,
     "metadata": {},
     "output_type": "execute_result"
    },
    {
     "data": {
      "image/png": "[encoded data removed]",
      "text/plain": [
       "<Figure size 432x288 with 1 Axes>"
      ]
     },
     "metadata": {
      "needs_background": "light"
     },
     "output_type": "display_data"
    }
   ],
   "source": [
    "# vis_df = err_df_m.query('Y==0')\n",
    "sns.histplot(x='vio_G0_L1', data=err_df_f, hue='Y')"
   ]
  },
  {
   "cell_type": "code",
   "execution_count": null,
   "id": "25e8d2de",
   "metadata": {},
   "outputs": [],
   "source": []
  },
  {
   "cell_type": "code",
   "execution_count": 48,
   "id": "bdf661b2",
   "metadata": {},
   "outputs": [],
   "source": [
    "err_df_f = test_df.query('Y != Y_pred_F and A==0')"
   ]
  },
  {
   "cell_type": "code",
   "execution_count": null,
   "id": "2cd4e517",
   "metadata": {},
   "outputs": [],
   "source": []
  },
  {
   "cell_type": "code",
   "execution_count": 28,
   "id": "ff19eb10",
   "metadata": {},
   "outputs": [
    {
     "name": "stdout",
     "output_type": "stream",
     "text": [
      "723\n"
     ]
    },
    {
     "data": {
      "text/html": [
       "<div>\n",
       "<style scoped>\n",
       "    .dataframe tbody tr th:only-of-type {\n",
       "        vertical-align: middle;\n",
       "    }\n",
       "\n",
       "    .dataframe tbody tr th {\n",
       "        vertical-align: top;\n",
       "    }\n",
       "\n",
       "    .dataframe thead th {\n",
       "        text-align: right;\n",
       "    }\n",
       "</style>\n",
       "<table border=\"1\" class=\"dataframe\">\n",
       "  <thead>\n",
       "    <tr style=\"text-align: right;\">\n",
       "      <th></th>\n",
       "      <th>X1</th>\n",
       "    </tr>\n",
       "    <tr>\n",
       "      <th>A</th>\n",
       "      <th></th>\n",
       "    </tr>\n",
       "  </thead>\n",
       "  <tbody>\n",
       "    <tr>\n",
       "      <th>0</th>\n",
       "      <td>176</td>\n",
       "    </tr>\n",
       "    <tr>\n",
       "      <th>1</th>\n",
       "      <td>547</td>\n",
       "    </tr>\n",
       "  </tbody>\n",
       "</table>\n",
       "</div>"
      ],
      "text/plain": [
       "    X1\n",
       "A     \n",
       "0  176\n",
       "1  547"
      ]
     },
     "execution_count": 28,
     "metadata": {},
     "output_type": "execute_result"
    }
   ],
   "source": [
    "err_df_a = test_df.query('Y != Y_pred_A')\n",
    "print(err_df_a.shape[0])\n",
    "err_df_a[['A', 'X1']].groupby(by=['A']).count()"
   ]
  },
  {
   "cell_type": "code",
   "execution_count": null,
   "id": "7d798f71",
   "metadata": {},
   "outputs": [],
   "source": []
  },
  {
   "cell_type": "code",
   "execution_count": 29,
   "id": "1dffe54a",
   "metadata": {},
   "outputs": [
    {
     "name": "stdout",
     "output_type": "stream",
     "text": [
      "767\n"
     ]
    },
    {
     "data": {
      "text/html": [
       "<div>\n",
       "<style scoped>\n",
       "    .dataframe tbody tr th:only-of-type {\n",
       "        vertical-align: middle;\n",
       "    }\n",
       "\n",
       "    .dataframe tbody tr th {\n",
       "        vertical-align: top;\n",
       "    }\n",
       "\n",
       "    .dataframe thead th {\n",
       "        text-align: right;\n",
       "    }\n",
       "</style>\n",
       "<table border=\"1\" class=\"dataframe\">\n",
       "  <thead>\n",
       "    <tr style=\"text-align: right;\">\n",
       "      <th></th>\n",
       "      <th>X1</th>\n",
       "    </tr>\n",
       "    <tr>\n",
       "      <th>A</th>\n",
       "      <th></th>\n",
       "    </tr>\n",
       "  </thead>\n",
       "  <tbody>\n",
       "    <tr>\n",
       "      <th>0</th>\n",
       "      <td>177</td>\n",
       "    </tr>\n",
       "    <tr>\n",
       "      <th>1</th>\n",
       "      <td>590</td>\n",
       "    </tr>\n",
       "  </tbody>\n",
       "</table>\n",
       "</div>"
      ],
      "text/plain": [
       "    X1\n",
       "A     \n",
       "0  177\n",
       "1  590"
      ]
     },
     "execution_count": 29,
     "metadata": {},
     "output_type": "execute_result"
    }
   ],
   "source": [
    "err_df_c = test_df.query('Y != Y_pred_C')\n",
    "print(err_df_c.shape[0])\n",
    "err_df_c[['A', 'X1']].groupby(by=['A']).count()"
   ]
  },
  {
   "cell_type": "code",
   "execution_count": 30,
   "id": "42b103c0",
   "metadata": {},
   "outputs": [
    {
     "name": "stdout",
     "output_type": "stream",
     "text": [
      "3300\n"
     ]
    },
    {
     "data": {
      "text/html": [
       "<div>\n",
       "<style scoped>\n",
       "    .dataframe tbody tr th:only-of-type {\n",
       "        vertical-align: middle;\n",
       "    }\n",
       "\n",
       "    .dataframe tbody tr th {\n",
       "        vertical-align: top;\n",
       "    }\n",
       "\n",
       "    .dataframe thead th {\n",
       "        text-align: right;\n",
       "    }\n",
       "</style>\n",
       "<table border=\"1\" class=\"dataframe\">\n",
       "  <thead>\n",
       "    <tr style=\"text-align: right;\">\n",
       "      <th></th>\n",
       "      <th>X1</th>\n",
       "    </tr>\n",
       "    <tr>\n",
       "      <th>A</th>\n",
       "      <th></th>\n",
       "    </tr>\n",
       "  </thead>\n",
       "  <tbody>\n",
       "    <tr>\n",
       "      <th>0</th>\n",
       "      <td>507</td>\n",
       "    </tr>\n",
       "    <tr>\n",
       "      <th>1</th>\n",
       "      <td>2793</td>\n",
       "    </tr>\n",
       "  </tbody>\n",
       "</table>\n",
       "</div>"
      ],
      "text/plain": [
       "     X1\n",
       "A      \n",
       "0   507\n",
       "1  2793"
      ]
     },
     "execution_count": 30,
     "metadata": {},
     "output_type": "execute_result"
    }
   ],
   "source": [
    "err_df_w = test_df.query('Y != Y_pred_W')\n",
    "print(err_df_w.shape[0])\n",
    "err_df_w[['A', 'X1']].groupby(by=['A']).count()"
   ]
  },
  {
   "cell_type": "code",
   "execution_count": 31,
   "id": "84b9f3e6",
   "metadata": {},
   "outputs": [
    {
     "name": "stdout",
     "output_type": "stream",
     "text": [
      "715\n"
     ]
    },
    {
     "data": {
      "text/html": [
       "<div>\n",
       "<style scoped>\n",
       "    .dataframe tbody tr th:only-of-type {\n",
       "        vertical-align: middle;\n",
       "    }\n",
       "\n",
       "    .dataframe tbody tr th {\n",
       "        vertical-align: top;\n",
       "    }\n",
       "\n",
       "    .dataframe thead th {\n",
       "        text-align: right;\n",
       "    }\n",
       "</style>\n",
       "<table border=\"1\" class=\"dataframe\">\n",
       "  <thead>\n",
       "    <tr style=\"text-align: right;\">\n",
       "      <th></th>\n",
       "      <th>X1</th>\n",
       "    </tr>\n",
       "    <tr>\n",
       "      <th>A</th>\n",
       "      <th></th>\n",
       "    </tr>\n",
       "  </thead>\n",
       "  <tbody>\n",
       "    <tr>\n",
       "      <th>0</th>\n",
       "      <td>170</td>\n",
       "    </tr>\n",
       "    <tr>\n",
       "      <th>1</th>\n",
       "      <td>545</td>\n",
       "    </tr>\n",
       "  </tbody>\n",
       "</table>\n",
       "</div>"
      ],
      "text/plain": [
       "    X1\n",
       "A     \n",
       "0  170\n",
       "1  545"
      ]
     },
     "execution_count": 31,
     "metadata": {},
     "output_type": "execute_result"
    }
   ],
   "source": [
    "err_df_w2 = test_df.query('Y != Y_pred_W2')\n",
    "print(err_df_w2.shape[0])\n",
    "err_df_w2[['A', 'X1']].groupby(by=['A']).count()"
   ]
  },
  {
   "cell_type": "code",
   "execution_count": 32,
   "id": "9099b076",
   "metadata": {},
   "outputs": [
    {
     "name": "stdout",
     "output_type": "stream",
     "text": [
      "890\n"
     ]
    },
    {
     "data": {
      "text/html": [
       "<div>\n",
       "<style scoped>\n",
       "    .dataframe tbody tr th:only-of-type {\n",
       "        vertical-align: middle;\n",
       "    }\n",
       "\n",
       "    .dataframe tbody tr th {\n",
       "        vertical-align: top;\n",
       "    }\n",
       "\n",
       "    .dataframe thead th {\n",
       "        text-align: right;\n",
       "    }\n",
       "</style>\n",
       "<table border=\"1\" class=\"dataframe\">\n",
       "  <thead>\n",
       "    <tr style=\"text-align: right;\">\n",
       "      <th></th>\n",
       "      <th>X1</th>\n",
       "    </tr>\n",
       "    <tr>\n",
       "      <th>A</th>\n",
       "      <th></th>\n",
       "    </tr>\n",
       "  </thead>\n",
       "  <tbody>\n",
       "    <tr>\n",
       "      <th>0</th>\n",
       "      <td>245</td>\n",
       "    </tr>\n",
       "    <tr>\n",
       "      <th>1</th>\n",
       "      <td>645</td>\n",
       "    </tr>\n",
       "  </tbody>\n",
       "</table>\n",
       "</div>"
      ],
      "text/plain": [
       "    X1\n",
       "A     \n",
       "0  245\n",
       "1  645"
      ]
     },
     "execution_count": 32,
     "metadata": {},
     "output_type": "execute_result"
    }
   ],
   "source": [
    "err_df_o = test_df.query('Y != Y_pred_O')\n",
    "print(err_df_o.shape[0])\n",
    "err_df_o[['A', 'X1']].groupby(by=['A']).count()"
   ]
  },
  {
   "cell_type": "code",
   "execution_count": 36,
   "id": "f41bb14a",
   "metadata": {},
   "outputs": [
    {
     "data": {
      "text/plain": [
       "(34, 723, 767)"
      ]
     },
     "execution_count": 36,
     "metadata": {},
     "output_type": "execute_result"
    }
   ],
   "source": [
    "diff_ac = set(err_df_a.index).difference(err_df_c.index)\n",
    "len(diff_ac), err_df_a.shape[0], err_df_c.shape[0]"
   ]
  },
  {
   "cell_type": "code",
   "execution_count": 37,
   "id": "7e49b1cd",
   "metadata": {},
   "outputs": [
    {
     "data": {
      "text/plain": [
       "(611, 723, 3300)"
      ]
     },
     "execution_count": 37,
     "metadata": {},
     "output_type": "execute_result"
    }
   ],
   "source": [
    "diff_aw = set(err_df_a.index).difference(err_df_w.index)\n",
    "len(diff_aw), err_df_a.shape[0], err_df_w.shape[0]"
   ]
  },
  {
   "cell_type": "code",
   "execution_count": 38,
   "id": "c26127cd",
   "metadata": {},
   "outputs": [
    {
     "data": {
      "text/plain": [
       "(62, 723, 715)"
      ]
     },
     "execution_count": 38,
     "metadata": {},
     "output_type": "execute_result"
    }
   ],
   "source": [
    "diff_aw2 = set(err_df_a.index).difference(err_df_w2.index)\n",
    "len(diff_aw2), err_df_a.shape[0], err_df_w2.shape[0]"
   ]
  },
  {
   "cell_type": "code",
   "execution_count": 39,
   "id": "1909fabf",
   "metadata": {},
   "outputs": [
    {
     "data": {
      "text/plain": [
       "(327, 723, 715)"
      ]
     },
     "execution_count": 39,
     "metadata": {},
     "output_type": "execute_result"
    }
   ],
   "source": [
    "diff_ow2 = set(err_df_o.index).difference(err_df_w2.index)\n",
    "len(diff_ow2), err_df_a.shape[0], err_df_w2.shape[0]"
   ]
  },
  {
   "cell_type": "code",
   "execution_count": 41,
   "id": "a452e69b",
   "metadata": {},
   "outputs": [
    {
     "data": {
      "text/html": [
       "<div>\n",
       "<style scoped>\n",
       "    .dataframe tbody tr th:only-of-type {\n",
       "        vertical-align: middle;\n",
       "    }\n",
       "\n",
       "    .dataframe tbody tr th {\n",
       "        vertical-align: top;\n",
       "    }\n",
       "\n",
       "    .dataframe thead th {\n",
       "        text-align: right;\n",
       "    }\n",
       "</style>\n",
       "<table border=\"1\" class=\"dataframe\">\n",
       "  <thead>\n",
       "    <tr style=\"text-align: right;\">\n",
       "      <th></th>\n",
       "      <th>X1</th>\n",
       "    </tr>\n",
       "    <tr>\n",
       "      <th>A</th>\n",
       "      <th></th>\n",
       "    </tr>\n",
       "  </thead>\n",
       "  <tbody>\n",
       "    <tr>\n",
       "      <th>0</th>\n",
       "      <td>27</td>\n",
       "    </tr>\n",
       "    <tr>\n",
       "      <th>1</th>\n",
       "      <td>35</td>\n",
       "    </tr>\n",
       "  </tbody>\n",
       "</table>\n",
       "</div>"
      ],
      "text/plain": [
       "   X1\n",
       "A    \n",
       "0  27\n",
       "1  35"
      ]
     },
     "execution_count": 41,
     "metadata": {},
     "output_type": "execute_result"
    }
   ],
   "source": [
    "df_aw2 = err_df_a.loc[diff_aw2, :]\n",
    "df_aw2[['A', 'X1']].groupby(by=['A']).count()"
   ]
  },
  {
   "cell_type": "code",
   "execution_count": 42,
   "id": "f4b8190a",
   "metadata": {},
   "outputs": [
    {
     "data": {
      "text/html": [
       "<div>\n",
       "<style scoped>\n",
       "    .dataframe tbody tr th:only-of-type {\n",
       "        vertical-align: middle;\n",
       "    }\n",
       "\n",
       "    .dataframe tbody tr th {\n",
       "        vertical-align: top;\n",
       "    }\n",
       "\n",
       "    .dataframe thead th {\n",
       "        text-align: right;\n",
       "    }\n",
       "</style>\n",
       "<table border=\"1\" class=\"dataframe\">\n",
       "  <thead>\n",
       "    <tr style=\"text-align: right;\">\n",
       "      <th></th>\n",
       "      <th>X1</th>\n",
       "    </tr>\n",
       "    <tr>\n",
       "      <th>A</th>\n",
       "      <th></th>\n",
       "    </tr>\n",
       "  </thead>\n",
       "  <tbody>\n",
       "    <tr>\n",
       "      <th>0</th>\n",
       "      <td>135</td>\n",
       "    </tr>\n",
       "    <tr>\n",
       "      <th>1</th>\n",
       "      <td>192</td>\n",
       "    </tr>\n",
       "  </tbody>\n",
       "</table>\n",
       "</div>"
      ],
      "text/plain": [
       "    X1\n",
       "A     \n",
       "0  135\n",
       "1  192"
      ]
     },
     "execution_count": 42,
     "metadata": {},
     "output_type": "execute_result"
    }
   ],
   "source": [
    "df_ow2 = err_df_o.loc[diff_ow2, :]\n",
    "df_ow2[['A', 'X1']].groupby(by=['A']).count()"
   ]
  },
  {
   "cell_type": "code",
   "execution_count": null,
   "id": "53547418",
   "metadata": {},
   "outputs": [],
   "source": []
  },
  {
   "cell_type": "code",
   "execution_count": 43,
   "id": "b184f880",
   "metadata": {},
   "outputs": [
    {
     "data": {
      "text/plain": [
       "(54, 715, 723)"
      ]
     },
     "execution_count": 43,
     "metadata": {},
     "output_type": "execute_result"
    }
   ],
   "source": [
    "diff_w2a = set(err_df_w2.index).difference(err_df_a.index)\n",
    "len(diff_w2a), err_df_w2.shape[0], err_df_a.shape[0]"
   ]
  },
  {
   "cell_type": "code",
   "execution_count": 44,
   "id": "7e76e496",
   "metadata": {},
   "outputs": [
    {
     "data": {
      "text/plain": [
       "(152, 715, 890)"
      ]
     },
     "execution_count": 44,
     "metadata": {},
     "output_type": "execute_result"
    }
   ],
   "source": [
    "diff_w2o = set(err_df_w2.index).difference(err_df_o.index)\n",
    "len(diff_w2o), err_df_w2.shape[0], err_df_o.shape[0]"
   ]
  },
  {
   "cell_type": "code",
   "execution_count": 45,
   "id": "d08d0494",
   "metadata": {},
   "outputs": [
    {
     "data": {
      "text/html": [
       "<div>\n",
       "<style scoped>\n",
       "    .dataframe tbody tr th:only-of-type {\n",
       "        vertical-align: middle;\n",
       "    }\n",
       "\n",
       "    .dataframe tbody tr th {\n",
       "        vertical-align: top;\n",
       "    }\n",
       "\n",
       "    .dataframe thead th {\n",
       "        text-align: right;\n",
       "    }\n",
       "</style>\n",
       "<table border=\"1\" class=\"dataframe\">\n",
       "  <thead>\n",
       "    <tr style=\"text-align: right;\">\n",
       "      <th></th>\n",
       "      <th>X1</th>\n",
       "    </tr>\n",
       "    <tr>\n",
       "      <th>A</th>\n",
       "      <th></th>\n",
       "    </tr>\n",
       "  </thead>\n",
       "  <tbody>\n",
       "    <tr>\n",
       "      <th>0</th>\n",
       "      <td>21</td>\n",
       "    </tr>\n",
       "    <tr>\n",
       "      <th>1</th>\n",
       "      <td>33</td>\n",
       "    </tr>\n",
       "  </tbody>\n",
       "</table>\n",
       "</div>"
      ],
      "text/plain": [
       "   X1\n",
       "A    \n",
       "0  21\n",
       "1  33"
      ]
     },
     "execution_count": 45,
     "metadata": {},
     "output_type": "execute_result"
    }
   ],
   "source": [
    "df_w2a = err_df_w2.loc[diff_w2a, :]\n",
    "df_w2a[['A', 'X1']].groupby(by=['A']).count()"
   ]
  },
  {
   "cell_type": "code",
   "execution_count": 46,
   "id": "7b69b0cc",
   "metadata": {},
   "outputs": [
    {
     "data": {
      "text/html": [
       "<div>\n",
       "<style scoped>\n",
       "    .dataframe tbody tr th:only-of-type {\n",
       "        vertical-align: middle;\n",
       "    }\n",
       "\n",
       "    .dataframe tbody tr th {\n",
       "        vertical-align: top;\n",
       "    }\n",
       "\n",
       "    .dataframe thead th {\n",
       "        text-align: right;\n",
       "    }\n",
       "</style>\n",
       "<table border=\"1\" class=\"dataframe\">\n",
       "  <thead>\n",
       "    <tr style=\"text-align: right;\">\n",
       "      <th></th>\n",
       "      <th>X1</th>\n",
       "    </tr>\n",
       "    <tr>\n",
       "      <th>A</th>\n",
       "      <th></th>\n",
       "    </tr>\n",
       "  </thead>\n",
       "  <tbody>\n",
       "    <tr>\n",
       "      <th>0</th>\n",
       "      <td>60</td>\n",
       "    </tr>\n",
       "    <tr>\n",
       "      <th>1</th>\n",
       "      <td>92</td>\n",
       "    </tr>\n",
       "  </tbody>\n",
       "</table>\n",
       "</div>"
      ],
      "text/plain": [
       "   X1\n",
       "A    \n",
       "0  60\n",
       "1  92"
      ]
     },
     "execution_count": 46,
     "metadata": {},
     "output_type": "execute_result"
    }
   ],
   "source": [
    "df_w2o = err_df_w2.loc[diff_w2o, :]\n",
    "df_w2o[['A', 'X1']].groupby(by=['A']).count()"
   ]
  },
  {
   "cell_type": "code",
   "execution_count": null,
   "id": "9cbcf34d",
   "metadata": {},
   "outputs": [],
   "source": []
  },
  {
   "cell_type": "code",
   "execution_count": null,
   "id": "07639b76",
   "metadata": {},
   "outputs": [],
   "source": []
  },
  {
   "cell_type": "code",
   "execution_count": 11,
   "id": "8415884d",
   "metadata": {},
   "outputs": [],
   "source": [
    "import matplotlib.pyplot as plt\n",
    "import seaborn as sns"
   ]
  },
  {
   "cell_type": "code",
   "execution_count": 59,
   "id": "af2aa258",
   "metadata": {},
   "outputs": [
    {
     "data": {
      "text/plain": [
       "<matplotlib.axes._subplots.AxesSubplot at 0x7f9cb95c0f28>"
      ]
     },
     "execution_count": 59,
     "metadata": {},
     "output_type": "execute_result"
    },
    {
     "data": {
      "image/png": "[encoded data removed]",
      "text/plain": [
       "<Figure size 432x288 with 1 Axes>"
      ]
     },
     "metadata": {
      "needs_background": "light"
     },
     "output_type": "display_data"
    }
   ],
   "source": [
    "# vis_col = 'Y_pred'\n",
    "vis_df = test_df.query('A==0 and vio_G0_L1 > vio_G1_L1 and vio_G0_L0 > vio_G1_L0')\n",
    "sns.scatterplot(x='X1', y='X4', data=vis_df, hue='Y')"
   ]
  },
  {
   "cell_type": "code",
   "execution_count": 58,
   "id": "e32730e3",
   "metadata": {},
   "outputs": [
    {
     "data": {
      "text/plain": [
       "<matplotlib.axes._subplots.AxesSubplot at 0x7f9ca90cba58>"
      ]
     },
     "execution_count": 58,
     "metadata": {},
     "output_type": "execute_result"
    },
    {
     "data": {
      "image/png": "[encoded data removed]",
      "text/plain": [
       "<Figure size 432x288 with 1 Axes>"
      ]
     },
     "metadata": {
      "needs_background": "light"
     },
     "output_type": "display_data"
    }
   ],
   "source": [
    "# vis_col = 'Y_pred'\n",
    "vis_df = test_df.query('A==1 and vio_G0_L1 < vio_G1_L1 and vio_G0_L0 < vio_G1_L0')\n",
    "sns.scatterplot(x='X1', y='X4', data=vis_df, hue='Y')"
   ]
  },
  {
   "cell_type": "code",
   "execution_count": null,
   "id": "37a10fb9",
   "metadata": {},
   "outputs": [],
   "source": []
  },
  {
   "cell_type": "code",
   "execution_count": null,
   "id": "a606033c",
   "metadata": {},
   "outputs": [],
   "source": []
  },
  {
   "cell_type": "code",
   "execution_count": null,
   "id": "e51ea001",
   "metadata": {},
   "outputs": [],
   "source": []
  },
  {
   "cell_type": "code",
   "execution_count": null,
   "id": "0427696e",
   "metadata": {},
   "outputs": [],
   "source": []
  },
  {
   "cell_type": "code",
   "execution_count": null,
   "id": "89031d0c",
   "metadata": {},
   "outputs": [],
   "source": []
  },
  {
   "cell_type": "code",
   "execution_count": null,
   "id": "4bf94ff7",
   "metadata": {},
   "outputs": [],
   "source": []
  },
  {
   "cell_type": "code",
   "execution_count": null,
   "id": "35ecbacb",
   "metadata": {},
   "outputs": [],
   "source": []
  },
  {
   "cell_type": "code",
   "execution_count": null,
   "id": "167311f3",
   "metadata": {},
   "outputs": [],
   "source": []
  },
  {
   "cell_type": "code",
   "execution_count": 49,
   "id": "fe039af0",
   "metadata": {},
   "outputs": [
    {
     "data": {
      "text/plain": [
       "<matplotlib.axes._subplots.AxesSubplot at 0x7f9ca8ce8a58>"
      ]
     },
     "execution_count": 49,
     "metadata": {},
     "output_type": "execute_result"
    },
    {
     "data": {
      "image/png": "[encoded data removed]",
      "text/plain": [
       "<Figure size 432x288 with 1 Axes>"
      ]
     },
     "metadata": {
      "needs_background": "light"
     },
     "output_type": "display_data"
    }
   ],
   "source": [
    "# vis_col = 'Y_pred'\n",
    "vis_df = test_df.query('A==0 and Y==1 and vio_G0_L1 > vio_G1_L1')\n",
    "sns.scatterplot(x='X3', y='X6', data=vis_df, hue='vio_G0_L1', style='Y_pred_G0', legend=None)"
   ]
  },
  {
   "cell_type": "code",
   "execution_count": 44,
   "id": "103fbc35",
   "metadata": {},
   "outputs": [
    {
     "data": {
      "text/plain": [
       "<matplotlib.axes._subplots.AxesSubplot at 0x7f9cce88e710>"
      ]
     },
     "execution_count": 44,
     "metadata": {},
     "output_type": "execute_result"
    },
    {
     "data": {
      "image/png": "[encoded data removed]",
      "text/plain": [
       "<Figure size 432x288 with 1 Axes>"
      ]
     },
     "metadata": {
      "needs_background": "light"
     },
     "output_type": "display_data"
    }
   ],
   "source": [
    "# vis_col = 'Y_pred'\n",
    "vis_df = test_df.query('A==0 and Y==0')\n",
    "sns.scatterplot(x='X3', y='X6', data=vis_df, hue='vio_G0_L0', style='Y_pred_G0', legend=None)"
   ]
  },
  {
   "cell_type": "code",
   "execution_count": 46,
   "id": "afc0b6cb",
   "metadata": {},
   "outputs": [
    {
     "data": {
      "text/plain": [
       "<matplotlib.axes._subplots.AxesSubplot at 0x7f9ccebd79b0>"
      ]
     },
     "execution_count": 46,
     "metadata": {},
     "output_type": "execute_result"
    },
    {
     "data": {
      "image/png": "[encoded data removed]",
      "text/plain": [
       "<Figure size 432x288 with 1 Axes>"
      ]
     },
     "metadata": {
      "needs_background": "light"
     },
     "output_type": "display_data"
    }
   ],
   "source": [
    "# vis_col = 'Y_pred'\n",
    "vis_df = test_df.query('A==1 and Y==1')\n",
    "sns.scatterplot(x='X3', y='X6', data=vis_df, hue='vio_G1_L1', style='Y_pred_G1', legend=None)"
   ]
  },
  {
   "cell_type": "code",
   "execution_count": 48,
   "id": "f1cdaeef",
   "metadata": {},
   "outputs": [
    {
     "data": {
      "text/plain": [
       "<matplotlib.axes._subplots.AxesSubplot at 0x7f9cb9f0a630>"
      ]
     },
     "execution_count": 48,
     "metadata": {},
     "output_type": "execute_result"
    },
    {
     "data": {
      "image/png": "[encoded data removed]",
      "text/plain": [
       "<Figure size 432x288 with 1 Axes>"
      ]
     },
     "metadata": {
      "needs_background": "light"
     },
     "output_type": "display_data"
    }
   ],
   "source": [
    "# vis_col = 'Y_pred'\n",
    "vis_df = test_df.query('A==1 and Y==0')\n",
    "sns.scatterplot(x='X3', y='X6', data=vis_df, hue='vio_G1_L0', style='Y_pred_G1', legend=None)"
   ]
  },
  {
   "cell_type": "code",
   "execution_count": null,
   "id": "aa628882",
   "metadata": {},
   "outputs": [],
   "source": []
  },
  {
   "cell_type": "code",
   "execution_count": null,
   "id": "d135139a",
   "metadata": {},
   "outputs": [],
   "source": []
  },
  {
   "cell_type": "code",
   "execution_count": null,
   "id": "9a9e1c9f",
   "metadata": {},
   "outputs": [],
   "source": []
  },
  {
   "cell_type": "code",
   "execution_count": null,
   "id": "d9b2345d",
   "metadata": {},
   "outputs": [],
   "source": []
  },
  {
   "cell_type": "code",
   "execution_count": null,
   "id": "d00e5673",
   "metadata": {},
   "outputs": [],
   "source": []
  },
  {
   "cell_type": "code",
   "execution_count": null,
   "id": "d9ac50dd",
   "metadata": {},
   "outputs": [],
   "source": []
  },
  {
   "cell_type": "code",
   "execution_count": null,
   "id": "9cd653ce",
   "metadata": {},
   "outputs": [],
   "source": []
  },
  {
   "cell_type": "code",
   "execution_count": null,
   "id": "97ac771c",
   "metadata": {},
   "outputs": [],
   "source": []
  },
  {
   "cell_type": "code",
   "execution_count": null,
   "id": "84190a16",
   "metadata": {},
   "outputs": [],
   "source": []
  },
  {
   "cell_type": "code",
   "execution_count": null,
   "id": "c6d906db",
   "metadata": {},
   "outputs": [],
   "source": []
  },
  {
   "cell_type": "code",
   "execution_count": null,
   "id": "7463888b",
   "metadata": {},
   "outputs": [],
   "source": []
  },
  {
   "cell_type": "code",
   "execution_count": null,
   "id": "905ff345",
   "metadata": {},
   "outputs": [],
   "source": []
  },
  {
   "cell_type": "code",
   "execution_count": null,
   "id": "fe9050a7",
   "metadata": {},
   "outputs": [],
   "source": []
  },
  {
   "cell_type": "code",
   "execution_count": null,
   "id": "5e6e9b7a",
   "metadata": {},
   "outputs": [],
   "source": []
  },
  {
   "cell_type": "code",
   "execution_count": null,
   "id": "b77fbe48",
   "metadata": {},
   "outputs": [],
   "source": [
    "# vis_col = 'Y_pred'\n",
    "vis_df = test_df.query('A==0')\n",
    "sns.scatterplot(x='X1', y='X6', data=vis_df, hue='vio_G0_L1', style='Y_pred_G0', legend=None)"
   ]
  },
  {
   "cell_type": "code",
   "execution_count": null,
   "id": "19079cf1",
   "metadata": {},
   "outputs": [],
   "source": []
  },
  {
   "cell_type": "code",
   "execution_count": null,
   "id": "31126430",
   "metadata": {},
   "outputs": [],
   "source": []
  },
  {
   "cell_type": "code",
   "execution_count": null,
   "id": "9210a55f",
   "metadata": {},
   "outputs": [],
   "source": []
  },
  {
   "cell_type": "code",
   "execution_count": null,
   "id": "9a2b02ab",
   "metadata": {},
   "outputs": [],
   "source": []
  },
  {
   "cell_type": "code",
   "execution_count": null,
   "id": "ec785ab2",
   "metadata": {},
   "outputs": [],
   "source": []
  },
  {
   "cell_type": "code",
   "execution_count": null,
   "id": "0aac49ad",
   "metadata": {},
   "outputs": [],
   "source": []
  },
  {
   "cell_type": "code",
   "execution_count": null,
   "id": "58ad1027",
   "metadata": {},
   "outputs": [],
   "source": []
  },
  {
   "cell_type": "code",
   "execution_count": null,
   "id": "ef09e3ce",
   "metadata": {},
   "outputs": [],
   "source": []
  },
  {
   "cell_type": "code",
   "execution_count": null,
   "id": "ed33adb4",
   "metadata": {},
   "outputs": [],
   "source": []
  },
  {
   "cell_type": "code",
   "execution_count": null,
   "id": "305a8baa",
   "metadata": {},
   "outputs": [],
   "source": []
  },
  {
   "cell_type": "code",
   "execution_count": null,
   "id": "97310c0f",
   "metadata": {},
   "outputs": [],
   "source": []
  },
  {
   "cell_type": "code",
   "execution_count": null,
   "id": "64e89783",
   "metadata": {},
   "outputs": [],
   "source": []
  },
  {
   "cell_type": "code",
   "execution_count": null,
   "id": "f61eb504",
   "metadata": {},
   "outputs": [],
   "source": []
  },
  {
   "cell_type": "code",
   "execution_count": null,
   "id": "beb85633",
   "metadata": {},
   "outputs": [],
   "source": []
  },
  {
   "cell_type": "code",
   "execution_count": 16,
   "id": "b407f644",
   "metadata": {},
   "outputs": [
    {
     "data": {
      "text/plain": [
       "<matplotlib.axes._subplots.AxesSubplot at 0x7fbfa127af60>"
      ]
     },
     "execution_count": 16,
     "metadata": {},
     "output_type": "execute_result"
    },
    {
     "data": {
      "image/png": "[encoded data removed]",
      "text/plain": [
       "<Figure size 432x288 with 1 Axes>"
      ]
     },
     "metadata": {
      "needs_background": "light"
     },
     "output_type": "display_data"
    }
   ],
   "source": [
    "vis_col = 'Y_pred_mcc_w2'\n",
    "sns.histplot(x=vis_col, data=test_df, hue='A')"
   ]
  },
  {
   "cell_type": "code",
   "execution_count": 17,
   "id": "e05c0376",
   "metadata": {},
   "outputs": [
    {
     "data": {
      "text/plain": [
       "<matplotlib.axes._subplots.AxesSubplot at 0x7fbfb3c7c0b8>"
      ]
     },
     "execution_count": 17,
     "metadata": {},
     "output_type": "execute_result"
    },
    {
     "data": {
      "image/png": "[encoded data removed]",
      "text/plain": [
       "<Figure size 432x288 with 1 Axes>"
      ]
     },
     "metadata": {
      "needs_background": "light"
     },
     "output_type": "display_data"
    }
   ],
   "source": [
    "vis_col = 'Y_pred_mcc_w'\n",
    "sns.histplot(x=vis_col, data=test_df, hue='A')"
   ]
  },
  {
   "cell_type": "code",
   "execution_count": 18,
   "id": "d5df9e3c",
   "metadata": {},
   "outputs": [],
   "source": [
    "def compute_bal_acc(y_true, y_pred, label_order=[0, 1]):\n",
    "    TN, FP, FN, TP = confusion_matrix(y_true, y_pred, labels=label_order).ravel()\n",
    "    P = TP + FN\n",
    "    N = TN + FP\n",
    "    TPR = TP / P if P > 0.0 else np.float64(0.0)\n",
    "    TNR = TN / N if N > 0.0 else np.float64(0.0)\n",
    "    return 0.5 * (TPR + TNR)\n",
    "def compute_sr(y_true, y_pred, label_order=[0, 1]):\n",
    "    TN, FP, FN, TP = confusion_matrix(y_true, y_pred, labels=label_order).ravel()\n",
    "    pred_P = TP+FP\n",
    "    P = TP + FN\n",
    "    N = TN + FP\n",
    "    return pred_P / (P+N)\n",
    "def eval_sp(test_eval_df, pred_col, sensi_col='A', n_groups=2):\n",
    "    SR_all = []\n",
    "    for group_i in range(n_groups):\n",
    "        group_df = test_eval_df[test_eval_df[sensi_col] == group_i]\n",
    "        group_sr = compute_sr(group_df['Y'], group_df[pred_col])\n",
    "        SR_all.append(group_sr)\n",
    "\n",
    "    sp_diff = SR_all[0] - SR_all[1]\n",
    "    return sp_diff"
   ]
  },
  {
   "cell_type": "code",
   "execution_count": 19,
   "id": "2bf62b20",
   "metadata": {},
   "outputs": [
    {
     "data": {
      "text/plain": [
       "(0.6488503000777103, 0.4138896649932855)"
      ]
     },
     "execution_count": 19,
     "metadata": {},
     "output_type": "execute_result"
    }
   ],
   "source": [
    "acc_a = compute_bal_acc(test_df['Y'], test_df['Y_pred_O'])\n",
    "sp_a = eval_sp(test_df, 'Y_pred_O')\n",
    "acc_a, sp_a"
   ]
  },
  {
   "cell_type": "code",
   "execution_count": 20,
   "id": "0074aae9",
   "metadata": {},
   "outputs": [
    {
     "data": {
      "text/plain": [
       "(0.652425532737809, 0.2841042880942658)"
      ]
     },
     "execution_count": 20,
     "metadata": {},
     "output_type": "execute_result"
    }
   ],
   "source": [
    "acc_a = compute_bal_acc(test_df['Y'], test_df['Y_pred_A'])\n",
    "sp_a = eval_sp(test_df, 'Y_pred_A')\n",
    "acc_a, sp_a"
   ]
  },
  {
   "cell_type": "code",
   "execution_count": 21,
   "id": "48abdc8f",
   "metadata": {},
   "outputs": [
    {
     "data": {
      "text/plain": [
       "(0.6304971116916057, 0.13079564528015675)"
      ]
     },
     "execution_count": 21,
     "metadata": {},
     "output_type": "execute_result"
    }
   ],
   "source": [
    "acc_a = compute_bal_acc(test_df['Y'], test_df['Y_pred_M'])\n",
    "sp_a = eval_sp(test_df, 'Y_pred_M')\n",
    "acc_a, sp_a"
   ]
  },
  {
   "cell_type": "code",
   "execution_count": 22,
   "id": "335cf80b",
   "metadata": {},
   "outputs": [
    {
     "data": {
      "text/plain": [
       "(0.5, 0.0)"
      ]
     },
     "execution_count": 22,
     "metadata": {},
     "output_type": "execute_result"
    }
   ],
   "source": [
    "acc_a = compute_bal_acc(test_df['Y'], test_df['Y_pred_W'])\n",
    "sp_a = eval_sp(test_df, 'Y_pred_W')\n",
    "acc_a, sp_a"
   ]
  },
  {
   "cell_type": "code",
   "execution_count": 23,
   "id": "8655fee2",
   "metadata": {},
   "outputs": [
    {
     "data": {
      "text/plain": [
       "(0.6269689657611663, 0.1267807782782593)"
      ]
     },
     "execution_count": 23,
     "metadata": {},
     "output_type": "execute_result"
    }
   ],
   "source": [
    "acc_a = compute_bal_acc(test_df['Y'], test_df['Y_pred_W2'])\n",
    "sp_a = eval_sp(test_df, 'Y_pred_W2')\n",
    "acc_a, sp_a"
   ]
  },
  {
   "cell_type": "code",
   "execution_count": null,
   "id": "2cd490c5",
   "metadata": {},
   "outputs": [],
   "source": []
  }
 ],
 "metadata": {
  "kernelspec": {
   "display_name": "Python 3 (ipykernel)",
   "language": "python",
   "name": "python3"
  },
  "language_info": {
   "codemirror_mode": {
    "name": "ipython",
    "version": 3
   },
   "file_extension": ".py",
   "mimetype": "text/x-python",
   "name": "python",
   "nbconvert_exporter": "python",
   "pygments_lexer": "ipython3",
   "version": "3.7.0"
  }
 },
 "nbformat": 4,
 "nbformat_minor": 5
}
