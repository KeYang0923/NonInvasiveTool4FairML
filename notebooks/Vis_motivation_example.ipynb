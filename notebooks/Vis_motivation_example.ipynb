{
 "cells": [
  {
   "cell_type": "code",
   "execution_count": 1,
   "id": "0c5e0e49",
   "metadata": {},
   "outputs": [],
   "source": [
    "import warnings\n",
    "import sys\n",
    "sys.path.append('../')\n",
    "warnings.filterwarnings('ignore')"
   ]
  },
  {
   "cell_type": "code",
   "execution_count": 2,
   "id": "058e99da",
   "metadata": {},
   "outputs": [],
   "source": [
    "import pandas as pd\n",
    "import numpy as np\n",
    "\n",
    "import matplotlib.pyplot as plt\n",
    "import seaborn as sns\n",
    "import os\n",
    "from tabulate import tabulate\n",
    "from texttable import Texttable\n",
    "\n",
    "import latextable\n",
    "from PrepareData import read_json, make_folder"
   ]
  },
  {
   "cell_type": "code",
   "execution_count": 10,
   "id": "7dc98d22",
   "metadata": {},
   "outputs": [
    {
     "data": {
      "text/html": [
       "<div>\n",
       "<style scoped>\n",
       "    .dataframe tbody tr th:only-of-type {\n",
       "        vertical-align: middle;\n",
       "    }\n",
       "\n",
       "    .dataframe tbody tr th {\n",
       "        vertical-align: top;\n",
       "    }\n",
       "\n",
       "    .dataframe thead th {\n",
       "        text-align: right;\n",
       "    }\n",
       "</style>\n",
       "<table border=\"1\" class=\"dataframe\">\n",
       "  <thead>\n",
       "    <tr style=\"text-align: right;\">\n",
       "      <th></th>\n",
       "      <th>A</th>\n",
       "      <th>X1</th>\n",
       "      <th>X2</th>\n",
       "      <th>Y_prob</th>\n",
       "      <th>Y</th>\n",
       "      <th>ID</th>\n",
       "      <th>fill</th>\n",
       "      <th>color</th>\n",
       "    </tr>\n",
       "  </thead>\n",
       "  <tbody>\n",
       "    <tr>\n",
       "      <th>0</th>\n",
       "      <td>1.0</td>\n",
       "      <td>1.362435</td>\n",
       "      <td>1.058662</td>\n",
       "      <td>-1.029193</td>\n",
       "      <td>0.0</td>\n",
       "      <td>0.0</td>\n",
       "      <td>blue</td>\n",
       "      <td>blue</td>\n",
       "    </tr>\n",
       "    <tr>\n",
       "      <th>1</th>\n",
       "      <td>1.0</td>\n",
       "      <td>1.138824</td>\n",
       "      <td>1.083898</td>\n",
       "      <td>-0.900074</td>\n",
       "      <td>1.0</td>\n",
       "      <td>1.0</td>\n",
       "      <td>blue</td>\n",
       "      <td>blue</td>\n",
       "    </tr>\n",
       "    <tr>\n",
       "      <th>2</th>\n",
       "      <td>1.0</td>\n",
       "      <td>1.147183</td>\n",
       "      <td>1.093110</td>\n",
       "      <td>-0.906932</td>\n",
       "      <td>1.0</td>\n",
       "      <td>2.0</td>\n",
       "      <td>blue</td>\n",
       "      <td>blue</td>\n",
       "    </tr>\n",
       "    <tr>\n",
       "      <th>3</th>\n",
       "      <td>1.0</td>\n",
       "      <td>1.092703</td>\n",
       "      <td>1.028559</td>\n",
       "      <td>-0.861334</td>\n",
       "      <td>1.0</td>\n",
       "      <td>3.0</td>\n",
       "      <td>blue</td>\n",
       "      <td>blue</td>\n",
       "    </tr>\n",
       "    <tr>\n",
       "      <th>4</th>\n",
       "      <td>1.0</td>\n",
       "      <td>1.286541</td>\n",
       "      <td>1.088514</td>\n",
       "      <td>-0.989627</td>\n",
       "      <td>1.0</td>\n",
       "      <td>4.0</td>\n",
       "      <td>blue</td>\n",
       "      <td>blue</td>\n",
       "    </tr>\n",
       "  </tbody>\n",
       "</table>\n",
       "</div>"
      ],
      "text/plain": [
       "     A        X1        X2    Y_prob    Y   ID  fill color\n",
       "0  1.0  1.362435  1.058662 -1.029193  0.0  0.0  blue  blue\n",
       "1  1.0  1.138824  1.083898 -0.900074  1.0  1.0  blue  blue\n",
       "2  1.0  1.147183  1.093110 -0.906932  1.0  2.0  blue  blue\n",
       "3  1.0  1.092703  1.028559 -0.861334  1.0  3.0  blue  blue\n",
       "4  1.0  1.286541  1.088514 -0.989627  1.0  4.0  blue  blue"
      ]
     },
     "execution_count": 10,
     "metadata": {},
     "output_type": "execute_result"
    }
   ],
   "source": [
    "sample_df = pd.read_csv('sample_motivation.csv')\n",
    "sample_df.head()"
   ]
  },
  {
   "cell_type": "code",
   "execution_count": 4,
   "id": "048f961a",
   "metadata": {},
   "outputs": [
    {
     "data": {
      "text/plain": [
       "array(['blue', 'orange', 'white'], dtype=object)"
      ]
     },
     "execution_count": 4,
     "metadata": {},
     "output_type": "execute_result"
    }
   ],
   "source": [
    "sample_df['color'].unique()"
   ]
  },
  {
   "cell_type": "code",
   "execution_count": 5,
   "id": "273eb24d",
   "metadata": {},
   "outputs": [
    {
     "data": {
      "text/plain": [
       "array(['blue', 'orange', 'red'], dtype=object)"
      ]
     },
     "execution_count": 5,
     "metadata": {},
     "output_type": "execute_result"
    }
   ],
   "source": [
    "sample_df['fill'].unique()"
   ]
  },
  {
   "cell_type": "code",
   "execution_count": 12,
   "id": "8ac9b8f6",
   "metadata": {},
   "outputs": [
    {
     "data": {
      "text/html": [
       "<div>\n",
       "<style scoped>\n",
       "    .dataframe tbody tr th:only-of-type {\n",
       "        vertical-align: middle;\n",
       "    }\n",
       "\n",
       "    .dataframe tbody tr th {\n",
       "        vertical-align: top;\n",
       "    }\n",
       "\n",
       "    .dataframe thead th {\n",
       "        text-align: right;\n",
       "    }\n",
       "</style>\n",
       "<table border=\"1\" class=\"dataframe\">\n",
       "  <thead>\n",
       "    <tr style=\"text-align: right;\">\n",
       "      <th></th>\n",
       "      <th>A</th>\n",
       "      <th>X1</th>\n",
       "      <th>X2</th>\n",
       "      <th>Y_prob</th>\n",
       "      <th>Y</th>\n",
       "      <th>ID</th>\n",
       "      <th>fill</th>\n",
       "      <th>color</th>\n",
       "    </tr>\n",
       "  </thead>\n",
       "  <tbody>\n",
       "    <tr>\n",
       "      <th>132</th>\n",
       "      <td>0.0</td>\n",
       "      <td>1.769270</td>\n",
       "      <td>0.926159</td>\n",
       "      <td>0.691098</td>\n",
       "      <td>0.0</td>\n",
       "      <td>132.0</td>\n",
       "      <td>orange</td>\n",
       "      <td>orange</td>\n",
       "    </tr>\n",
       "    <tr>\n",
       "      <th>133</th>\n",
       "      <td>0.0</td>\n",
       "      <td>1.788654</td>\n",
       "      <td>0.941338</td>\n",
       "      <td>0.696657</td>\n",
       "      <td>0.0</td>\n",
       "      <td>133.0</td>\n",
       "      <td>orange</td>\n",
       "      <td>orange</td>\n",
       "    </tr>\n",
       "    <tr>\n",
       "      <th>134</th>\n",
       "      <td>0.0</td>\n",
       "      <td>1.756985</td>\n",
       "      <td>0.919001</td>\n",
       "      <td>0.686590</td>\n",
       "      <td>0.0</td>\n",
       "      <td>134.0</td>\n",
       "      <td>orange</td>\n",
       "      <td>orange</td>\n",
       "    </tr>\n",
       "    <tr>\n",
       "      <th>135</th>\n",
       "      <td>0.0</td>\n",
       "      <td>1.797448</td>\n",
       "      <td>0.928276</td>\n",
       "      <td>0.707159</td>\n",
       "      <td>0.0</td>\n",
       "      <td>135.0</td>\n",
       "      <td>orange</td>\n",
       "      <td>orange</td>\n",
       "    </tr>\n",
       "    <tr>\n",
       "      <th>136</th>\n",
       "      <td>0.0</td>\n",
       "      <td>1.772388</td>\n",
       "      <td>0.921221</td>\n",
       "      <td>0.694944</td>\n",
       "      <td>0.0</td>\n",
       "      <td>136.0</td>\n",
       "      <td>orange</td>\n",
       "      <td>orange</td>\n",
       "    </tr>\n",
       "    <tr>\n",
       "      <th>137</th>\n",
       "      <td>0.0</td>\n",
       "      <td>1.783190</td>\n",
       "      <td>0.930422</td>\n",
       "      <td>0.697745</td>\n",
       "      <td>0.0</td>\n",
       "      <td>137.0</td>\n",
       "      <td>orange</td>\n",
       "      <td>orange</td>\n",
       "    </tr>\n",
       "    <tr>\n",
       "      <th>138</th>\n",
       "      <td>0.0</td>\n",
       "      <td>1.777506</td>\n",
       "      <td>0.935828</td>\n",
       "      <td>0.692173</td>\n",
       "      <td>0.0</td>\n",
       "      <td>138.0</td>\n",
       "      <td>orange</td>\n",
       "      <td>orange</td>\n",
       "    </tr>\n",
       "    <tr>\n",
       "      <th>139</th>\n",
       "      <td>0.0</td>\n",
       "      <td>1.480000</td>\n",
       "      <td>0.800000</td>\n",
       "      <td>0.568000</td>\n",
       "      <td>1.0</td>\n",
       "      <td>139.0</td>\n",
       "      <td>red</td>\n",
       "      <td>orange</td>\n",
       "    </tr>\n",
       "    <tr>\n",
       "      <th>140</th>\n",
       "      <td>0.0</td>\n",
       "      <td>1.490000</td>\n",
       "      <td>0.806000</td>\n",
       "      <td>0.571600</td>\n",
       "      <td>1.0</td>\n",
       "      <td>140.0</td>\n",
       "      <td>red</td>\n",
       "      <td>orange</td>\n",
       "    </tr>\n",
       "    <tr>\n",
       "      <th>141</th>\n",
       "      <td>0.0</td>\n",
       "      <td>1.500000</td>\n",
       "      <td>0.810000</td>\n",
       "      <td>0.576000</td>\n",
       "      <td>1.0</td>\n",
       "      <td>141.0</td>\n",
       "      <td>red</td>\n",
       "      <td>orange</td>\n",
       "    </tr>\n",
       "  </tbody>\n",
       "</table>\n",
       "</div>"
      ],
      "text/plain": [
       "       A        X1        X2    Y_prob    Y     ID    fill   color\n",
       "132  0.0  1.769270  0.926159  0.691098  0.0  132.0  orange  orange\n",
       "133  0.0  1.788654  0.941338  0.696657  0.0  133.0  orange  orange\n",
       "134  0.0  1.756985  0.919001  0.686590  0.0  134.0  orange  orange\n",
       "135  0.0  1.797448  0.928276  0.707159  0.0  135.0  orange  orange\n",
       "136  0.0  1.772388  0.921221  0.694944  0.0  136.0  orange  orange\n",
       "137  0.0  1.783190  0.930422  0.697745  0.0  137.0  orange  orange\n",
       "138  0.0  1.777506  0.935828  0.692173  0.0  138.0  orange  orange\n",
       "139  0.0  1.480000  0.800000  0.568000  1.0  139.0     red  orange\n",
       "140  0.0  1.490000  0.806000  0.571600  1.0  140.0     red  orange\n",
       "141  0.0  1.500000  0.810000  0.576000  1.0  141.0     red  orange"
      ]
     },
     "execution_count": 12,
     "metadata": {},
     "output_type": "execute_result"
    }
   ],
   "source": [
    "sample_df.tail(10)"
   ]
  },
  {
   "cell_type": "code",
   "execution_count": 14,
   "id": "c01021b5",
   "metadata": {},
   "outputs": [],
   "source": [
    "sample_df = sample_df[sample_df['X2']>0.51]"
   ]
  },
  {
   "cell_type": "code",
   "execution_count": 18,
   "id": "aeb873df",
   "metadata": {},
   "outputs": [
    {
     "data": {
      "text/plain": [
       "5      0.969846\n",
       "11     0.993986\n",
       "52     1.085748\n",
       "36     1.088269\n",
       "20     1.089938\n",
       "         ...   \n",
       "137    1.783190\n",
       "133    1.788654\n",
       "129    1.796243\n",
       "135    1.797448\n",
       "87     1.852833\n",
       "Name: X1, Length: 139, dtype: float64"
      ]
     },
     "execution_count": 18,
     "metadata": {},
     "output_type": "execute_result"
    }
   ],
   "source": [
    "sample_df['X1'].sort_values()"
   ]
  },
  {
   "cell_type": "code",
   "execution_count": null,
   "id": "a56629a7",
   "metadata": {},
   "outputs": [],
   "source": []
  },
  {
   "cell_type": "code",
   "execution_count": null,
   "id": "f2871c14",
   "metadata": {},
   "outputs": [],
   "source": []
  },
  {
   "cell_type": "code",
   "execution_count": 4,
   "id": "d1c0c8ea",
   "metadata": {},
   "outputs": [],
   "source": [
    "# generate samples\n",
    "# x1_centers = [1.2, 1.5, 1.3, 1.6]\n",
    "# x1_std = [0.1, 0.1, 0.1, 0.1]\n",
    "\n",
    "# x2_centers = [1, 1.2, 0.8, 0.8]\n",
    "# x2_std = [0.1, 0.1, 0.1, 0.1]\n",
    "\n",
    "# weights_x1 = [-0.6, -0.6, 0.6, 0.6]\n",
    "# weights_x2 = [-0.2, -0.2, -0.4, -0.4]\n",
    "\n",
    "# conds = [-1, -1, 0.6, 0.6]\n",
    "# sizes = [55, 25, 5, 15]\n",
    "# np.random.seed(1)\n",
    "\n",
    "# sample_df = pd.DataFrame(columns=['A', 'X1', 'X2', 'Y_prob', 'Y'])\n",
    "# groups = [1, 1, 0, 0]\n",
    "# labels = [0, 1, 0, 1]\n",
    "# for mu_x1, sigma_x1, mu_x2, sigma_x2, weight_x1, weight_x2, cond_i, group_i, size_i in zip(x1_centers, x1_std, x2_centers, x2_std, weights_x1, weights_x2, conds, groups, sizes):\n",
    "#     cur_x1_values = np.random.normal(mu_x1, sigma_x1, size_i)\n",
    "#     cur_x2_values = np.random.normal(mu_x2, sigma_x2, size_i)\n",
    "#     for x1_i, x2_i in zip(cur_x1_values, cur_x2_values):\n",
    "#         y_i = weight_x1*x1_i + weight_x2* x2_i\n",
    "        \n",
    "#         if cond_i > 0:\n",
    "#             y_int_i = int(y_i < cond_i)\n",
    "#         else:\n",
    "#             y_int_i = int(y_i > cond_i)\n",
    "#         sample_df.loc[sample_df.shape[0]] = [group_i, x1_i, x2_i, y_i, y_int_i]\n"
   ]
  },
  {
   "cell_type": "code",
   "execution_count": 15,
   "id": "94e674d2",
   "metadata": {},
   "outputs": [],
   "source": [
    "# map_c = {'blue': '#0C2340', 'orange': '#F15A22'}\n",
    "map_c = {'blue': '#0C2340', 'orange': '#F15A22', 'red': '#F15A22', 'white': '#F15A22'}"
   ]
  },
  {
   "cell_type": "code",
   "execution_count": 16,
   "id": "87770be2",
   "metadata": {},
   "outputs": [],
   "source": [
    "new_df = sample_df.copy()\n",
    "new_df['fill'] = new_df['fill'].apply(lambda x: map_c[x])\n",
    "new_df['color'] = new_df['color'].apply(lambda x: map_c[x])"
   ]
  },
  {
   "cell_type": "code",
   "execution_count": 17,
   "id": "212c375f",
   "metadata": {},
   "outputs": [
    {
     "data": {
      "text/plain": [
       "(array([0.4, 0.6, 0.8, 1. , 1.2, 1.4, 1.6]),\n",
       " <a list of 7 Text yticklabel objects>)"
      ]
     },
     "execution_count": 17,
     "metadata": {},
     "output_type": "execute_result"
    },
    {
     "data": {
      "image/png": "[encoded data removed]",
      "text/plain": [
       "<Figure size 1760x1320 with 1 Axes>"
      ]
     },
     "metadata": {
      "needs_background": "light"
     },
     "output_type": "display_data"
    }
   ],
   "source": [
    "fig, ax = plt.subplots(1, figsize=(8, 6), dpi=220)\n",
    "groups = [1, 1, 0, 0]\n",
    "labels = [0, 1, 0, 1]\n",
    "markers = ['^', 'o', '^', 'o']\n",
    "# colors = ['blue', 'blue', 'orange', 'orange']\n",
    "colors = ['#0C2340', '#0C2340', '#F15A22', '#F15A22']\n",
    "legends = ['majority + negative', 'majority + positive', 'minority + negative', 'minority + positive']\n",
    "# plt.scatter(1.42, 0.73, s=2500, color='white', edgecolor='green', marker='s')\n",
    "# plt.scatter(1.13, 1, s=2500, color='white', edgecolor='green', marker='s')\n",
    "# plt.scatter(1.62, 1.3, s=2000, color='white', edgecolor='green', marker='s')\n",
    "# plt.scatter(1.76, 0.89, s=1500, color='white', edgecolor='green', marker='s')\n",
    "\n",
    "for group_i, label_i, marker_i, color_i in zip(groups, labels, markers, colors):\n",
    "#     cur_df = sample_df.query('A=={} and Y=={}'.format(group_i, label_i))\n",
    "    cur_df = new_df.query('A=={} and Y=={}'.format(group_i, label_i))\n",
    "    \n",
    "    plt.scatter(cur_df['X1'], cur_df['X2'], c=cur_df['color'], marker=marker_i, edgecolors=cur_df['fill'], s=110, label='')\n",
    "\n",
    "    \n",
    "for group_i, label_i, marker_i, color_i, legend_i in zip(groups, labels, markers, colors, legends):\n",
    "    plt.scatter(-1, -1, c=color_i, marker=marker_i, edgecolors=color_i, s=55, label=legend_i)\n",
    "    \n",
    "line_x1 = [1, 1.2, 1.4, 1.6, 2.0]\n",
    "\n",
    "g1_x2 = [-3*x+5 for x in line_x1]\n",
    "g0_x2 = [1.5*x-1.5 for x in line_x1]\n",
    "\n",
    "# plt.plot(line_x1, g1_x2, linestyle='solid', color='black', linewidth=0.8)\n",
    "# plt.plot(line_x1, g0_x2, linestyle='dashdot', color='orange', linewidth=0.8)\n",
    "cc_g1_x1 = [1, 1.2, 1.35]\n",
    "cc_g1_x2 = [-3*x+4.95 for x in cc_g1_x1]\n",
    "cc_g0_x1 = [1.35, 1.8]\n",
    "cc_g0_x2 = [0.9, 0.4]\n",
    "\n",
    "# plt.plot(cc_g1_x1, cc_g1_x2, linestyle='dashdot', color='green', linewidth=0.8)\n",
    "# plt.plot(cc_g0_x1, cc_g0_x2, linestyle='dashdot', color='green', linewidth=0.8)\n",
    "\n",
    "# ax.set_facecolor('#f3f3f3')\n",
    "plt.ylim(0.4, 1.5)\n",
    "plt.xlim(1.0, 2.0)\n",
    "font_s = 30\n",
    "# plt.xlabel('X1', fontsize=font_s)\n",
    "# plt.ylabel('X2', fontsize=font_s)\n",
    "plt.xticks(fontsize=font_s)\n",
    "plt.yticks(fontsize=font_s)\n",
    "# plt.legend(bbox_to_anchor=(0, 1, 1, 0), loc=\"lower center\", mode=\"expand\", ncol=2, frameon=False, borderaxespad=0, handlelength=0.9, handletextpad=0.3, fontsize=font_s)\n",
    "# plt.text(1.4, 0.76, '$C_1$', fontsize=font_s)\n",
    "# plt.text(1.5, 0.83, '$C_2$', fontsize=font_s)\n",
    "# plt.savefig('motivation.png', bbox_inches=\"tight\")"
   ]
  },
  {
   "cell_type": "code",
   "execution_count": 14,
   "id": "86ffbeaa",
   "metadata": {},
   "outputs": [],
   "source": [
    "# # adding error cases where SCC mispredicts but MCC predicts correctly. \n",
    "# sample_df.loc[139] = [0, 1.48, 0.80, 0.6*1.48 + (-0.4*0.80), 1, 139, 'red', 'orange']\n",
    "# sample_df.loc[140] = [0, 1.49, 0.806, 0.6*1.49 + (-0.4*0.806), 1, 140, 'red', 'orange']\n",
    "# sample_df.loc[141] = [0, 1.5, 0.81, 0.6*1.5 + (-0.4*0.81), 1, 141, 'red', 'orange']"
   ]
  },
  {
   "cell_type": "code",
   "execution_count": 25,
   "id": "0343643d",
   "metadata": {},
   "outputs": [],
   "source": [
    "sample_df.to_csv('sample_motivation.csv', index=False)"
   ]
  },
  {
   "cell_type": "code",
   "execution_count": null,
   "id": "1458158b",
   "metadata": {},
   "outputs": [],
   "source": [
    "# # adding color and filling column\n",
    "# def get_filling_color(x):\n",
    "#     if x.iloc[0] == 0 and 1.4<x.iloc[1]<1.6 and x.iloc[2] >0.83:\n",
    "#         return 'red'\n",
    "#     else:\n",
    "#         if x.iloc[0] == 0:\n",
    "#             return 'orange'\n",
    "#         else:\n",
    "#             return 'blue'\n",
    "# color_map = {0: 'orange', 1: 'blue'}\n",
    "# sample_df['fill'] = sample_df[['A', 'X1', 'X2']].apply(lambda x: get_filling_color(x), axis=1)\n",
    "# sample_df['color'] = sample_df['A'].apply(lambda x: color_map(x), axis=1)"
   ]
  },
  {
   "cell_type": "code",
   "execution_count": 270,
   "id": "93ed9247",
   "metadata": {},
   "outputs": [],
   "source": [
    "# # adding clusters for SCC squres\n",
    "# np.random.seed(1)\n",
    "# cur_shift_x1 = np.random.normal(1, 0.1, size=10)/10\n",
    "# cur_shift_x2 = np.random.normal(0.9, 0.1, size=10)/10\n",
    "# color_map = {0: 'orange', 1: 'blue'}\n",
    "# cluster_x1 = [1.13, 1.55, 1.68]\n",
    "# cluster_x2 = [1, 1.25, 0.84]\n",
    "# groups = [1, 1, 0]\n",
    "# labels = [1, 0, 0]\n",
    "# weights_x1 = [-0.6, -0.6, 0.6]\n",
    "# weights_x2 = [-0.2, -0.2, -0.4]\n",
    "# for c_1, c_2, g_i, l_i, w_1, w_2 in zip(cluster_x1, cluster_x2, groups, labels, weights_x1, weights_x2):\n",
    "#     for s_1, s_2 in zip(cur_shift_x1, cur_shift_x2):\n",
    "#         y_i = w_1 * (c_1+s_1) + w_2 * (c_2+s_2)\n",
    "#         sample_df.loc[sample_df.shape[0]] = [g_i, c_1+s_1, c_2+s_2, y_i, l_i, sample_df.shape[0], color_map[g_i], color_map[g_i]]"
   ]
  },
  {
   "cell_type": "code",
   "execution_count": 218,
   "id": "92eff5e9",
   "metadata": {},
   "outputs": [],
   "source": [
    "# # adding g0 POS cluster\n",
    "# np.random.seed(12)\n",
    "# cur_shift = [x/100 for x in np.random.randint(1, 10, 6)]\n",
    "# for shift_i in cur_shift:\n",
    "#     x_1_center = 1.36\n",
    "#     x_2_center = 0.66\n",
    "#     cur_x1 = x_1_center + shift_i\n",
    "#     cur_x2 =  x_2_center + shift_i\n",
    "#     sample_df.loc[sample_df.shape[0]] = [0, cur_x1, cur_x2, 0.6*cur_x1 + (-0.4*cur_x2), 1, sample_df.shape[0], 'orange', 'orange']"
   ]
  },
  {
   "cell_type": "code",
   "execution_count": 114,
   "id": "7018ea81",
   "metadata": {},
   "outputs": [],
   "source": [
    "# # adding error cases for G0 POS #TODO add the ID \n",
    "# sample_df.loc[sample_df.shape[0]] = [0, 1.4, 0.42, 0.6*1.4 + (-0.4*0.42), 1, sample_df.shape[0], 'red', 'orange']\n",
    "# sample_df.loc[sample_df.shape[0]] = [0, 1.45, 0.5, 0.6*1.45 + (-0.4*0.5), 1, sample_df.shape[0]+1, 'red', 'orange']\n",
    "# sample_df.loc[sample_df.shape[0]] = [0, 1.39, 0.48, 0.6*1.39 + (-0.4*0.48), 1, sample_df.shape[0]+1, 'red', 'orange']"
   ]
  },
  {
   "cell_type": "code",
   "execution_count": 181,
   "id": "cfbf945f",
   "metadata": {},
   "outputs": [],
   "source": [
    "# def move_down_x1(x, error_list):\n",
    "#     if x.iloc[1] in error_list:\n",
    "#         return x.iloc[0]+0.01\n",
    "#     else:\n",
    "#         return x\n",
    "# def move_down_x2(x, error_list):\n",
    "#     if x.iloc[1] in error_list:\n",
    "#         return x.iloc[0]+0.01\n",
    "#     else:\n",
    "#         return x"
   ]
  },
  {
   "cell_type": "code",
   "execution_count": 182,
   "id": "defbbebf",
   "metadata": {},
   "outputs": [],
   "source": [
    "# # minor adjustment for G0 POS error cases\n",
    "# g0_error = [94]\n",
    "# sample_df['X1'] = sample_df[['X1', 'ID']].apply(lambda x: move_down_x1(x, g0_error), axis=1)\n",
    "# sample_df['X2'] = sample_df[['X2', 'ID']].apply(lambda x: move_down_x2(x, g0_error), axis=1)"
   ]
  },
  {
   "cell_type": "code",
   "execution_count": null,
   "id": "f1cc11e9",
   "metadata": {},
   "outputs": [],
   "source": []
  }
 ],
 "metadata": {
  "kernelspec": {
   "display_name": "Python 3 (ipykernel)",
   "language": "python",
   "name": "python3"
  },
  "language_info": {
   "codemirror_mode": {
    "name": "ipython",
    "version": 3
   },
   "file_extension": ".py",
   "mimetype": "text/x-python",
   "name": "python",
   "nbconvert_exporter": "python",
   "pygments_lexer": "ipython3",
   "version": "3.7.0"
  }
 },
 "nbformat": 4,
 "nbformat_minor": 5
}
