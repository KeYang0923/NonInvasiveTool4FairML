{
 "cells": [
  {
   "cell_type": "code",
   "execution_count": 1,
   "id": "464d1482",
   "metadata": {},
   "outputs": [],
   "source": [
    "import warnings\n",
    "import sys\n",
    "sys.path.append('../')\n",
    "warnings.filterwarnings('ignore')"
   ]
  },
  {
   "cell_type": "code",
   "execution_count": 2,
   "id": "1eab9a90",
   "metadata": {},
   "outputs": [],
   "source": [
    "import pandas as pd\n",
    "import numpy as np\n",
    "\n",
    "import matplotlib.pyplot as plt\n",
    "import seaborn as sns\n",
    "import os\n",
    "from tabulate import tabulate\n",
    "from texttable import Texttable\n",
    "\n",
    "import latextable\n",
    "from PrepareData import read_json, make_folder"
   ]
  },
  {
   "cell_type": "code",
   "execution_count": 8,
   "id": "a2b8461a",
   "metadata": {},
   "outputs": [],
   "source": [
    "# # generate large synthetic samples\n",
    "# base_x1 = 1.3\n",
    "# size_base = 100\n",
    "# x1_centers = [1.2, 1.5, base_x1, 1.6]\n",
    "# x1_std = [0.1, 0.1, 0.1, 0.1]\n",
    "\n",
    "# x2_centers = [1, 1.2, 1, 1]\n",
    "# x2_std = [0.1, 0.1, 0.1, 0.1]\n",
    "\n",
    "# weights_x1 = [-0.6, -0.6, 0.6, 0.6]\n",
    "# weights_x2 = [-0.2, -0.2, -0.4, -0.4]\n",
    "\n",
    "# conds = [-1, -1, 0.6, 0.6]\n",
    "# sizes = [55*size_base, 25*size_base, 5*size_base, 15*size_base]\n",
    "# np.random.seed(1)\n",
    "\n",
    "# sample_df = pd.DataFrame(columns=['A', 'X1', 'X2', 'Y_prob', 'Y'])\n",
    "# groups = [1, 1, 0, 0]\n",
    "# labels = [0, 1, 0, 1]\n",
    "# for mu_x1, sigma_x1, mu_x2, sigma_x2, weight_x1, weight_x2, cond_i, group_i, size_i in zip(x1_centers, x1_std, x2_centers, x2_std, weights_x1, weights_x2, conds, groups, sizes):\n",
    "#     cur_x1_values = np.random.normal(mu_x1, sigma_x1, size_i)\n",
    "#     cur_x2_values = np.random.normal(mu_x2, sigma_x2, size_i)\n",
    "#     for x1_i, x2_i in zip(cur_x1_values, cur_x2_values):\n",
    "#         y_i = weight_x1*x1_i + weight_x2* x2_i\n",
    "        \n",
    "#         if cond_i > 0:\n",
    "#             y_int_i = int(y_i > cond_i)\n",
    "#         else:\n",
    "#             y_int_i = int(y_i < cond_i)\n",
    "#         sample_df.loc[sample_df.shape[0]] = [group_i, x1_i, x2_i, y_i, y_int_i]\n"
   ]
  },
  {
   "cell_type": "code",
   "execution_count": 13,
   "id": "46f5506f",
   "metadata": {},
   "outputs": [
    {
     "data": {
      "text/html": [
       "<div>\n",
       "<style scoped>\n",
       "    .dataframe tbody tr th:only-of-type {\n",
       "        vertical-align: middle;\n",
       "    }\n",
       "\n",
       "    .dataframe tbody tr th {\n",
       "        vertical-align: top;\n",
       "    }\n",
       "\n",
       "    .dataframe thead th {\n",
       "        text-align: right;\n",
       "    }\n",
       "</style>\n",
       "<table border=\"1\" class=\"dataframe\">\n",
       "  <thead>\n",
       "    <tr style=\"text-align: right;\">\n",
       "      <th></th>\n",
       "      <th>x</th>\n",
       "      <th>y</th>\n",
       "      <th>z</th>\n",
       "    </tr>\n",
       "  </thead>\n",
       "  <tbody>\n",
       "    <tr>\n",
       "      <th>0</th>\n",
       "      <td>227.023610</td>\n",
       "      <td>352.049443</td>\n",
       "      <td>a</td>\n",
       "    </tr>\n",
       "    <tr>\n",
       "      <th>1</th>\n",
       "      <td>210.724485</td>\n",
       "      <td>323.725229</td>\n",
       "      <td>a</td>\n",
       "    </tr>\n",
       "    <tr>\n",
       "      <th>2</th>\n",
       "      <td>226.225240</td>\n",
       "      <td>402.524527</td>\n",
       "      <td>a</td>\n",
       "    </tr>\n",
       "    <tr>\n",
       "      <th>3</th>\n",
       "      <td>180.931732</td>\n",
       "      <td>371.479071</td>\n",
       "      <td>a</td>\n",
       "    </tr>\n",
       "    <tr>\n",
       "      <th>4</th>\n",
       "      <td>211.900670</td>\n",
       "      <td>363.786677</td>\n",
       "      <td>a</td>\n",
       "    </tr>\n",
       "  </tbody>\n",
       "</table>\n",
       "</div>"
      ],
      "text/plain": [
       "            x           y  z\n",
       "0  227.023610  352.049443  a\n",
       "1  210.724485  323.725229  a\n",
       "2  226.225240  402.524527  a\n",
       "3  180.931732  371.479071  a\n",
       "4  211.900670  363.786677  a"
      ]
     },
     "execution_count": 13,
     "metadata": {},
     "output_type": "execute_result"
    }
   ],
   "source": [
    "# data.csv is generated from drawdata.xyz\n",
    "df = pd.read_csv('data.csv') \n",
    "df.head()"
   ]
  },
  {
   "cell_type": "code",
   "execution_count": 14,
   "id": "59ff1776",
   "metadata": {},
   "outputs": [
    {
     "data": {
      "text/html": [
       "<div>\n",
       "<style scoped>\n",
       "    .dataframe tbody tr th:only-of-type {\n",
       "        vertical-align: middle;\n",
       "    }\n",
       "\n",
       "    .dataframe tbody tr th {\n",
       "        vertical-align: top;\n",
       "    }\n",
       "\n",
       "    .dataframe thead th {\n",
       "        text-align: right;\n",
       "    }\n",
       "</style>\n",
       "<table border=\"1\" class=\"dataframe\">\n",
       "  <thead>\n",
       "    <tr style=\"text-align: right;\">\n",
       "      <th></th>\n",
       "      <th>X1</th>\n",
       "      <th>X2</th>\n",
       "      <th>z</th>\n",
       "    </tr>\n",
       "  </thead>\n",
       "  <tbody>\n",
       "    <tr>\n",
       "      <th>0</th>\n",
       "      <td>227.023610</td>\n",
       "      <td>352.049443</td>\n",
       "      <td>a</td>\n",
       "    </tr>\n",
       "    <tr>\n",
       "      <th>1</th>\n",
       "      <td>210.724485</td>\n",
       "      <td>323.725229</td>\n",
       "      <td>a</td>\n",
       "    </tr>\n",
       "    <tr>\n",
       "      <th>2</th>\n",
       "      <td>226.225240</td>\n",
       "      <td>402.524527</td>\n",
       "      <td>a</td>\n",
       "    </tr>\n",
       "    <tr>\n",
       "      <th>3</th>\n",
       "      <td>180.931732</td>\n",
       "      <td>371.479071</td>\n",
       "      <td>a</td>\n",
       "    </tr>\n",
       "    <tr>\n",
       "      <th>4</th>\n",
       "      <td>211.900670</td>\n",
       "      <td>363.786677</td>\n",
       "      <td>a</td>\n",
       "    </tr>\n",
       "  </tbody>\n",
       "</table>\n",
       "</div>"
      ],
      "text/plain": [
       "           X1          X2  z\n",
       "0  227.023610  352.049443  a\n",
       "1  210.724485  323.725229  a\n",
       "2  226.225240  402.524527  a\n",
       "3  180.931732  371.479071  a\n",
       "4  211.900670  363.786677  a"
      ]
     },
     "execution_count": 14,
     "metadata": {},
     "output_type": "execute_result"
    }
   ],
   "source": [
    "df.rename(columns={'x': 'X1', 'y': 'X2'}, inplace=True)\n",
    "df.head()"
   ]
  },
  {
   "cell_type": "code",
   "execution_count": 15,
   "id": "034f81cd",
   "metadata": {},
   "outputs": [
    {
     "data": {
      "text/html": [
       "<div>\n",
       "<style scoped>\n",
       "    .dataframe tbody tr th:only-of-type {\n",
       "        vertical-align: middle;\n",
       "    }\n",
       "\n",
       "    .dataframe tbody tr th {\n",
       "        vertical-align: top;\n",
       "    }\n",
       "\n",
       "    .dataframe thead th {\n",
       "        text-align: right;\n",
       "    }\n",
       "</style>\n",
       "<table border=\"1\" class=\"dataframe\">\n",
       "  <thead>\n",
       "    <tr style=\"text-align: right;\">\n",
       "      <th></th>\n",
       "      <th>X1</th>\n",
       "      <th>X2</th>\n",
       "      <th>z</th>\n",
       "      <th>Y</th>\n",
       "      <th>A</th>\n",
       "    </tr>\n",
       "  </thead>\n",
       "  <tbody>\n",
       "    <tr>\n",
       "      <th>0</th>\n",
       "      <td>227.023610</td>\n",
       "      <td>352.049443</td>\n",
       "      <td>a</td>\n",
       "      <td>0</td>\n",
       "      <td>1</td>\n",
       "    </tr>\n",
       "    <tr>\n",
       "      <th>1</th>\n",
       "      <td>210.724485</td>\n",
       "      <td>323.725229</td>\n",
       "      <td>a</td>\n",
       "      <td>0</td>\n",
       "      <td>1</td>\n",
       "    </tr>\n",
       "    <tr>\n",
       "      <th>2</th>\n",
       "      <td>226.225240</td>\n",
       "      <td>402.524527</td>\n",
       "      <td>a</td>\n",
       "      <td>0</td>\n",
       "      <td>1</td>\n",
       "    </tr>\n",
       "    <tr>\n",
       "      <th>3</th>\n",
       "      <td>180.931732</td>\n",
       "      <td>371.479071</td>\n",
       "      <td>a</td>\n",
       "      <td>0</td>\n",
       "      <td>1</td>\n",
       "    </tr>\n",
       "    <tr>\n",
       "      <th>4</th>\n",
       "      <td>211.900670</td>\n",
       "      <td>363.786677</td>\n",
       "      <td>a</td>\n",
       "      <td>0</td>\n",
       "      <td>1</td>\n",
       "    </tr>\n",
       "  </tbody>\n",
       "</table>\n",
       "</div>"
      ],
      "text/plain": [
       "           X1          X2  z  Y  A\n",
       "0  227.023610  352.049443  a  0  1\n",
       "1  210.724485  323.725229  a  0  1\n",
       "2  226.225240  402.524527  a  0  1\n",
       "3  180.931732  371.479071  a  0  1\n",
       "4  211.900670  363.786677  a  0  1"
      ]
     },
     "execution_count": 15,
     "metadata": {},
     "output_type": "execute_result"
    }
   ],
   "source": [
    "y_map = {'a': 0, 'b': 1, 'c': 0, 'd': 1}\n",
    "a_map = {'a': 1, 'b': 1, 'c': 0, 'd': 0}\n",
    "df['Y'] = df['z'].apply(lambda x: y_map[x])\n",
    "df['A'] = df['z'].apply(lambda x: a_map[x])\n",
    "df.head()"
   ]
  },
  {
   "cell_type": "code",
   "execution_count": 16,
   "id": "83bd2e79",
   "metadata": {},
   "outputs": [
    {
     "data": {
      "text/html": [
       "<div>\n",
       "<style scoped>\n",
       "    .dataframe tbody tr th:only-of-type {\n",
       "        vertical-align: middle;\n",
       "    }\n",
       "\n",
       "    .dataframe tbody tr th {\n",
       "        vertical-align: top;\n",
       "    }\n",
       "\n",
       "    .dataframe thead th {\n",
       "        text-align: right;\n",
       "    }\n",
       "</style>\n",
       "<table border=\"1\" class=\"dataframe\">\n",
       "  <thead>\n",
       "    <tr style=\"text-align: right;\">\n",
       "      <th></th>\n",
       "      <th></th>\n",
       "      <th>X1</th>\n",
       "      <th>X2</th>\n",
       "      <th>z</th>\n",
       "    </tr>\n",
       "    <tr>\n",
       "      <th>A</th>\n",
       "      <th>Y</th>\n",
       "      <th></th>\n",
       "      <th></th>\n",
       "      <th></th>\n",
       "    </tr>\n",
       "  </thead>\n",
       "  <tbody>\n",
       "    <tr>\n",
       "      <th rowspan=\"2\" valign=\"top\">0</th>\n",
       "      <th>0</th>\n",
       "      <td>261</td>\n",
       "      <td>261</td>\n",
       "      <td>261</td>\n",
       "    </tr>\n",
       "    <tr>\n",
       "      <th>1</th>\n",
       "      <td>201</td>\n",
       "      <td>201</td>\n",
       "      <td>201</td>\n",
       "    </tr>\n",
       "    <tr>\n",
       "      <th rowspan=\"2\" valign=\"top\">1</th>\n",
       "      <th>0</th>\n",
       "      <td>547</td>\n",
       "      <td>547</td>\n",
       "      <td>547</td>\n",
       "    </tr>\n",
       "    <tr>\n",
       "      <th>1</th>\n",
       "      <td>408</td>\n",
       "      <td>408</td>\n",
       "      <td>408</td>\n",
       "    </tr>\n",
       "  </tbody>\n",
       "</table>\n",
       "</div>"
      ],
      "text/plain": [
       "      X1   X2    z\n",
       "A Y               \n",
       "0 0  261  261  261\n",
       "  1  201  201  201\n",
       "1 0  547  547  547\n",
       "  1  408  408  408"
      ]
     },
     "execution_count": 16,
     "metadata": {},
     "output_type": "execute_result"
    }
   ],
   "source": [
    "df.groupby(by=['A', 'Y']).count()"
   ]
  },
  {
   "cell_type": "code",
   "execution_count": null,
   "id": "fc45ef94",
   "metadata": {},
   "outputs": [],
   "source": []
  },
  {
   "cell_type": "code",
   "execution_count": 9,
   "id": "be24e3f7",
   "metadata": {},
   "outputs": [
    {
     "data": {
      "text/html": [
       "<div>\n",
       "<style scoped>\n",
       "    .dataframe tbody tr th:only-of-type {\n",
       "        vertical-align: middle;\n",
       "    }\n",
       "\n",
       "    .dataframe tbody tr th {\n",
       "        vertical-align: top;\n",
       "    }\n",
       "\n",
       "    .dataframe thead th {\n",
       "        text-align: right;\n",
       "    }\n",
       "</style>\n",
       "<table border=\"1\" class=\"dataframe\">\n",
       "  <thead>\n",
       "    <tr style=\"text-align: right;\">\n",
       "      <th></th>\n",
       "      <th></th>\n",
       "      <th>X1</th>\n",
       "      <th>X2</th>\n",
       "      <th>Y_prob</th>\n",
       "    </tr>\n",
       "    <tr>\n",
       "      <th>A</th>\n",
       "      <th>Y</th>\n",
       "      <th></th>\n",
       "      <th></th>\n",
       "      <th></th>\n",
       "    </tr>\n",
       "  </thead>\n",
       "  <tbody>\n",
       "    <tr>\n",
       "      <th rowspan=\"2\" valign=\"top\">0.0</th>\n",
       "      <th>0.0</th>\n",
       "      <td>1564</td>\n",
       "      <td>1564</td>\n",
       "      <td>1564</td>\n",
       "    </tr>\n",
       "    <tr>\n",
       "      <th>1.0</th>\n",
       "      <td>436</td>\n",
       "      <td>436</td>\n",
       "      <td>436</td>\n",
       "    </tr>\n",
       "    <tr>\n",
       "      <th rowspan=\"2\" valign=\"top\">1.0</th>\n",
       "      <th>0.0</th>\n",
       "      <td>4939</td>\n",
       "      <td>4939</td>\n",
       "      <td>4939</td>\n",
       "    </tr>\n",
       "    <tr>\n",
       "      <th>1.0</th>\n",
       "      <td>3061</td>\n",
       "      <td>3061</td>\n",
       "      <td>3061</td>\n",
       "    </tr>\n",
       "  </tbody>\n",
       "</table>\n",
       "</div>"
      ],
      "text/plain": [
       "           X1    X2  Y_prob\n",
       "A   Y                      \n",
       "0.0 0.0  1564  1564    1564\n",
       "    1.0   436   436     436\n",
       "1.0 0.0  4939  4939    4939\n",
       "    1.0  3061  3061    3061"
      ]
     },
     "execution_count": 9,
     "metadata": {},
     "output_type": "execute_result"
    }
   ],
   "source": [
    "sample_df.groupby(by=['A', 'Y']).count()"
   ]
  },
  {
   "cell_type": "code",
   "execution_count": 10,
   "id": "2176a73f",
   "metadata": {},
   "outputs": [
    {
     "data": {
      "text/plain": [
       "(0.375, 0.2)"
      ]
     },
     "execution_count": 10,
     "metadata": {},
     "output_type": "execute_result"
    }
   ],
   "source": [
    "3/8, 1/5"
   ]
  },
  {
   "cell_type": "code",
   "execution_count": 11,
   "id": "59b8d95b",
   "metadata": {},
   "outputs": [
    {
     "data": {
      "text/plain": [
       "0.5333333333333333"
      ]
     },
     "execution_count": 11,
     "metadata": {},
     "output_type": "execute_result"
    }
   ],
   "source": [
    "0.2/0.375"
   ]
  },
  {
   "cell_type": "code",
   "execution_count": null,
   "id": "ca6a58ea",
   "metadata": {},
   "outputs": [],
   "source": [
    "0.2/0.8"
   ]
  },
  {
   "cell_type": "code",
   "execution_count": null,
   "id": "81b60b6f",
   "metadata": {},
   "outputs": [],
   "source": []
  }
 ],
 "metadata": {
  "kernelspec": {
   "display_name": "Python 3 (ipykernel)",
   "language": "python",
   "name": "python3"
  },
  "language_info": {
   "codemirror_mode": {
    "name": "ipython",
    "version": 3
   },
   "file_extension": ".py",
   "mimetype": "text/x-python",
   "name": "python",
   "nbconvert_exporter": "python",
   "pygments_lexer": "ipython3",
   "version": "3.7.0"
  }
 },
 "nbformat": 4,
 "nbformat_minor": 5
}
