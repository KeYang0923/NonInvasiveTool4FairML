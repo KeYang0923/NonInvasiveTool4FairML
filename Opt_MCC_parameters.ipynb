{
 "cells": [
  {
   "cell_type": "code",
   "execution_count": 1,
   "id": "c0844bd6",
   "metadata": {},
   "outputs": [],
   "source": [
    "import warnings\n",
    "import numpy as np\n",
    "import pandas as pd\n",
    "import os, json\n",
    "# from sklearn.neighbors import KernelDensity\n",
    "# import prose.datainsights as di\n",
    "\n",
    "from joblib import load\n",
    "from sklearn.metrics import confusion_matrix, accuracy_score, roc_auc_score\n",
    "from scripts.TrainMLModels import read_json, generate_model_predictions, save_json\n",
    "\n",
    "warnings.filterwarnings('ignore')"
   ]
  },
  {
   "cell_type": "code",
   "execution_count": 2,
   "id": "fe319037",
   "metadata": {},
   "outputs": [
    {
     "data": {
      "text/html": [
       "<div>\n",
       "<style scoped>\n",
       "    .dataframe tbody tr th:only-of-type {\n",
       "        vertical-align: middle;\n",
       "    }\n",
       "\n",
       "    .dataframe tbody tr th {\n",
       "        vertical-align: top;\n",
       "    }\n",
       "\n",
       "    .dataframe thead th {\n",
       "        text-align: right;\n",
       "    }\n",
       "</style>\n",
       "<table border=\"1\" class=\"dataframe\">\n",
       "  <thead>\n",
       "    <tr style=\"text-align: right;\">\n",
       "      <th></th>\n",
       "      <th>X1</th>\n",
       "      <th>X2</th>\n",
       "      <th>X3</th>\n",
       "      <th>X4</th>\n",
       "      <th>X5</th>\n",
       "      <th>X6</th>\n",
       "      <th>X7</th>\n",
       "      <th>X8</th>\n",
       "      <th>X9</th>\n",
       "      <th>X10</th>\n",
       "      <th>...</th>\n",
       "      <th>X15</th>\n",
       "      <th>X16</th>\n",
       "      <th>X17</th>\n",
       "      <th>X18</th>\n",
       "      <th>Y</th>\n",
       "      <th>A</th>\n",
       "      <th>vio_G0_L0</th>\n",
       "      <th>vio_G0_L1</th>\n",
       "      <th>vio_G1_L0</th>\n",
       "      <th>vio_G1_L1</th>\n",
       "    </tr>\n",
       "  </thead>\n",
       "  <tbody>\n",
       "    <tr>\n",
       "      <th>0</th>\n",
       "      <td>61.0</td>\n",
       "      <td>16.0</td>\n",
       "      <td>0.0</td>\n",
       "      <td>10800.0</td>\n",
       "      <td>2.0</td>\n",
       "      <td>1.0</td>\n",
       "      <td>5.0</td>\n",
       "      <td>1.0</td>\n",
       "      <td>6.0</td>\n",
       "      <td>2.0</td>\n",
       "      <td>...</td>\n",
       "      <td>6.0</td>\n",
       "      <td>1.0</td>\n",
       "      <td>2.0</td>\n",
       "      <td>1.0</td>\n",
       "      <td>1</td>\n",
       "      <td>0</td>\n",
       "      <td>0.330582</td>\n",
       "      <td>0.000000</td>\n",
       "      <td>0.318309</td>\n",
       "      <td>0.242961</td>\n",
       "    </tr>\n",
       "    <tr>\n",
       "      <th>1</th>\n",
       "      <td>19.0</td>\n",
       "      <td>18.0</td>\n",
       "      <td>0.0</td>\n",
       "      <td>12600.0</td>\n",
       "      <td>1.0</td>\n",
       "      <td>2.0</td>\n",
       "      <td>5.0</td>\n",
       "      <td>1.0</td>\n",
       "      <td>1.0</td>\n",
       "      <td>2.0</td>\n",
       "      <td>...</td>\n",
       "      <td>6.0</td>\n",
       "      <td>1.0</td>\n",
       "      <td>2.0</td>\n",
       "      <td>2.0</td>\n",
       "      <td>0</td>\n",
       "      <td>1</td>\n",
       "      <td>0.000000</td>\n",
       "      <td>0.221618</td>\n",
       "      <td>0.178414</td>\n",
       "      <td>0.297738</td>\n",
       "    </tr>\n",
       "    <tr>\n",
       "      <th>2</th>\n",
       "      <td>26.0</td>\n",
       "      <td>19.0</td>\n",
       "      <td>0.0</td>\n",
       "      <td>20000.0</td>\n",
       "      <td>1.0</td>\n",
       "      <td>2.0</td>\n",
       "      <td>5.0</td>\n",
       "      <td>1.0</td>\n",
       "      <td>1.0</td>\n",
       "      <td>2.0</td>\n",
       "      <td>...</td>\n",
       "      <td>6.0</td>\n",
       "      <td>3.0</td>\n",
       "      <td>2.0</td>\n",
       "      <td>2.0</td>\n",
       "      <td>0</td>\n",
       "      <td>1</td>\n",
       "      <td>0.240552</td>\n",
       "      <td>0.247406</td>\n",
       "      <td>0.277767</td>\n",
       "      <td>0.265947</td>\n",
       "    </tr>\n",
       "    <tr>\n",
       "      <th>3</th>\n",
       "      <td>16.0</td>\n",
       "      <td>12.0</td>\n",
       "      <td>1.0</td>\n",
       "      <td>0.0</td>\n",
       "      <td>1.0</td>\n",
       "      <td>1.0</td>\n",
       "      <td>5.0</td>\n",
       "      <td>1.0</td>\n",
       "      <td>6.0</td>\n",
       "      <td>2.0</td>\n",
       "      <td>...</td>\n",
       "      <td>6.0</td>\n",
       "      <td>1.0</td>\n",
       "      <td>2.0</td>\n",
       "      <td>2.0</td>\n",
       "      <td>0</td>\n",
       "      <td>1</td>\n",
       "      <td>0.000000</td>\n",
       "      <td>0.063247</td>\n",
       "      <td>0.000000</td>\n",
       "      <td>0.000000</td>\n",
       "    </tr>\n",
       "    <tr>\n",
       "      <th>4</th>\n",
       "      <td>27.0</td>\n",
       "      <td>16.0</td>\n",
       "      <td>0.0</td>\n",
       "      <td>0.0</td>\n",
       "      <td>2.0</td>\n",
       "      <td>1.0</td>\n",
       "      <td>5.0</td>\n",
       "      <td>1.0</td>\n",
       "      <td>6.0</td>\n",
       "      <td>2.0</td>\n",
       "      <td>...</td>\n",
       "      <td>6.0</td>\n",
       "      <td>1.0</td>\n",
       "      <td>2.0</td>\n",
       "      <td>2.0</td>\n",
       "      <td>0</td>\n",
       "      <td>0</td>\n",
       "      <td>0.000000</td>\n",
       "      <td>0.000000</td>\n",
       "      <td>0.000000</td>\n",
       "      <td>0.000000</td>\n",
       "    </tr>\n",
       "  </tbody>\n",
       "</table>\n",
       "<p>5 rows × 24 columns</p>\n",
       "</div>"
      ],
      "text/plain": [
       "     X1    X2   X3       X4   X5   X6   X7   X8   X9  X10  ...  X15  X16  X17  \\\n",
       "0  61.0  16.0  0.0  10800.0  2.0  1.0  5.0  1.0  6.0  2.0  ...  6.0  1.0  2.0   \n",
       "1  19.0  18.0  0.0  12600.0  1.0  2.0  5.0  1.0  1.0  2.0  ...  6.0  1.0  2.0   \n",
       "2  26.0  19.0  0.0  20000.0  1.0  2.0  5.0  1.0  1.0  2.0  ...  6.0  3.0  2.0   \n",
       "3  16.0  12.0  1.0      0.0  1.0  1.0  5.0  1.0  6.0  2.0  ...  6.0  1.0  2.0   \n",
       "4  27.0  16.0  0.0      0.0  2.0  1.0  5.0  1.0  6.0  2.0  ...  6.0  1.0  2.0   \n",
       "\n",
       "   X18  Y  A  vio_G0_L0  vio_G0_L1  vio_G1_L0  vio_G1_L1  \n",
       "0  1.0  1  0   0.330582   0.000000   0.318309   0.242961  \n",
       "1  2.0  0  1   0.000000   0.221618   0.178414   0.297738  \n",
       "2  2.0  0  1   0.240552   0.247406   0.277767   0.265947  \n",
       "3  2.0  0  1   0.000000   0.063247   0.000000   0.000000  \n",
       "4  2.0  0  0   0.000000   0.000000   0.000000   0.000000  \n",
       "\n",
       "[5 rows x 24 columns]"
      ]
     },
     "execution_count": 2,
     "metadata": {},
     "output_type": "execute_result"
    }
   ],
   "source": [
    "data_name = 'ACSP'\n",
    "\n",
    "seed = 1\n",
    "cur_dir = 'intermediate/models/' + data_name + '/'\n",
    "\n",
    "test_df = pd.read_csv(cur_dir + '-'.join(['test_vio', str(seed)]) + '.csv')\n",
    "test_df.head()"
   ]
  },
  {
   "cell_type": "code",
   "execution_count": 3,
   "id": "5fc9f192",
   "metadata": {},
   "outputs": [],
   "source": [
    "def assign_pred_mcc(x, n_vio=4): # assign prediction based on minimal violation\n",
    "    violations = [x.iloc[i] for i in range(n_vio)]\n",
    "    # pred_index = violations.index(min(violations))\n",
    "    if (violations[0] + violations[1]) < (violations[2] + violations[3]):\n",
    "        return x.iloc[n_vio]\n",
    "    else:\n",
    "        return x.iloc[n_vio+1]\n",
    "\n",
    "def assign_pred_mcc_min(x, n_vio=4): # assign prediction based on minimal violation\n",
    "    violations = [x.iloc[i] for i in range(n_vio)]\n",
    "    pred_index = violations.index(min(violations))\n",
    "    if pred_index <= 1:\n",
    "        return x.iloc[n_vio]\n",
    "    else:\n",
    "        return x.iloc[n_vio+1]\n",
    "def assign_pred_sensi(x): # assign prediction based on the group membership of sensitive attribute\n",
    "    if x.iloc[0]: # sensi_col == 1, majority group\n",
    "        return x.iloc[2]\n",
    "    else:\n",
    "        return x.iloc[1]"
   ]
  },
  {
   "cell_type": "code",
   "execution_count": 4,
   "id": "eb37484a",
   "metadata": {},
   "outputs": [
    {
     "name": "stdout",
     "output_type": "stream",
     "text": [
      "Threshold 0.37626262626262624\n"
     ]
    }
   ],
   "source": [
    "vio_cols = ['vio_G{}_L{}'.format(group_i, label_i) for group_i in range(2) for label_i in range(2)]\n",
    "y_col='Y'\n",
    "sensi_col='A'\n",
    "set_suffix = 'S_1'\n",
    "\n",
    "features = [x for x in test_df.columns if x != y_col]\n",
    "\n",
    "test_data = test_df[features]\n",
    "opt_thres = read_json('{}thres-{}.json'.format(cur_dir, seed))['thres']\n",
    "print('Threshold', opt_thres)\n",
    "for group_suffix in [None, 'G0', 'G1']:\n",
    "    if group_suffix is None:\n",
    "        model = load('{}model-{}-{}.joblib'.format(cur_dir, seed, set_suffix))\n",
    "        pred_col = 'Y_pred'\n",
    "#         thres_key = 'thres'\n",
    "    else:\n",
    "        model = load('{}model-{}-{}-{}.joblib'.format(cur_dir, seed, group_suffix, set_suffix))\n",
    "        pred_col = 'Y_pred_' + group_suffix\n",
    "#         thres_key = 'thres_' + group_suffix[0].lower() + group_suffix[1]\n",
    "   \n",
    "    test_df[pred_col] = generate_model_predictions(model, test_data) #opt_thres[thres_key]\n",
    "\n",
    "\n"
   ]
  },
  {
   "cell_type": "code",
   "execution_count": 5,
   "id": "3bc1b82a",
   "metadata": {},
   "outputs": [
    {
     "data": {
      "text/html": [
       "<div>\n",
       "<style scoped>\n",
       "    .dataframe tbody tr th:only-of-type {\n",
       "        vertical-align: middle;\n",
       "    }\n",
       "\n",
       "    .dataframe tbody tr th {\n",
       "        vertical-align: top;\n",
       "    }\n",
       "\n",
       "    .dataframe thead th {\n",
       "        text-align: right;\n",
       "    }\n",
       "</style>\n",
       "<table border=\"1\" class=\"dataframe\">\n",
       "  <thead>\n",
       "    <tr style=\"text-align: right;\">\n",
       "      <th></th>\n",
       "      <th>X1</th>\n",
       "      <th>X2</th>\n",
       "      <th>X3</th>\n",
       "      <th>X4</th>\n",
       "      <th>X5</th>\n",
       "      <th>X6</th>\n",
       "      <th>X7</th>\n",
       "      <th>X8</th>\n",
       "      <th>X9</th>\n",
       "      <th>X10</th>\n",
       "      <th>...</th>\n",
       "      <th>X18</th>\n",
       "      <th>Y</th>\n",
       "      <th>A</th>\n",
       "      <th>vio_G0_L0</th>\n",
       "      <th>vio_G0_L1</th>\n",
       "      <th>vio_G1_L0</th>\n",
       "      <th>vio_G1_L1</th>\n",
       "      <th>Y_pred</th>\n",
       "      <th>Y_pred_G0</th>\n",
       "      <th>Y_pred_G1</th>\n",
       "    </tr>\n",
       "  </thead>\n",
       "  <tbody>\n",
       "    <tr>\n",
       "      <th>0</th>\n",
       "      <td>61.0</td>\n",
       "      <td>16.0</td>\n",
       "      <td>0.0</td>\n",
       "      <td>10800.0</td>\n",
       "      <td>2.0</td>\n",
       "      <td>1.0</td>\n",
       "      <td>5.0</td>\n",
       "      <td>1.0</td>\n",
       "      <td>6.0</td>\n",
       "      <td>2.0</td>\n",
       "      <td>...</td>\n",
       "      <td>1.0</td>\n",
       "      <td>1</td>\n",
       "      <td>0</td>\n",
       "      <td>0.330582</td>\n",
       "      <td>0.000000</td>\n",
       "      <td>0.318309</td>\n",
       "      <td>0.242961</td>\n",
       "      <td>0.837568</td>\n",
       "      <td>0.892331</td>\n",
       "      <td>0.810364</td>\n",
       "    </tr>\n",
       "    <tr>\n",
       "      <th>1</th>\n",
       "      <td>19.0</td>\n",
       "      <td>18.0</td>\n",
       "      <td>0.0</td>\n",
       "      <td>12600.0</td>\n",
       "      <td>1.0</td>\n",
       "      <td>2.0</td>\n",
       "      <td>5.0</td>\n",
       "      <td>1.0</td>\n",
       "      <td>1.0</td>\n",
       "      <td>2.0</td>\n",
       "      <td>...</td>\n",
       "      <td>2.0</td>\n",
       "      <td>0</td>\n",
       "      <td>1</td>\n",
       "      <td>0.000000</td>\n",
       "      <td>0.221618</td>\n",
       "      <td>0.178414</td>\n",
       "      <td>0.297738</td>\n",
       "      <td>0.218739</td>\n",
       "      <td>0.254549</td>\n",
       "      <td>0.247777</td>\n",
       "    </tr>\n",
       "    <tr>\n",
       "      <th>2</th>\n",
       "      <td>26.0</td>\n",
       "      <td>19.0</td>\n",
       "      <td>0.0</td>\n",
       "      <td>20000.0</td>\n",
       "      <td>1.0</td>\n",
       "      <td>2.0</td>\n",
       "      <td>5.0</td>\n",
       "      <td>1.0</td>\n",
       "      <td>1.0</td>\n",
       "      <td>2.0</td>\n",
       "      <td>...</td>\n",
       "      <td>2.0</td>\n",
       "      <td>0</td>\n",
       "      <td>1</td>\n",
       "      <td>0.240552</td>\n",
       "      <td>0.247406</td>\n",
       "      <td>0.277767</td>\n",
       "      <td>0.265947</td>\n",
       "      <td>0.240944</td>\n",
       "      <td>0.292561</td>\n",
       "      <td>0.265350</td>\n",
       "    </tr>\n",
       "    <tr>\n",
       "      <th>3</th>\n",
       "      <td>16.0</td>\n",
       "      <td>12.0</td>\n",
       "      <td>1.0</td>\n",
       "      <td>0.0</td>\n",
       "      <td>1.0</td>\n",
       "      <td>1.0</td>\n",
       "      <td>5.0</td>\n",
       "      <td>1.0</td>\n",
       "      <td>6.0</td>\n",
       "      <td>2.0</td>\n",
       "      <td>...</td>\n",
       "      <td>2.0</td>\n",
       "      <td>0</td>\n",
       "      <td>1</td>\n",
       "      <td>0.000000</td>\n",
       "      <td>0.063247</td>\n",
       "      <td>0.000000</td>\n",
       "      <td>0.000000</td>\n",
       "      <td>0.416222</td>\n",
       "      <td>0.537901</td>\n",
       "      <td>0.457725</td>\n",
       "    </tr>\n",
       "    <tr>\n",
       "      <th>4</th>\n",
       "      <td>27.0</td>\n",
       "      <td>16.0</td>\n",
       "      <td>0.0</td>\n",
       "      <td>0.0</td>\n",
       "      <td>2.0</td>\n",
       "      <td>1.0</td>\n",
       "      <td>5.0</td>\n",
       "      <td>1.0</td>\n",
       "      <td>6.0</td>\n",
       "      <td>2.0</td>\n",
       "      <td>...</td>\n",
       "      <td>2.0</td>\n",
       "      <td>0</td>\n",
       "      <td>0</td>\n",
       "      <td>0.000000</td>\n",
       "      <td>0.000000</td>\n",
       "      <td>0.000000</td>\n",
       "      <td>0.000000</td>\n",
       "      <td>0.543154</td>\n",
       "      <td>0.598563</td>\n",
       "      <td>0.470736</td>\n",
       "    </tr>\n",
       "  </tbody>\n",
       "</table>\n",
       "<p>5 rows × 27 columns</p>\n",
       "</div>"
      ],
      "text/plain": [
       "     X1    X2   X3       X4   X5   X6   X7   X8   X9  X10  ...  X18  Y  A  \\\n",
       "0  61.0  16.0  0.0  10800.0  2.0  1.0  5.0  1.0  6.0  2.0  ...  1.0  1  0   \n",
       "1  19.0  18.0  0.0  12600.0  1.0  2.0  5.0  1.0  1.0  2.0  ...  2.0  0  1   \n",
       "2  26.0  19.0  0.0  20000.0  1.0  2.0  5.0  1.0  1.0  2.0  ...  2.0  0  1   \n",
       "3  16.0  12.0  1.0      0.0  1.0  1.0  5.0  1.0  6.0  2.0  ...  2.0  0  1   \n",
       "4  27.0  16.0  0.0      0.0  2.0  1.0  5.0  1.0  6.0  2.0  ...  2.0  0  0   \n",
       "\n",
       "   vio_G0_L0  vio_G0_L1  vio_G1_L0  vio_G1_L1    Y_pred  Y_pred_G0  Y_pred_G1  \n",
       "0   0.330582   0.000000   0.318309   0.242961  0.837568   0.892331   0.810364  \n",
       "1   0.000000   0.221618   0.178414   0.297738  0.218739   0.254549   0.247777  \n",
       "2   0.240552   0.247406   0.277767   0.265947  0.240944   0.292561   0.265350  \n",
       "3   0.000000   0.063247   0.000000   0.000000  0.416222   0.537901   0.457725  \n",
       "4   0.000000   0.000000   0.000000   0.000000  0.543154   0.598563   0.470736  \n",
       "\n",
       "[5 rows x 27 columns]"
      ]
     },
     "execution_count": 5,
     "metadata": {},
     "output_type": "execute_result"
    }
   ],
   "source": [
    "test_df.head()"
   ]
  },
  {
   "cell_type": "code",
   "execution_count": 6,
   "id": "6b9e9874",
   "metadata": {},
   "outputs": [],
   "source": [
    "def assign_pred_mcc_weight_two(x, n_vio=4): # assign prediction based on minimal violation\n",
    "    weight_g1 = 1- min(x.iloc[2], x.iloc[3])\n",
    "    weight_g0 = 1- min(x.iloc[0], x.iloc[1])\n",
    "    norm_base = weight_g1 + weight_g0\n",
    "    return weight_g0/norm_base * x.iloc[n_vio] + weight_g1/norm_base * x.iloc[n_vio+1]"
   ]
  },
  {
   "cell_type": "code",
   "execution_count": 7,
   "id": "48f018f0",
   "metadata": {},
   "outputs": [],
   "source": [
    "def assign_pred_mcc_weight(x, n_vio=4): # assign prediction based on minimal violation\n",
    "    vio = [1- x.iloc[i] for i in range(n_vio)]\n",
    "    norm_base = sum(vio)\n",
    "    return vio[0]/norm_base * (1- x.iloc[n_vio]) + vio[1]/norm_base * x.iloc[n_vio] + vio[2]/norm_base * (1- x.iloc[n_vio+1]) + vio[3]/norm_base * x.iloc[n_vio+1]"
   ]
  },
  {
   "cell_type": "code",
   "execution_count": 8,
   "id": "a20a1c3b",
   "metadata": {},
   "outputs": [],
   "source": [
    "test_df['Y_pred_mcc_w2'] = test_df[vio_cols + ['Y_pred_G0', 'Y_pred_G1']].apply(lambda x: assign_pred_mcc_weight_two(x), axis=1)\n"
   ]
  },
  {
   "cell_type": "code",
   "execution_count": 9,
   "id": "7ade290c",
   "metadata": {},
   "outputs": [],
   "source": [
    "test_df['Y_pred_mcc_w'] = test_df[vio_cols + ['Y_pred_G0', 'Y_pred_G1']].apply(lambda x: assign_pred_mcc_weight(x), axis=1)\n"
   ]
  },
  {
   "cell_type": "code",
   "execution_count": 10,
   "id": "0447ccd0",
   "metadata": {},
   "outputs": [],
   "source": [
    "test_df['Y_pred_mcc'] = test_df[vio_cols + ['Y_pred_G0', 'Y_pred_G1']].apply(lambda x: assign_pred_mcc_min(x), axis=1)\n",
    "test_df['Y_pred_sensi'] = test_df[[sensi_col, 'Y_pred_G0', 'Y_pred_G1']].apply(lambda x: assign_pred_sensi(x), axis=1)"
   ]
  },
  {
   "cell_type": "code",
   "execution_count": 11,
   "id": "78d5ab5b",
   "metadata": {},
   "outputs": [],
   "source": [
    "test_df['Y_pred_W2'] = test_df['Y_pred_mcc_w2'].apply(lambda x: int(x > opt_thres))\n",
    "test_df['Y_pred_A'] = test_df['Y_pred_sensi'].apply(lambda x: int(x > opt_thres))\n",
    "test_df['Y_pred_O'] = test_df['Y_pred'].apply(lambda x: int(x > opt_thres))"
   ]
  },
  {
   "cell_type": "code",
   "execution_count": 12,
   "id": "195b1cdb",
   "metadata": {},
   "outputs": [],
   "source": [
    "test_df['Y_pred_W'] = test_df['Y_pred_mcc_w'].apply(lambda x: int(x > opt_thres))\n",
    "test_df['Y_pred_M'] = test_df['Y_pred_mcc'].apply(lambda x: int(x > opt_thres))"
   ]
  },
  {
   "cell_type": "code",
   "execution_count": 13,
   "id": "2911daa2",
   "metadata": {},
   "outputs": [
    {
     "data": {
      "text/html": [
       "<div>\n",
       "<style scoped>\n",
       "    .dataframe tbody tr th:only-of-type {\n",
       "        vertical-align: middle;\n",
       "    }\n",
       "\n",
       "    .dataframe tbody tr th {\n",
       "        vertical-align: top;\n",
       "    }\n",
       "\n",
       "    .dataframe thead th {\n",
       "        text-align: right;\n",
       "    }\n",
       "</style>\n",
       "<table border=\"1\" class=\"dataframe\">\n",
       "  <thead>\n",
       "    <tr style=\"text-align: right;\">\n",
       "      <th></th>\n",
       "      <th>X1</th>\n",
       "      <th>X2</th>\n",
       "      <th>X3</th>\n",
       "      <th>X4</th>\n",
       "      <th>X5</th>\n",
       "      <th>X6</th>\n",
       "      <th>X7</th>\n",
       "      <th>X8</th>\n",
       "      <th>X9</th>\n",
       "      <th>X10</th>\n",
       "      <th>...</th>\n",
       "      <th>Y_pred_G1</th>\n",
       "      <th>Y_pred_mcc_w2</th>\n",
       "      <th>Y_pred_mcc_w</th>\n",
       "      <th>Y_pred_mcc</th>\n",
       "      <th>Y_pred_sensi</th>\n",
       "      <th>Y_pred_W2</th>\n",
       "      <th>Y_pred_A</th>\n",
       "      <th>Y_pred_O</th>\n",
       "      <th>Y_pred_W</th>\n",
       "      <th>Y_pred_M</th>\n",
       "    </tr>\n",
       "  </thead>\n",
       "  <tbody>\n",
       "    <tr>\n",
       "      <th>0</th>\n",
       "      <td>61.0</td>\n",
       "      <td>16.0</td>\n",
       "      <td>0.0</td>\n",
       "      <td>10800.0</td>\n",
       "      <td>2.0</td>\n",
       "      <td>1.0</td>\n",
       "      <td>5.0</td>\n",
       "      <td>1.0</td>\n",
       "      <td>6.0</td>\n",
       "      <td>2.0</td>\n",
       "      <td>...</td>\n",
       "      <td>0.810364</td>\n",
       "      <td>0.857014</td>\n",
       "      <td>0.549252</td>\n",
       "      <td>0.892331</td>\n",
       "      <td>0.892331</td>\n",
       "      <td>1</td>\n",
       "      <td>1</td>\n",
       "      <td>1</td>\n",
       "      <td>1</td>\n",
       "      <td>1</td>\n",
       "    </tr>\n",
       "    <tr>\n",
       "      <th>1</th>\n",
       "      <td>19.0</td>\n",
       "      <td>18.0</td>\n",
       "      <td>0.0</td>\n",
       "      <td>12600.0</td>\n",
       "      <td>1.0</td>\n",
       "      <td>2.0</td>\n",
       "      <td>5.0</td>\n",
       "      <td>1.0</td>\n",
       "      <td>1.0</td>\n",
       "      <td>2.0</td>\n",
       "      <td>...</td>\n",
       "      <td>0.247777</td>\n",
       "      <td>0.251494</td>\n",
       "      <td>0.525587</td>\n",
       "      <td>0.254549</td>\n",
       "      <td>0.247777</td>\n",
       "      <td>0</td>\n",
       "      <td>0</td>\n",
       "      <td>0</td>\n",
       "      <td>1</td>\n",
       "      <td>0</td>\n",
       "    </tr>\n",
       "    <tr>\n",
       "      <th>2</th>\n",
       "      <td>26.0</td>\n",
       "      <td>19.0</td>\n",
       "      <td>0.0</td>\n",
       "      <td>20000.0</td>\n",
       "      <td>1.0</td>\n",
       "      <td>2.0</td>\n",
       "      <td>5.0</td>\n",
       "      <td>1.0</td>\n",
       "      <td>1.0</td>\n",
       "      <td>2.0</td>\n",
       "      <td>...</td>\n",
       "      <td>0.265350</td>\n",
       "      <td>0.279187</td>\n",
       "      <td>0.499545</td>\n",
       "      <td>0.292561</td>\n",
       "      <td>0.265350</td>\n",
       "      <td>0</td>\n",
       "      <td>0</td>\n",
       "      <td>0</td>\n",
       "      <td>1</td>\n",
       "      <td>0</td>\n",
       "    </tr>\n",
       "    <tr>\n",
       "      <th>3</th>\n",
       "      <td>16.0</td>\n",
       "      <td>12.0</td>\n",
       "      <td>1.0</td>\n",
       "      <td>0.0</td>\n",
       "      <td>1.0</td>\n",
       "      <td>1.0</td>\n",
       "      <td>5.0</td>\n",
       "      <td>1.0</td>\n",
       "      <td>6.0</td>\n",
       "      <td>2.0</td>\n",
       "      <td>...</td>\n",
       "      <td>0.457725</td>\n",
       "      <td>0.497813</td>\n",
       "      <td>0.499391</td>\n",
       "      <td>0.537901</td>\n",
       "      <td>0.457725</td>\n",
       "      <td>1</td>\n",
       "      <td>1</td>\n",
       "      <td>1</td>\n",
       "      <td>1</td>\n",
       "      <td>1</td>\n",
       "    </tr>\n",
       "    <tr>\n",
       "      <th>4</th>\n",
       "      <td>27.0</td>\n",
       "      <td>16.0</td>\n",
       "      <td>0.0</td>\n",
       "      <td>0.0</td>\n",
       "      <td>2.0</td>\n",
       "      <td>1.0</td>\n",
       "      <td>5.0</td>\n",
       "      <td>1.0</td>\n",
       "      <td>6.0</td>\n",
       "      <td>2.0</td>\n",
       "      <td>...</td>\n",
       "      <td>0.470736</td>\n",
       "      <td>0.534650</td>\n",
       "      <td>0.500000</td>\n",
       "      <td>0.598563</td>\n",
       "      <td>0.598563</td>\n",
       "      <td>1</td>\n",
       "      <td>1</td>\n",
       "      <td>1</td>\n",
       "      <td>1</td>\n",
       "      <td>1</td>\n",
       "    </tr>\n",
       "  </tbody>\n",
       "</table>\n",
       "<p>5 rows × 36 columns</p>\n",
       "</div>"
      ],
      "text/plain": [
       "     X1    X2   X3       X4   X5   X6   X7   X8   X9  X10  ...  Y_pred_G1  \\\n",
       "0  61.0  16.0  0.0  10800.0  2.0  1.0  5.0  1.0  6.0  2.0  ...   0.810364   \n",
       "1  19.0  18.0  0.0  12600.0  1.0  2.0  5.0  1.0  1.0  2.0  ...   0.247777   \n",
       "2  26.0  19.0  0.0  20000.0  1.0  2.0  5.0  1.0  1.0  2.0  ...   0.265350   \n",
       "3  16.0  12.0  1.0      0.0  1.0  1.0  5.0  1.0  6.0  2.0  ...   0.457725   \n",
       "4  27.0  16.0  0.0      0.0  2.0  1.0  5.0  1.0  6.0  2.0  ...   0.470736   \n",
       "\n",
       "   Y_pred_mcc_w2  Y_pred_mcc_w  Y_pred_mcc  Y_pred_sensi  Y_pred_W2  Y_pred_A  \\\n",
       "0       0.857014      0.549252    0.892331      0.892331          1         1   \n",
       "1       0.251494      0.525587    0.254549      0.247777          0         0   \n",
       "2       0.279187      0.499545    0.292561      0.265350          0         0   \n",
       "3       0.497813      0.499391    0.537901      0.457725          1         1   \n",
       "4       0.534650      0.500000    0.598563      0.598563          1         1   \n",
       "\n",
       "   Y_pred_O  Y_pred_W  Y_pred_M  \n",
       "0         1         1         1  \n",
       "1         0         1         0  \n",
       "2         0         1         0  \n",
       "3         1         1         1  \n",
       "4         1         1         1  \n",
       "\n",
       "[5 rows x 36 columns]"
      ]
     },
     "execution_count": 13,
     "metadata": {},
     "output_type": "execute_result"
    }
   ],
   "source": [
    "test_df.head()"
   ]
  },
  {
   "cell_type": "code",
   "execution_count": 14,
   "id": "8415884d",
   "metadata": {},
   "outputs": [],
   "source": [
    "import matplotlib.pyplot as plt\n",
    "import seaborn as sns"
   ]
  },
  {
   "cell_type": "code",
   "execution_count": 15,
   "id": "fe039af0",
   "metadata": {},
   "outputs": [
    {
     "data": {
      "text/plain": [
       "<matplotlib.axes._subplots.AxesSubplot at 0x7fbfb39ce7b8>"
      ]
     },
     "execution_count": 15,
     "metadata": {},
     "output_type": "execute_result"
    },
    {
     "data": {
      "image/png": "[encoded data removed]",
      "text/plain": [
       "<Figure size 432x288 with 1 Axes>"
      ]
     },
     "metadata": {
      "needs_background": "light"
     },
     "output_type": "display_data"
    }
   ],
   "source": [
    "vis_col = 'Y_pred'\n",
    "sns.histplot(x=vis_col, data=test_df, hue='A')"
   ]
  },
  {
   "cell_type": "code",
   "execution_count": 16,
   "id": "b407f644",
   "metadata": {},
   "outputs": [
    {
     "data": {
      "text/plain": [
       "<matplotlib.axes._subplots.AxesSubplot at 0x7fbfa127af60>"
      ]
     },
     "execution_count": 16,
     "metadata": {},
     "output_type": "execute_result"
    },
    {
     "data": {
      "image/png": "[encoded data removed]",
      "text/plain": [
       "<Figure size 432x288 with 1 Axes>"
      ]
     },
     "metadata": {
      "needs_background": "light"
     },
     "output_type": "display_data"
    }
   ],
   "source": [
    "vis_col = 'Y_pred_mcc_w2'\n",
    "sns.histplot(x=vis_col, data=test_df, hue='A')"
   ]
  },
  {
   "cell_type": "code",
   "execution_count": 17,
   "id": "e05c0376",
   "metadata": {},
   "outputs": [
    {
     "data": {
      "text/plain": [
       "<matplotlib.axes._subplots.AxesSubplot at 0x7fbfb3c7c0b8>"
      ]
     },
     "execution_count": 17,
     "metadata": {},
     "output_type": "execute_result"
    },
    {
     "data": {
      "image/png": "[encoded data removed]",
      "text/plain": [
       "<Figure size 432x288 with 1 Axes>"
      ]
     },
     "metadata": {
      "needs_background": "light"
     },
     "output_type": "display_data"
    }
   ],
   "source": [
    "vis_col = 'Y_pred_mcc_w'\n",
    "sns.histplot(x=vis_col, data=test_df, hue='A')"
   ]
  },
  {
   "cell_type": "code",
   "execution_count": 18,
   "id": "d5df9e3c",
   "metadata": {},
   "outputs": [],
   "source": [
    "def compute_bal_acc(y_true, y_pred, label_order=[0, 1]):\n",
    "    TN, FP, FN, TP = confusion_matrix(y_true, y_pred, labels=label_order).ravel()\n",
    "    P = TP + FN\n",
    "    N = TN + FP\n",
    "    TPR = TP / P if P > 0.0 else np.float64(0.0)\n",
    "    TNR = TN / N if N > 0.0 else np.float64(0.0)\n",
    "    return 0.5 * (TPR + TNR)\n",
    "def compute_sr(y_true, y_pred, label_order=[0, 1]):\n",
    "    TN, FP, FN, TP = confusion_matrix(y_true, y_pred, labels=label_order).ravel()\n",
    "    pred_P = TP+FP\n",
    "    P = TP + FN\n",
    "    N = TN + FP\n",
    "    return pred_P / (P+N)\n",
    "def eval_sp(test_eval_df, pred_col, sensi_col='A', n_groups=2):\n",
    "    SR_all = []\n",
    "    for group_i in range(n_groups):\n",
    "        group_df = test_eval_df[test_eval_df[sensi_col] == group_i]\n",
    "        group_sr = compute_sr(group_df['Y'], group_df[pred_col])\n",
    "        SR_all.append(group_sr)\n",
    "\n",
    "    sp_diff = SR_all[0] - SR_all[1]\n",
    "    return sp_diff"
   ]
  },
  {
   "cell_type": "code",
   "execution_count": 19,
   "id": "2bf62b20",
   "metadata": {},
   "outputs": [
    {
     "data": {
      "text/plain": [
       "(0.6488503000777103, 0.4138896649932855)"
      ]
     },
     "execution_count": 19,
     "metadata": {},
     "output_type": "execute_result"
    }
   ],
   "source": [
    "acc_a = compute_bal_acc(test_df['Y'], test_df['Y_pred_O'])\n",
    "sp_a = eval_sp(test_df, 'Y_pred_O')\n",
    "acc_a, sp_a"
   ]
  },
  {
   "cell_type": "code",
   "execution_count": 20,
   "id": "0074aae9",
   "metadata": {},
   "outputs": [
    {
     "data": {
      "text/plain": [
       "(0.652425532737809, 0.2841042880942658)"
      ]
     },
     "execution_count": 20,
     "metadata": {},
     "output_type": "execute_result"
    }
   ],
   "source": [
    "acc_a = compute_bal_acc(test_df['Y'], test_df['Y_pred_A'])\n",
    "sp_a = eval_sp(test_df, 'Y_pred_A')\n",
    "acc_a, sp_a"
   ]
  },
  {
   "cell_type": "code",
   "execution_count": 21,
   "id": "48abdc8f",
   "metadata": {},
   "outputs": [
    {
     "data": {
      "text/plain": [
       "(0.6304971116916057, 0.13079564528015675)"
      ]
     },
     "execution_count": 21,
     "metadata": {},
     "output_type": "execute_result"
    }
   ],
   "source": [
    "acc_a = compute_bal_acc(test_df['Y'], test_df['Y_pred_M'])\n",
    "sp_a = eval_sp(test_df, 'Y_pred_M')\n",
    "acc_a, sp_a"
   ]
  },
  {
   "cell_type": "code",
   "execution_count": 22,
   "id": "335cf80b",
   "metadata": {},
   "outputs": [
    {
     "data": {
      "text/plain": [
       "(0.5, 0.0)"
      ]
     },
     "execution_count": 22,
     "metadata": {},
     "output_type": "execute_result"
    }
   ],
   "source": [
    "acc_a = compute_bal_acc(test_df['Y'], test_df['Y_pred_W'])\n",
    "sp_a = eval_sp(test_df, 'Y_pred_W')\n",
    "acc_a, sp_a"
   ]
  },
  {
   "cell_type": "code",
   "execution_count": 23,
   "id": "8655fee2",
   "metadata": {},
   "outputs": [
    {
     "data": {
      "text/plain": [
       "(0.6269689657611663, 0.1267807782782593)"
      ]
     },
     "execution_count": 23,
     "metadata": {},
     "output_type": "execute_result"
    }
   ],
   "source": [
    "acc_a = compute_bal_acc(test_df['Y'], test_df['Y_pred_W2'])\n",
    "sp_a = eval_sp(test_df, 'Y_pred_W2')\n",
    "acc_a, sp_a"
   ]
  },
  {
   "cell_type": "code",
   "execution_count": null,
   "id": "2cd490c5",
   "metadata": {},
   "outputs": [],
   "source": []
  }
 ],
 "metadata": {
  "kernelspec": {
   "display_name": "Python 3 (ipykernel)",
   "language": "python",
   "name": "python3"
  },
  "language_info": {
   "codemirror_mode": {
    "name": "ipython",
    "version": 3
   },
   "file_extension": ".py",
   "mimetype": "text/x-python",
   "name": "python",
   "nbconvert_exporter": "python",
   "pygments_lexer": "ipython3",
   "version": "3.7.0"
  }
 },
 "nbformat": 4,
 "nbformat_minor": 5
}
